{
 "nbformat": 4,
 "nbformat_minor": 0,
 "metadata": {
  "colab": {
   "provenance": [],
   "toc_visible": true
  },
  "kernelspec": {
   "name": "python3",
   "display_name": "Python 3"
  },
  "language_info": {
   "name": "python"
  }
 },
 "cells": [
  {
   "cell_type": "markdown",
   "source": [
    "# LSTM "
   ],
   "metadata": {
    "id": "kqgz1G8Io0La",
    "pycharm": {
     "name": "#%% md\n"
    }
   }
  },
  {
   "cell_type": "markdown",
   "source": [
    "Resources: \n",
    "\n",
    "http://colah.github.io/posts/2015-08-Understanding-LSTMs/\n",
    "\n",
    "https://medium.com/analytics-vidhya/beginners-guide-to-stock-prediction-using-lstm-7010bf8b8c21\n",
    "\n",
    "https://towardsdatascience.com/deep-learning-model-interpretation-using-shap-a21786e91d16\n",
    "\n",
    "https://machinelearningmastery.com/reshape-input-data-long-short-term-memory-networks-keras/\n",
    "\n",
    "https://github.com/MohammadFneish7/Keras_LSTM_Diagram\n"
   ],
   "metadata": {
    "id": "1J_FgZVhpJZd",
    "pycharm": {
     "name": "#%% md\n"
    }
   }
  },
  {
   "cell_type": "markdown",
   "source": [
    "## Imports"
   ],
   "metadata": {
    "id": "YI35qYb-o667",
    "pycharm": {
     "name": "#%% md\n"
    }
   }
  },
  {
   "cell_type": "markdown",
   "source": [
    "interim"
   ],
   "metadata": {
    "collapsed": false,
    "pycharm": {
     "name": "#%% md\n"
    }
   }
  },
  {
   "cell_type": "code",
   "source": [
    "import os\n",
    "import time\n",
    "import pandas as pd\n",
    "import numpy as np\n",
    "import pickle\n",
    "import shapely\n",
    "import random\n",
    "\n",
    "# import cartopy #Was throwing an error, couldn't tell you why?\n",
    "# import cartopy.crs as ccrs\n",
    "# import cartopy.feature as cfeature\n",
    "# from cartopy.mpl.gridliner import LONGITUDE_FORMATTER, LATITUDE_FORMATTER\n",
    "# import cartopy.io.img_tiles as cimgt\n",
    "import matplotlib.pyplot as plt\n",
    "# import cartopy.mpl.geoaxes\n",
    "\n",
    "import mpl_scatter_density # adds projection='scatter_density'\n",
    "from mpl_toolkits.axes_grid1.inset_locator import inset_axes\n",
    "import matplotlib as mpl\n",
    "from mpl_toolkits.axes_grid1 import make_axes_locatable\n",
    "from matplotlib.colors import ListedColormap, LinearSegmentedColormap\n",
    "from scipy.io import loadmat\n",
    "\n",
    "import sklearn.metrics as skm\n",
    "from sklearn.model_selection import train_test_split\n",
    "from sklearn.preprocessing import MinMaxScaler\n",
    "from sklearn.metrics import mean_squared_error\n",
    "\n",
    "from keras.preprocessing.sequence import TimeseriesGenerator\n",
    "\n",
    "import tensorflow as tf\n",
    "from tensorflow import keras"
   ],
   "metadata": {
    "id": "aNlgxfPxpLvc",
    "pycharm": {
     "name": "#%%\n"
    }
   },
   "execution_count": 39,
   "outputs": []
  },
  {
   "cell_type": "code",
   "execution_count": 143,
   "outputs": [],
   "source": [
    "#Set up all lat/lon pairs that we will be transforming into arrays:\n",
    "def latlon_setup(df, n_input):\n",
    "    pixel_counts = df.groupby(['lat', 'lon']).size() #Counts\n",
    "    pixel_counts = pixel_counts.reset_index()\n",
    "    #Remove lat/lon sets that don't have enough records, as defined by our n_input variable\n",
    "    latlon = pd.lreshape(pixel_counts[pixel_counts[0] > (n_input -1)][['lat', 'lon']], {'lat':['lat'], 'lon':['lon']})\n",
    "    latlon = latlon.drop_duplicates()\n",
    "    #Make sure that we aren't sampling in a pattern:\n",
    "    latlon = latlon.sample(frac = 1, random_state = 0)\n",
    "    print(\"Length of df of unique latlon paris that meet cutoff: \", len(latlon)) #if 60: 123873, if 80: 85603\n",
    "    return latlon"
   ],
   "metadata": {
    "collapsed": false,
    "pycharm": {
     "name": "#%%\n"
    }
   }
  },
  {
   "cell_type": "code",
   "execution_count": 144,
   "outputs": [],
   "source": [
    "def rand_gen_np(df, n_input):\n",
    "  \"\"\"Returns random windows of input data at 1/10th rate \"\"\"\n",
    "  all_windows = list(range(len(df) - n_input + 1)) #List of total number of records in the dataframe minus the n_input window size\n",
    "  n_samples = int(((len(df) - n_input + 1)/10) + 1) #all windows large enough not to be weeded out get at least one sample\n",
    "  # make slices of data\n",
    "  Xs, ys = [], []\n",
    "\n",
    "  for w in range(n_samples): #For every sample we want to take:\n",
    "      window = random.choice(all_windows) #Randomly select which window to take\n",
    "      all_windows.remove(window) #Remove selection from list to prevent resampling\n",
    "      current_slice = df.iloc[window:window+n_input]\n",
    "      X = current_slice[['snowtemp', 'soiltemp', 'omega', 'Tbh', 'Tbv', 'cf', 'h']].values\n",
    "      y = current_slice[['density', 'voc']].values[-1]\n",
    "      Xs.append(X)\n",
    "      ys.append(y)\n",
    "\n",
    "  X = np.stack(Xs)\n",
    "  y = np.stack(ys)\n",
    "  return X, y"
   ],
   "metadata": {
    "collapsed": false,
    "pycharm": {
     "name": "#%%\n"
    }
   }
  },
  {
   "cell_type": "code",
   "execution_count": 145,
   "outputs": [],
   "source": [
    "#What about using only numpy to pre-process?\n",
    "# https://stackoverflow.com/questions/66353849/confusions-about-the-input-shape-in-lstm-models\n",
    "\n",
    "def gen_np(df, n_input):\n",
    "  \"\"\"Produces sequential windows of n_input historical records of data from the provided dataframe.\"\"\"\n",
    "  num_windows = len(df) - n_input + 1\n",
    "  # make slices of data\n",
    "  Xs, ys = [], []\n",
    "\n",
    "  for w in range(num_windows):\n",
    "      current_slice = df.iloc[w:w+n_input]\n",
    "      X = current_slice[['snowtemp', 'soiltemp', 'omega', 'Tbh', 'Tbv', 'cf', 'h']].values\n",
    "      y = current_slice[['density', 'voc']].values[-1]\n",
    "      Xs.append(X)\n",
    "      ys.append(y)\n",
    "\n",
    "  X = np.stack(Xs)\n",
    "  y = np.stack(ys)\n",
    "  return X, y"
   ],
   "metadata": {
    "collapsed": false,
    "pycharm": {
     "name": "#%%\n"
    }
   }
  },
  {
   "cell_type": "code",
   "execution_count": 152,
   "outputs": [],
   "source": [
    "def data_prep(bigdf, latlon, path, n_input, n_features, X, y, counter = 0, savept = 0):\n",
    "    start = time.strftime(\"%Y-%m-%d %H:%M:%S\", time.localtime())\n",
    "    print(\"Started at: \", start)\n",
    "    for i in range(len(latlon)-counter): #Iterate though our set of viable lat/lons, minus counter to restart if needed.\n",
    "      counter += 1\n",
    "      df = bigdf[(bigdf['lat'] == latlon['lat'].iloc[i]) & (bigdf['lon'] == latlon['lon'].iloc[i])] #Make a sub df of each lat/lon pair\n",
    "      df = df.sort_values(by = 'date') #Make sure we have our values correctly ordered\n",
    "      X2, y2 = rand_gen_np(df, n_input) #Make your arrays, in this case random\n",
    "      #print(\"Dimensions: \", X2.shape, y2.shape)\n",
    "      X = np.vstack([X, X2]) #Append your arrays\n",
    "      y = np.concatenate([y, y2])\n",
    "      if counter%10000 == 0: #For every ten thousand lat/long pairs acts as check point\n",
    "        print(\"Counter: \", counter, \", Shape X: \", X.shape, time.strftime(\"%Y-%m-%d %H:%M:%S\", time.localtime()))\n",
    "        with open((path + str(savept) + '.npy'), 'wb') as f: #Saves two arrays in same file, arrays can be opened separately.\n",
    "          np.save(f, X)\n",
    "          np.save(f, y)\n",
    "        print(\"Wipeout: \", savept)\n",
    "        savept += 1\n",
    "        X = np.empty([0, n_input, n_features])\n",
    "        y = np.empty([0,2])\n",
    "    print(\"Save last: \")\n",
    "    with open((path + '_last.npy'), 'wb') as f: #final save of X,y to grab any remaining lat/lon pairs since last checkpoint:\n",
    "          np.save(f, X)\n",
    "          np.save(f, y)\n",
    "    print(\"Done! And it only took from \", start, \" to \", time.strftime(\"%Y-%m-%d %H:%M:%S\", time.localtime()))"
   ],
   "metadata": {
    "collapsed": false,
    "pycharm": {
     "name": "#%%\n"
    }
   }
  },
  {
   "cell_type": "code",
   "execution_count": 147,
   "outputs": [],
   "source": [
    "#X_test = np.empty([0, n_input, n_features])\n",
    "#y_test = np.empty([0,2])\n",
    "#path = 'LSTM_Data_60Sparse_Test'\n",
    "def assemble_test(X_test, y_test, path):\n",
    "    for filename in os.listdir(path):\n",
    "        p = os.path.join(path, filename)\n",
    "        with open(p, 'rb') as f:\n",
    "            X_load = np.load(f)\n",
    "            y_load = np.load(f)\n",
    "        X_test = np.vstack([X_test, X_load]) #Append\n",
    "        y_test = np.concatenate([y_test, y_load])\n",
    "        print(\"Test: \", f, X_test.shape)\n",
    "    return X_test, y_test"
   ],
   "metadata": {
    "collapsed": false,
    "pycharm": {
     "name": "#%%\n"
    }
   }
  },
  {
   "cell_type": "code",
   "execution_count": 154,
   "outputs": [],
   "source": [
    "#X_train = np.empty([0, n_input, n_features])\n",
    "#y_train = np.empty([0,2])\n",
    "#X_val = np.empty([0, n_input, n_features])\n",
    "#y_val = np.empty([0,2])\n",
    "#path = 'LSTMData80Sparse'\n",
    "#switch = int(len(os.listdir(path))*.2)\n",
    "def assemble_train(X_train, y_train, X_val, y_val, path, switch):\n",
    "    filecount = len(os.listdir(path))\n",
    "    for filename in os.listdir(path):\n",
    "        filecount = filecount-1\n",
    "        f = os.path.join(path, filename)\n",
    "        if filecount > switch:\n",
    "            print(f)\n",
    "            with open(f, 'rb') as f: #Saves two arrays in same file, arrays can be opened separately or together.\n",
    "                X_load = np.load(f)\n",
    "                y_load = np.load(f)\n",
    "            X_train = np.vstack([X_train, X_load]) #Append your arrays\n",
    "            y_train = np.concatenate([y_train, y_load])\n",
    "            print(\"Train: \", f)\n",
    "        else:\n",
    "            with open(f, 'rb') as f: #Saves two arrays in same file, arrays can be opened separately or together.\n",
    "                X_load = np.load(f)\n",
    "                y_load = np.load(f)\n",
    "            X_val = np.vstack([X_val, X_load]) #Append your arrays\n",
    "            y_val = np.concatenate([y_val, y_load])\n",
    "            print(\"Val: \", f)\n",
    "    return X_train, y_train, X_val, y_val"
   ],
   "metadata": {
    "collapsed": false,
    "pycharm": {
     "name": "#%%\n"
    }
   }
  },
  {
   "cell_type": "code",
   "execution_count": 150,
   "outputs": [],
   "source": [
    "#https://towardsdatascience.com/choosing-the-right-hyperparameters-for-a-simple-lstm-using-keras-f8e9ed76f046\n",
    "\n",
    "#Adam has a default of learning_rate = 0.001, beta_1 = 0.9, beta_2 = 0.999, amsgrad = False.\n",
    "\n",
    "def model_lstm():\n",
    "  model = keras.models.Sequential()\n",
    "  #1st layer:\n",
    "  model.add(keras.layers.LSTM(60, activation='relu', return_sequences=True, input_shape=(n_input, n_features)))\n",
    "  model.add(keras.layers.Dropout(0.2))\n",
    "  #2nd layer:\n",
    "  model.add(keras.layers.LSTM(60))\n",
    "  model.add(keras.layers.Dropout(0.2))\n",
    "  #Output layer:\n",
    "  model.add(keras.layers.Dense(2))\n",
    "  model.compile(optimizer='adam', loss='mean_squared_error')\n",
    "  #model.summary()\n",
    "  return(model)\n",
    "\n"
   ],
   "metadata": {
    "collapsed": false,
    "pycharm": {
     "name": "#%%\n"
    }
   }
  },
  {
   "cell_type": "code",
   "execution_count": 149,
   "outputs": [],
   "source": [
    "def get_metrics(y_test, y_pred):\n",
    "    mae = skm.mean_absolute_error(y_test[:,0], y_pred[:,0])\n",
    "    mse = skm.mean_squared_error(y_test[:,0], y_pred[:,0])\n",
    "    rmse = skm.mean_squared_error(y_test[:,0], y_pred[:,0], squared = False)\n",
    "    r2 = skm.r2_score(y_test[:,0], y_pred[:,0])\n",
    "    print(\"Snow Density Performance: \")\n",
    "    print(\"MAE: \", mae)\n",
    "    print(\"MSE: \", mse)\n",
    "    print(\"RMSE: \", rmse)\n",
    "    print(\"R2: \", r2)\n",
    "\n",
    "    mae2 = skm.mean_absolute_error(y_test[:, 1], y_pred[:, 1])\n",
    "    mse2 = skm.mean_squared_error(y_test[:, 1], y_pred[:, 1])\n",
    "    rmse2 = skm.mean_squared_error(y_test[:, 1], y_pred[:, 1], squared=False)\n",
    "    r22 = skm.r2_score(y_test[:, 1], y_pred[:, 1])\n",
    "    print(\"VOD Performance: \")\n",
    "    print(\"MAE: \", mae2)\n",
    "    print(\"MSE: \", mse2)\n",
    "    print(\"RMSE: \", rmse2)\n",
    "    print(\"R2: \", r22)\n",
    "\n",
    "    return mae, mse, rmse, r2, mae2, mse2, rmse2, r22"
   ],
   "metadata": {
    "collapsed": false,
    "pycharm": {
     "name": "#%%\n"
    }
   }
  },
  {
   "cell_type": "markdown",
   "source": [
    "## Data Prep Example"
   ],
   "metadata": {
    "id": "91eqxcM0zBC7",
    "pycharm": {
     "name": "#%% md\n"
    }
   }
  },
  {
   "cell_type": "code",
   "source": [
    "# #DataPrep: Scaling\n",
    "# data = pd.read_parquet('/content/drive/Shareddrives/AI For Earth/Datasets/processed_data_with_datetime.parquet')\n",
    "# scaler = MinMaxScaler() \n",
    "# data_scaled = data[['density', 'snowtemp', 'soiltemp', 'omega', 'Tbh', 'Tbv', 'cf', 'h', 'voc']] #We want lat, lon and date unscaled, as these will be used for sorting, not training. \n",
    "# data_scaled = pd.DataFrame(scaler.fit_transform(data_scaled), columns=data_scaled.columns)\n",
    "# data_scaled['lat'] = data['lat']\n",
    "# data_scaled['lon'] = data['lon']\n",
    "# data_scaled['date'] = data['date']\n",
    "# display(data_scaled.head())\n",
    "# data_scaled.to_parquet('/content/drive/Shareddrives/AI For Earth/Datasets/scaled_processed_data_LatLonDateUnscaled.parquet')\n",
    "# del(data)\n",
    "# # Test/Train split:\n",
    "# train_scaled = data_scaled[data_scaled['date']<'2020-01-01']\n",
    "# display(train_scaled.tail())\n",
    "# train_scaled.to_parquet('/content/drive/Shareddrives/AI For Earth/Datasets/train_scaled_LatLonDateUnscaled.parquet')\n",
    "# del(train_scaled)\n",
    "# test_scaled = data_scaled[data_scaled['date']>='2020-01-01']\n",
    "# display(test_scaled.head())\n",
    "# test_scaled.to_parquet('/content/drive/Shareddrives/AI For Earth/Datasets/test_scaled_LatLonDateUnscaled.parquet')\n",
    "# del(test_scaled)\n",
    "# del(data_scaled)"
   ],
   "metadata": {
    "id": "xWxrdir83NIN",
    "pycharm": {
     "name": "#%%\n"
    }
   },
   "execution_count": null,
   "outputs": []
  },
  {
   "cell_type": "code",
   "source": [
    "# Import data:\n",
    "train = pd.read_parquet('train_scaled_LatLonDateUnscaled.parquet')\n",
    "\n",
    "print(train.columns)\n",
    "\n",
    "print(train['date'].max())\n",
    "print(train['date'].min())\n",
    "print(len(train))\n",
    "print(train.info())\n",
    "train.head()"
   ],
   "metadata": {
    "colab": {
     "base_uri": "https://localhost:8080/",
     "height": 671
    },
    "id": "UaBAYRGFy_dK",
    "outputId": "b134e610-0353-4a46-b455-5a639e004146",
    "pycharm": {
     "name": "#%%\n"
    }
   },
   "execution_count": null,
   "outputs": [
    {
     "output_type": "stream",
     "name": "stdout",
     "text": [
      "Index(['density', 'snowtemp', 'soiltemp', 'omega', 'Tbh', 'Tbv', 'cf', 'h',\n",
      "       'voc', 'lat', 'lon', 'date'],\n",
      "      dtype='object')\n",
      "2019-12-31 00:00:00\n",
      "2019-01-01 00:00:00\n",
      "18329587\n",
      "<class 'pandas.core.frame.DataFrame'>\n",
      "Int64Index: 18329587 entries, 0 to 18329586\n",
      "Data columns (total 12 columns):\n",
      " #   Column    Dtype         \n",
      "---  ------    -----         \n",
      " 0   density   float64       \n",
      " 1   snowtemp  float64       \n",
      " 2   soiltemp  float64       \n",
      " 3   omega     float64       \n",
      " 4   Tbh       float64       \n",
      " 5   Tbv       float64       \n",
      " 6   cf        float64       \n",
      " 7   h         float64       \n",
      " 8   voc       float64       \n",
      " 9   lat       float64       \n",
      " 10  lon       float64       \n",
      " 11  date      datetime64[ns]\n",
      "dtypes: datetime64[ns](1), float64(11)\n",
      "memory usage: 1.8 GB\n",
      "None\n"
     ]
    },
    {
     "output_type": "execute_result",
     "data": {
      "text/plain": [
       "    density  snowtemp  soiltemp     omega       Tbh       Tbv        cf  \\\n",
       "0  0.166630  0.908916  0.998302  0.779338  0.710750  0.708752  0.305672   \n",
       "1  0.176869  0.955726  0.995804  0.783470  0.715650  0.708749  0.311526   \n",
       "2  0.180525  0.959748  0.996218  0.790908  0.722035  0.714708  0.322348   \n",
       "3  0.183057  0.966050  0.996963  0.790081  0.721543  0.716810  0.302173   \n",
       "4  0.167732  0.926476  0.995828  0.789999  0.709735  0.705815  0.303099   \n",
       "\n",
       "          h       voc        lat        lon       date  \n",
       "0  0.124832  0.240164  62.684110 -160.44087 2019-01-01  \n",
       "1  0.123756  0.228918  62.532246 -160.44087 2019-01-01  \n",
       "2  0.123569  0.242246  62.381150 -160.44087 2019-01-01  \n",
       "3  0.123513  0.240669  62.230810 -160.44087 2019-01-01  \n",
       "4  0.123518  0.239886  62.684110 -160.34750 2019-01-01  "
      ],
      "text/html": [
       "\n",
       "  <div id=\"df-878a72aa-8a2b-4688-b434-2d1210f116f4\">\n",
       "    <div class=\"colab-df-container\">\n",
       "      <div>\n",
       "<style scoped>\n",
       "    .dataframe tbody tr th:only-of-type {\n",
       "        vertical-align: middle;\n",
       "    }\n",
       "\n",
       "    .dataframe tbody tr th {\n",
       "        vertical-align: top;\n",
       "    }\n",
       "\n",
       "    .dataframe thead th {\n",
       "        text-align: right;\n",
       "    }\n",
       "</style>\n",
       "<table border=\"1\" class=\"dataframe\">\n",
       "  <thead>\n",
       "    <tr style=\"text-align: right;\">\n",
       "      <th></th>\n",
       "      <th>density</th>\n",
       "      <th>snowtemp</th>\n",
       "      <th>soiltemp</th>\n",
       "      <th>omega</th>\n",
       "      <th>Tbh</th>\n",
       "      <th>Tbv</th>\n",
       "      <th>cf</th>\n",
       "      <th>h</th>\n",
       "      <th>voc</th>\n",
       "      <th>lat</th>\n",
       "      <th>lon</th>\n",
       "      <th>date</th>\n",
       "    </tr>\n",
       "  </thead>\n",
       "  <tbody>\n",
       "    <tr>\n",
       "      <th>0</th>\n",
       "      <td>0.166630</td>\n",
       "      <td>0.908916</td>\n",
       "      <td>0.998302</td>\n",
       "      <td>0.779338</td>\n",
       "      <td>0.710750</td>\n",
       "      <td>0.708752</td>\n",
       "      <td>0.305672</td>\n",
       "      <td>0.124832</td>\n",
       "      <td>0.240164</td>\n",
       "      <td>62.684110</td>\n",
       "      <td>-160.44087</td>\n",
       "      <td>2019-01-01</td>\n",
       "    </tr>\n",
       "    <tr>\n",
       "      <th>1</th>\n",
       "      <td>0.176869</td>\n",
       "      <td>0.955726</td>\n",
       "      <td>0.995804</td>\n",
       "      <td>0.783470</td>\n",
       "      <td>0.715650</td>\n",
       "      <td>0.708749</td>\n",
       "      <td>0.311526</td>\n",
       "      <td>0.123756</td>\n",
       "      <td>0.228918</td>\n",
       "      <td>62.532246</td>\n",
       "      <td>-160.44087</td>\n",
       "      <td>2019-01-01</td>\n",
       "    </tr>\n",
       "    <tr>\n",
       "      <th>2</th>\n",
       "      <td>0.180525</td>\n",
       "      <td>0.959748</td>\n",
       "      <td>0.996218</td>\n",
       "      <td>0.790908</td>\n",
       "      <td>0.722035</td>\n",
       "      <td>0.714708</td>\n",
       "      <td>0.322348</td>\n",
       "      <td>0.123569</td>\n",
       "      <td>0.242246</td>\n",
       "      <td>62.381150</td>\n",
       "      <td>-160.44087</td>\n",
       "      <td>2019-01-01</td>\n",
       "    </tr>\n",
       "    <tr>\n",
       "      <th>3</th>\n",
       "      <td>0.183057</td>\n",
       "      <td>0.966050</td>\n",
       "      <td>0.996963</td>\n",
       "      <td>0.790081</td>\n",
       "      <td>0.721543</td>\n",
       "      <td>0.716810</td>\n",
       "      <td>0.302173</td>\n",
       "      <td>0.123513</td>\n",
       "      <td>0.240669</td>\n",
       "      <td>62.230810</td>\n",
       "      <td>-160.44087</td>\n",
       "      <td>2019-01-01</td>\n",
       "    </tr>\n",
       "    <tr>\n",
       "      <th>4</th>\n",
       "      <td>0.167732</td>\n",
       "      <td>0.926476</td>\n",
       "      <td>0.995828</td>\n",
       "      <td>0.789999</td>\n",
       "      <td>0.709735</td>\n",
       "      <td>0.705815</td>\n",
       "      <td>0.303099</td>\n",
       "      <td>0.123518</td>\n",
       "      <td>0.239886</td>\n",
       "      <td>62.684110</td>\n",
       "      <td>-160.34750</td>\n",
       "      <td>2019-01-01</td>\n",
       "    </tr>\n",
       "  </tbody>\n",
       "</table>\n",
       "</div>\n",
       "      <button class=\"colab-df-convert\" onclick=\"convertToInteractive('df-878a72aa-8a2b-4688-b434-2d1210f116f4')\"\n",
       "              title=\"Convert this dataframe to an interactive table.\"\n",
       "              style=\"display:none;\">\n",
       "        \n",
       "  <svg xmlns=\"http://www.w3.org/2000/svg\" height=\"24px\"viewBox=\"0 0 24 24\"\n",
       "       width=\"24px\">\n",
       "    <path d=\"M0 0h24v24H0V0z\" fill=\"none\"/>\n",
       "    <path d=\"M18.56 5.44l.94 2.06.94-2.06 2.06-.94-2.06-.94-.94-2.06-.94 2.06-2.06.94zm-11 1L8.5 8.5l.94-2.06 2.06-.94-2.06-.94L8.5 2.5l-.94 2.06-2.06.94zm10 10l.94 2.06.94-2.06 2.06-.94-2.06-.94-.94-2.06-.94 2.06-2.06.94z\"/><path d=\"M17.41 7.96l-1.37-1.37c-.4-.4-.92-.59-1.43-.59-.52 0-1.04.2-1.43.59L10.3 9.45l-7.72 7.72c-.78.78-.78 2.05 0 2.83L4 21.41c.39.39.9.59 1.41.59.51 0 1.02-.2 1.41-.59l7.78-7.78 2.81-2.81c.8-.78.8-2.07 0-2.86zM5.41 20L4 18.59l7.72-7.72 1.47 1.35L5.41 20z\"/>\n",
       "  </svg>\n",
       "      </button>\n",
       "      \n",
       "  <style>\n",
       "    .colab-df-container {\n",
       "      display:flex;\n",
       "      flex-wrap:wrap;\n",
       "      gap: 12px;\n",
       "    }\n",
       "\n",
       "    .colab-df-convert {\n",
       "      background-color: #E8F0FE;\n",
       "      border: none;\n",
       "      border-radius: 50%;\n",
       "      cursor: pointer;\n",
       "      display: none;\n",
       "      fill: #1967D2;\n",
       "      height: 32px;\n",
       "      padding: 0 0 0 0;\n",
       "      width: 32px;\n",
       "    }\n",
       "\n",
       "    .colab-df-convert:hover {\n",
       "      background-color: #E2EBFA;\n",
       "      box-shadow: 0px 1px 2px rgba(60, 64, 67, 0.3), 0px 1px 3px 1px rgba(60, 64, 67, 0.15);\n",
       "      fill: #174EA6;\n",
       "    }\n",
       "\n",
       "    [theme=dark] .colab-df-convert {\n",
       "      background-color: #3B4455;\n",
       "      fill: #D2E3FC;\n",
       "    }\n",
       "\n",
       "    [theme=dark] .colab-df-convert:hover {\n",
       "      background-color: #434B5C;\n",
       "      box-shadow: 0px 1px 3px 1px rgba(0, 0, 0, 0.15);\n",
       "      filter: drop-shadow(0px 1px 2px rgba(0, 0, 0, 0.3));\n",
       "      fill: #FFFFFF;\n",
       "    }\n",
       "  </style>\n",
       "\n",
       "      <script>\n",
       "        const buttonEl =\n",
       "          document.querySelector('#df-878a72aa-8a2b-4688-b434-2d1210f116f4 button.colab-df-convert');\n",
       "        buttonEl.style.display =\n",
       "          google.colab.kernel.accessAllowed ? 'block' : 'none';\n",
       "\n",
       "        async function convertToInteractive(key) {\n",
       "          const element = document.querySelector('#df-878a72aa-8a2b-4688-b434-2d1210f116f4');\n",
       "          const dataTable =\n",
       "            await google.colab.kernel.invokeFunction('convertToInteractive',\n",
       "                                                     [key], {});\n",
       "          if (!dataTable) return;\n",
       "\n",
       "          const docLinkHtml = 'Like what you see? Visit the ' +\n",
       "            '<a target=\"_blank\" href=https://colab.research.google.com/notebooks/data_table.ipynb>data table notebook</a>'\n",
       "            + ' to learn more about interactive tables.';\n",
       "          element.innerHTML = '';\n",
       "          dataTable['output_type'] = 'display_data';\n",
       "          await google.colab.output.renderOutput(dataTable, element);\n",
       "          const docLink = document.createElement('div');\n",
       "          docLink.innerHTML = docLinkHtml;\n",
       "          element.appendChild(docLink);\n",
       "        }\n",
       "      </script>\n",
       "    </div>\n",
       "  </div>\n",
       "  "
      ]
     },
     "metadata": {},
     "execution_count": 7
    }
   ]
  },
  {
   "cell_type": "markdown",
   "source": [
    "Whatever we pick as n_input (number of historical records) will be our cutoff value - any pixels that have fewer than n_input records can not be run. \n",
    "\n",
    "If we were to set n_input to three, we would go from 467957 pixels to 428025. A minimal loss. "
   ],
   "metadata": {
    "id": "AvzhHfb7_JiU",
    "pycharm": {
     "name": "#%% md\n"
    }
   }
  },
  {
   "cell_type": "markdown",
   "source": [
    "Similar to this problem: \n",
    "https://stackoverflow.com/questions/61177311/creating-a-timeseriesgenerator-with-multiple-inputs"
   ],
   "metadata": {
    "id": "GtSFonlZKOIS",
    "pycharm": {
     "name": "#%% md\n"
    }
   }
  },
  {
   "cell_type": "code",
   "source": [
    "n_input = 3 #how many samples/rows/timesteps to look in the past in order to forecast the next sample\n",
    "\n",
    "pixel_counts = train.groupby(['lat', 'lon']).size()\n",
    "pixel_counts = pixel_counts.reset_index()\n",
    "print(pixel_counts.head())\n",
    "\n",
    "#There are 467957 pixel locations in our set. Get all unique pairs of lat lon:\n",
    "\n",
    "print(pixel_counts[pixel_counts[0] > n_input])\n",
    "print(len(pixel_counts[pixel_counts[0] > n_input]))\n",
    "\n",
    "latlon = pd.lreshape(pixel_counts[pixel_counts[0] > n_input][['lat', 'lon']], {'lat':['lat'], 'lon':['lon']})\n",
    "\n",
    "latlon = latlon.drop_duplicates()\n",
    "print(len(latlon))\n",
    "latlon.head()"
   ],
   "metadata": {
    "colab": {
     "base_uri": "https://localhost:8080/",
     "height": 756
    },
    "id": "clIQVSpF0UrT",
    "outputId": "b10d4466-22e1-4ca4-d12a-7db6fdc03aec",
    "pycharm": {
     "name": "#%%\n"
    }
   },
   "execution_count": null,
   "outputs": [
    {
     "output_type": "stream",
     "name": "stdout",
     "text": [
      "         lat        lon  0\n",
      "0 -54.977610 -67.920130  1\n",
      "1 -54.855858 -67.826770  3\n",
      "2 -54.855858 -67.733406  2\n",
      "3 -54.855858 -67.546684  2\n",
      "4 -54.855858 -67.453316  1\n"
     ]
    },
    {
     "output_type": "display_data",
     "data": {
      "text/plain": [
       "             lat        lon  0\n",
       "10     -54.73447 -68.106850  5\n",
       "11     -54.73447 -68.013490  5\n",
       "12     -54.73447 -67.826770  5\n",
       "13     -54.73447 -67.733406  4\n",
       "15     -54.73447 -67.546684  4\n",
       "...          ...        ... ..\n",
       "467952  81.24827 -19.559128  5\n",
       "467953  81.24827 -19.465767  5\n",
       "467954  81.24827 -19.372406  5\n",
       "467955  81.24827 -19.279045  5\n",
       "467956  81.24827 -19.185684  5\n",
       "\n",
       "[413624 rows x 3 columns]"
      ],
      "text/html": [
       "\n",
       "  <div id=\"df-5fd8ccd3-6fe1-4b12-b0ff-8423492e2b1c\">\n",
       "    <div class=\"colab-df-container\">\n",
       "      <div>\n",
       "<style scoped>\n",
       "    .dataframe tbody tr th:only-of-type {\n",
       "        vertical-align: middle;\n",
       "    }\n",
       "\n",
       "    .dataframe tbody tr th {\n",
       "        vertical-align: top;\n",
       "    }\n",
       "\n",
       "    .dataframe thead th {\n",
       "        text-align: right;\n",
       "    }\n",
       "</style>\n",
       "<table border=\"1\" class=\"dataframe\">\n",
       "  <thead>\n",
       "    <tr style=\"text-align: right;\">\n",
       "      <th></th>\n",
       "      <th>lat</th>\n",
       "      <th>lon</th>\n",
       "      <th>0</th>\n",
       "    </tr>\n",
       "  </thead>\n",
       "  <tbody>\n",
       "    <tr>\n",
       "      <th>10</th>\n",
       "      <td>-54.73447</td>\n",
       "      <td>-68.106850</td>\n",
       "      <td>5</td>\n",
       "    </tr>\n",
       "    <tr>\n",
       "      <th>11</th>\n",
       "      <td>-54.73447</td>\n",
       "      <td>-68.013490</td>\n",
       "      <td>5</td>\n",
       "    </tr>\n",
       "    <tr>\n",
       "      <th>12</th>\n",
       "      <td>-54.73447</td>\n",
       "      <td>-67.826770</td>\n",
       "      <td>5</td>\n",
       "    </tr>\n",
       "    <tr>\n",
       "      <th>13</th>\n",
       "      <td>-54.73447</td>\n",
       "      <td>-67.733406</td>\n",
       "      <td>4</td>\n",
       "    </tr>\n",
       "    <tr>\n",
       "      <th>15</th>\n",
       "      <td>-54.73447</td>\n",
       "      <td>-67.546684</td>\n",
       "      <td>4</td>\n",
       "    </tr>\n",
       "    <tr>\n",
       "      <th>...</th>\n",
       "      <td>...</td>\n",
       "      <td>...</td>\n",
       "      <td>...</td>\n",
       "    </tr>\n",
       "    <tr>\n",
       "      <th>467952</th>\n",
       "      <td>81.24827</td>\n",
       "      <td>-19.559128</td>\n",
       "      <td>5</td>\n",
       "    </tr>\n",
       "    <tr>\n",
       "      <th>467953</th>\n",
       "      <td>81.24827</td>\n",
       "      <td>-19.465767</td>\n",
       "      <td>5</td>\n",
       "    </tr>\n",
       "    <tr>\n",
       "      <th>467954</th>\n",
       "      <td>81.24827</td>\n",
       "      <td>-19.372406</td>\n",
       "      <td>5</td>\n",
       "    </tr>\n",
       "    <tr>\n",
       "      <th>467955</th>\n",
       "      <td>81.24827</td>\n",
       "      <td>-19.279045</td>\n",
       "      <td>5</td>\n",
       "    </tr>\n",
       "    <tr>\n",
       "      <th>467956</th>\n",
       "      <td>81.24827</td>\n",
       "      <td>-19.185684</td>\n",
       "      <td>5</td>\n",
       "    </tr>\n",
       "  </tbody>\n",
       "</table>\n",
       "<p>413624 rows × 3 columns</p>\n",
       "</div>\n",
       "      <button class=\"colab-df-convert\" onclick=\"convertToInteractive('df-5fd8ccd3-6fe1-4b12-b0ff-8423492e2b1c')\"\n",
       "              title=\"Convert this dataframe to an interactive table.\"\n",
       "              style=\"display:none;\">\n",
       "        \n",
       "  <svg xmlns=\"http://www.w3.org/2000/svg\" height=\"24px\"viewBox=\"0 0 24 24\"\n",
       "       width=\"24px\">\n",
       "    <path d=\"M0 0h24v24H0V0z\" fill=\"none\"/>\n",
       "    <path d=\"M18.56 5.44l.94 2.06.94-2.06 2.06-.94-2.06-.94-.94-2.06-.94 2.06-2.06.94zm-11 1L8.5 8.5l.94-2.06 2.06-.94-2.06-.94L8.5 2.5l-.94 2.06-2.06.94zm10 10l.94 2.06.94-2.06 2.06-.94-2.06-.94-.94-2.06-.94 2.06-2.06.94z\"/><path d=\"M17.41 7.96l-1.37-1.37c-.4-.4-.92-.59-1.43-.59-.52 0-1.04.2-1.43.59L10.3 9.45l-7.72 7.72c-.78.78-.78 2.05 0 2.83L4 21.41c.39.39.9.59 1.41.59.51 0 1.02-.2 1.41-.59l7.78-7.78 2.81-2.81c.8-.78.8-2.07 0-2.86zM5.41 20L4 18.59l7.72-7.72 1.47 1.35L5.41 20z\"/>\n",
       "  </svg>\n",
       "      </button>\n",
       "      \n",
       "  <style>\n",
       "    .colab-df-container {\n",
       "      display:flex;\n",
       "      flex-wrap:wrap;\n",
       "      gap: 12px;\n",
       "    }\n",
       "\n",
       "    .colab-df-convert {\n",
       "      background-color: #E8F0FE;\n",
       "      border: none;\n",
       "      border-radius: 50%;\n",
       "      cursor: pointer;\n",
       "      display: none;\n",
       "      fill: #1967D2;\n",
       "      height: 32px;\n",
       "      padding: 0 0 0 0;\n",
       "      width: 32px;\n",
       "    }\n",
       "\n",
       "    .colab-df-convert:hover {\n",
       "      background-color: #E2EBFA;\n",
       "      box-shadow: 0px 1px 2px rgba(60, 64, 67, 0.3), 0px 1px 3px 1px rgba(60, 64, 67, 0.15);\n",
       "      fill: #174EA6;\n",
       "    }\n",
       "\n",
       "    [theme=dark] .colab-df-convert {\n",
       "      background-color: #3B4455;\n",
       "      fill: #D2E3FC;\n",
       "    }\n",
       "\n",
       "    [theme=dark] .colab-df-convert:hover {\n",
       "      background-color: #434B5C;\n",
       "      box-shadow: 0px 1px 3px 1px rgba(0, 0, 0, 0.15);\n",
       "      filter: drop-shadow(0px 1px 2px rgba(0, 0, 0, 0.3));\n",
       "      fill: #FFFFFF;\n",
       "    }\n",
       "  </style>\n",
       "\n",
       "      <script>\n",
       "        const buttonEl =\n",
       "          document.querySelector('#df-5fd8ccd3-6fe1-4b12-b0ff-8423492e2b1c button.colab-df-convert');\n",
       "        buttonEl.style.display =\n",
       "          google.colab.kernel.accessAllowed ? 'block' : 'none';\n",
       "\n",
       "        async function convertToInteractive(key) {\n",
       "          const element = document.querySelector('#df-5fd8ccd3-6fe1-4b12-b0ff-8423492e2b1c');\n",
       "          const dataTable =\n",
       "            await google.colab.kernel.invokeFunction('convertToInteractive',\n",
       "                                                     [key], {});\n",
       "          if (!dataTable) return;\n",
       "\n",
       "          const docLinkHtml = 'Like what you see? Visit the ' +\n",
       "            '<a target=\"_blank\" href=https://colab.research.google.com/notebooks/data_table.ipynb>data table notebook</a>'\n",
       "            + ' to learn more about interactive tables.';\n",
       "          element.innerHTML = '';\n",
       "          dataTable['output_type'] = 'display_data';\n",
       "          await google.colab.output.renderOutput(dataTable, element);\n",
       "          const docLink = document.createElement('div');\n",
       "          docLink.innerHTML = docLinkHtml;\n",
       "          element.appendChild(docLink);\n",
       "        }\n",
       "      </script>\n",
       "    </div>\n",
       "  </div>\n",
       "  "
      ]
     },
     "metadata": {}
    },
    {
     "output_type": "stream",
     "name": "stdout",
     "text": [
      "413624\n",
      "413624\n"
     ]
    },
    {
     "output_type": "execute_result",
     "data": {
      "text/plain": [
       "        lat        lon\n",
       "0 -54.73447 -68.106850\n",
       "1 -54.73447 -68.013490\n",
       "2 -54.73447 -67.826770\n",
       "3 -54.73447 -67.733406\n",
       "4 -54.73447 -67.546684"
      ],
      "text/html": [
       "\n",
       "  <div id=\"df-7efbd2c1-b1c4-455b-b563-04d8079b950c\">\n",
       "    <div class=\"colab-df-container\">\n",
       "      <div>\n",
       "<style scoped>\n",
       "    .dataframe tbody tr th:only-of-type {\n",
       "        vertical-align: middle;\n",
       "    }\n",
       "\n",
       "    .dataframe tbody tr th {\n",
       "        vertical-align: top;\n",
       "    }\n",
       "\n",
       "    .dataframe thead th {\n",
       "        text-align: right;\n",
       "    }\n",
       "</style>\n",
       "<table border=\"1\" class=\"dataframe\">\n",
       "  <thead>\n",
       "    <tr style=\"text-align: right;\">\n",
       "      <th></th>\n",
       "      <th>lat</th>\n",
       "      <th>lon</th>\n",
       "    </tr>\n",
       "  </thead>\n",
       "  <tbody>\n",
       "    <tr>\n",
       "      <th>0</th>\n",
       "      <td>-54.73447</td>\n",
       "      <td>-68.106850</td>\n",
       "    </tr>\n",
       "    <tr>\n",
       "      <th>1</th>\n",
       "      <td>-54.73447</td>\n",
       "      <td>-68.013490</td>\n",
       "    </tr>\n",
       "    <tr>\n",
       "      <th>2</th>\n",
       "      <td>-54.73447</td>\n",
       "      <td>-67.826770</td>\n",
       "    </tr>\n",
       "    <tr>\n",
       "      <th>3</th>\n",
       "      <td>-54.73447</td>\n",
       "      <td>-67.733406</td>\n",
       "    </tr>\n",
       "    <tr>\n",
       "      <th>4</th>\n",
       "      <td>-54.73447</td>\n",
       "      <td>-67.546684</td>\n",
       "    </tr>\n",
       "  </tbody>\n",
       "</table>\n",
       "</div>\n",
       "      <button class=\"colab-df-convert\" onclick=\"convertToInteractive('df-7efbd2c1-b1c4-455b-b563-04d8079b950c')\"\n",
       "              title=\"Convert this dataframe to an interactive table.\"\n",
       "              style=\"display:none;\">\n",
       "        \n",
       "  <svg xmlns=\"http://www.w3.org/2000/svg\" height=\"24px\"viewBox=\"0 0 24 24\"\n",
       "       width=\"24px\">\n",
       "    <path d=\"M0 0h24v24H0V0z\" fill=\"none\"/>\n",
       "    <path d=\"M18.56 5.44l.94 2.06.94-2.06 2.06-.94-2.06-.94-.94-2.06-.94 2.06-2.06.94zm-11 1L8.5 8.5l.94-2.06 2.06-.94-2.06-.94L8.5 2.5l-.94 2.06-2.06.94zm10 10l.94 2.06.94-2.06 2.06-.94-2.06-.94-.94-2.06-.94 2.06-2.06.94z\"/><path d=\"M17.41 7.96l-1.37-1.37c-.4-.4-.92-.59-1.43-.59-.52 0-1.04.2-1.43.59L10.3 9.45l-7.72 7.72c-.78.78-.78 2.05 0 2.83L4 21.41c.39.39.9.59 1.41.59.51 0 1.02-.2 1.41-.59l7.78-7.78 2.81-2.81c.8-.78.8-2.07 0-2.86zM5.41 20L4 18.59l7.72-7.72 1.47 1.35L5.41 20z\"/>\n",
       "  </svg>\n",
       "      </button>\n",
       "      \n",
       "  <style>\n",
       "    .colab-df-container {\n",
       "      display:flex;\n",
       "      flex-wrap:wrap;\n",
       "      gap: 12px;\n",
       "    }\n",
       "\n",
       "    .colab-df-convert {\n",
       "      background-color: #E8F0FE;\n",
       "      border: none;\n",
       "      border-radius: 50%;\n",
       "      cursor: pointer;\n",
       "      display: none;\n",
       "      fill: #1967D2;\n",
       "      height: 32px;\n",
       "      padding: 0 0 0 0;\n",
       "      width: 32px;\n",
       "    }\n",
       "\n",
       "    .colab-df-convert:hover {\n",
       "      background-color: #E2EBFA;\n",
       "      box-shadow: 0px 1px 2px rgba(60, 64, 67, 0.3), 0px 1px 3px 1px rgba(60, 64, 67, 0.15);\n",
       "      fill: #174EA6;\n",
       "    }\n",
       "\n",
       "    [theme=dark] .colab-df-convert {\n",
       "      background-color: #3B4455;\n",
       "      fill: #D2E3FC;\n",
       "    }\n",
       "\n",
       "    [theme=dark] .colab-df-convert:hover {\n",
       "      background-color: #434B5C;\n",
       "      box-shadow: 0px 1px 3px 1px rgba(0, 0, 0, 0.15);\n",
       "      filter: drop-shadow(0px 1px 2px rgba(0, 0, 0, 0.3));\n",
       "      fill: #FFFFFF;\n",
       "    }\n",
       "  </style>\n",
       "\n",
       "      <script>\n",
       "        const buttonEl =\n",
       "          document.querySelector('#df-7efbd2c1-b1c4-455b-b563-04d8079b950c button.colab-df-convert');\n",
       "        buttonEl.style.display =\n",
       "          google.colab.kernel.accessAllowed ? 'block' : 'none';\n",
       "\n",
       "        async function convertToInteractive(key) {\n",
       "          const element = document.querySelector('#df-7efbd2c1-b1c4-455b-b563-04d8079b950c');\n",
       "          const dataTable =\n",
       "            await google.colab.kernel.invokeFunction('convertToInteractive',\n",
       "                                                     [key], {});\n",
       "          if (!dataTable) return;\n",
       "\n",
       "          const docLinkHtml = 'Like what you see? Visit the ' +\n",
       "            '<a target=\"_blank\" href=https://colab.research.google.com/notebooks/data_table.ipynb>data table notebook</a>'\n",
       "            + ' to learn more about interactive tables.';\n",
       "          element.innerHTML = '';\n",
       "          dataTable['output_type'] = 'display_data';\n",
       "          await google.colab.output.renderOutput(dataTable, element);\n",
       "          const docLink = document.createElement('div');\n",
       "          docLink.innerHTML = docLinkHtml;\n",
       "          element.appendChild(docLink);\n",
       "        }\n",
       "      </script>\n",
       "    </div>\n",
       "  </div>\n",
       "  "
      ]
     },
     "metadata": {},
     "execution_count": 31
    }
   ]
  },
  {
   "cell_type": "code",
   "source": [
    "#Try getting all values for a specific lat/lon pair:\n",
    "train1 = train[(train['lat'] == latlon['lat'].iloc[0]) & (train['lon'] == latlon['lon'].iloc[0])]\n",
    "print(len(train1))\n",
    "print(train1['date'].min())\n",
    "print(train1['date'].max())\n",
    "print(train1.head())\n",
    "#Looks good. \n",
    "\n",
    "#Get all values for a second lat/lon pair:\n",
    "train2 = train[(train['lat'] == latlon['lat'].iloc[1]) & (train['lon'] == latlon['lon'].iloc[1])]\n",
    "print(len(train2))\n",
    "print(train2['date'].min())\n",
    "print(train2['date'].max())\n",
    "print(train2.head())"
   ],
   "metadata": {
    "colab": {
     "base_uri": "https://localhost:8080/",
     "height": 503
    },
    "id": "UKcO8Ak5_MNp",
    "outputId": "67177fc3-fbb1-4a88-f33e-037bc7b87585",
    "pycharm": {
     "name": "#%%\n"
    }
   },
   "execution_count": null,
   "outputs": [
    {
     "output_type": "stream",
     "name": "stdout",
     "text": [
      "5\n",
      "2019-08-11 00:00:00\n",
      "2019-08-19 00:00:00\n"
     ]
    },
    {
     "output_type": "display_data",
     "data": {
      "text/plain": [
       "           density  snowtemp  soiltemp  omega       Tbh       Tbv        cf  \\\n",
       "13562138  0.412166  0.816258  0.998811    0.7  0.668379  0.677059  0.319354   \n",
       "13563663  0.417339  0.805035  0.996234    0.7  0.678995  0.684643  0.319354   \n",
       "13565561  0.428953  0.870483  0.999304    0.7  0.677228  0.677272  0.319354   \n",
       "13566803  0.436613  0.892357  0.993725    0.7  0.677911  0.682764  0.319354   \n",
       "13568994  0.461971  0.903925  0.998780    0.7  0.672902  0.674774  0.319354   \n",
       "\n",
       "                 h       voc       lat       lon       date  \n",
       "13562138  0.133275  0.703391 -54.73447 -68.10685 2019-08-11  \n",
       "13563663  0.133275  0.703552 -54.73447 -68.10685 2019-08-12  \n",
       "13565561  0.133275  0.703702 -54.73447 -68.10685 2019-08-14  \n",
       "13566803  0.133275  0.703682 -54.73447 -68.10685 2019-08-15  \n",
       "13568994  0.133275  0.703603 -54.73447 -68.10685 2019-08-19  "
      ],
      "text/html": [
       "\n",
       "  <div id=\"df-013f9447-7fad-467a-93ff-a101c27030d4\">\n",
       "    <div class=\"colab-df-container\">\n",
       "      <div>\n",
       "<style scoped>\n",
       "    .dataframe tbody tr th:only-of-type {\n",
       "        vertical-align: middle;\n",
       "    }\n",
       "\n",
       "    .dataframe tbody tr th {\n",
       "        vertical-align: top;\n",
       "    }\n",
       "\n",
       "    .dataframe thead th {\n",
       "        text-align: right;\n",
       "    }\n",
       "</style>\n",
       "<table border=\"1\" class=\"dataframe\">\n",
       "  <thead>\n",
       "    <tr style=\"text-align: right;\">\n",
       "      <th></th>\n",
       "      <th>density</th>\n",
       "      <th>snowtemp</th>\n",
       "      <th>soiltemp</th>\n",
       "      <th>omega</th>\n",
       "      <th>Tbh</th>\n",
       "      <th>Tbv</th>\n",
       "      <th>cf</th>\n",
       "      <th>h</th>\n",
       "      <th>voc</th>\n",
       "      <th>lat</th>\n",
       "      <th>lon</th>\n",
       "      <th>date</th>\n",
       "    </tr>\n",
       "  </thead>\n",
       "  <tbody>\n",
       "    <tr>\n",
       "      <th>13562138</th>\n",
       "      <td>0.412166</td>\n",
       "      <td>0.816258</td>\n",
       "      <td>0.998811</td>\n",
       "      <td>0.7</td>\n",
       "      <td>0.668379</td>\n",
       "      <td>0.677059</td>\n",
       "      <td>0.319354</td>\n",
       "      <td>0.133275</td>\n",
       "      <td>0.703391</td>\n",
       "      <td>-54.73447</td>\n",
       "      <td>-68.10685</td>\n",
       "      <td>2019-08-11</td>\n",
       "    </tr>\n",
       "    <tr>\n",
       "      <th>13563663</th>\n",
       "      <td>0.417339</td>\n",
       "      <td>0.805035</td>\n",
       "      <td>0.996234</td>\n",
       "      <td>0.7</td>\n",
       "      <td>0.678995</td>\n",
       "      <td>0.684643</td>\n",
       "      <td>0.319354</td>\n",
       "      <td>0.133275</td>\n",
       "      <td>0.703552</td>\n",
       "      <td>-54.73447</td>\n",
       "      <td>-68.10685</td>\n",
       "      <td>2019-08-12</td>\n",
       "    </tr>\n",
       "    <tr>\n",
       "      <th>13565561</th>\n",
       "      <td>0.428953</td>\n",
       "      <td>0.870483</td>\n",
       "      <td>0.999304</td>\n",
       "      <td>0.7</td>\n",
       "      <td>0.677228</td>\n",
       "      <td>0.677272</td>\n",
       "      <td>0.319354</td>\n",
       "      <td>0.133275</td>\n",
       "      <td>0.703702</td>\n",
       "      <td>-54.73447</td>\n",
       "      <td>-68.10685</td>\n",
       "      <td>2019-08-14</td>\n",
       "    </tr>\n",
       "    <tr>\n",
       "      <th>13566803</th>\n",
       "      <td>0.436613</td>\n",
       "      <td>0.892357</td>\n",
       "      <td>0.993725</td>\n",
       "      <td>0.7</td>\n",
       "      <td>0.677911</td>\n",
       "      <td>0.682764</td>\n",
       "      <td>0.319354</td>\n",
       "      <td>0.133275</td>\n",
       "      <td>0.703682</td>\n",
       "      <td>-54.73447</td>\n",
       "      <td>-68.10685</td>\n",
       "      <td>2019-08-15</td>\n",
       "    </tr>\n",
       "    <tr>\n",
       "      <th>13568994</th>\n",
       "      <td>0.461971</td>\n",
       "      <td>0.903925</td>\n",
       "      <td>0.998780</td>\n",
       "      <td>0.7</td>\n",
       "      <td>0.672902</td>\n",
       "      <td>0.674774</td>\n",
       "      <td>0.319354</td>\n",
       "      <td>0.133275</td>\n",
       "      <td>0.703603</td>\n",
       "      <td>-54.73447</td>\n",
       "      <td>-68.10685</td>\n",
       "      <td>2019-08-19</td>\n",
       "    </tr>\n",
       "  </tbody>\n",
       "</table>\n",
       "</div>\n",
       "      <button class=\"colab-df-convert\" onclick=\"convertToInteractive('df-013f9447-7fad-467a-93ff-a101c27030d4')\"\n",
       "              title=\"Convert this dataframe to an interactive table.\"\n",
       "              style=\"display:none;\">\n",
       "        \n",
       "  <svg xmlns=\"http://www.w3.org/2000/svg\" height=\"24px\"viewBox=\"0 0 24 24\"\n",
       "       width=\"24px\">\n",
       "    <path d=\"M0 0h24v24H0V0z\" fill=\"none\"/>\n",
       "    <path d=\"M18.56 5.44l.94 2.06.94-2.06 2.06-.94-2.06-.94-.94-2.06-.94 2.06-2.06.94zm-11 1L8.5 8.5l.94-2.06 2.06-.94-2.06-.94L8.5 2.5l-.94 2.06-2.06.94zm10 10l.94 2.06.94-2.06 2.06-.94-2.06-.94-.94-2.06-.94 2.06-2.06.94z\"/><path d=\"M17.41 7.96l-1.37-1.37c-.4-.4-.92-.59-1.43-.59-.52 0-1.04.2-1.43.59L10.3 9.45l-7.72 7.72c-.78.78-.78 2.05 0 2.83L4 21.41c.39.39.9.59 1.41.59.51 0 1.02-.2 1.41-.59l7.78-7.78 2.81-2.81c.8-.78.8-2.07 0-2.86zM5.41 20L4 18.59l7.72-7.72 1.47 1.35L5.41 20z\"/>\n",
       "  </svg>\n",
       "      </button>\n",
       "      \n",
       "  <style>\n",
       "    .colab-df-container {\n",
       "      display:flex;\n",
       "      flex-wrap:wrap;\n",
       "      gap: 12px;\n",
       "    }\n",
       "\n",
       "    .colab-df-convert {\n",
       "      background-color: #E8F0FE;\n",
       "      border: none;\n",
       "      border-radius: 50%;\n",
       "      cursor: pointer;\n",
       "      display: none;\n",
       "      fill: #1967D2;\n",
       "      height: 32px;\n",
       "      padding: 0 0 0 0;\n",
       "      width: 32px;\n",
       "    }\n",
       "\n",
       "    .colab-df-convert:hover {\n",
       "      background-color: #E2EBFA;\n",
       "      box-shadow: 0px 1px 2px rgba(60, 64, 67, 0.3), 0px 1px 3px 1px rgba(60, 64, 67, 0.15);\n",
       "      fill: #174EA6;\n",
       "    }\n",
       "\n",
       "    [theme=dark] .colab-df-convert {\n",
       "      background-color: #3B4455;\n",
       "      fill: #D2E3FC;\n",
       "    }\n",
       "\n",
       "    [theme=dark] .colab-df-convert:hover {\n",
       "      background-color: #434B5C;\n",
       "      box-shadow: 0px 1px 3px 1px rgba(0, 0, 0, 0.15);\n",
       "      filter: drop-shadow(0px 1px 2px rgba(0, 0, 0, 0.3));\n",
       "      fill: #FFFFFF;\n",
       "    }\n",
       "  </style>\n",
       "\n",
       "      <script>\n",
       "        const buttonEl =\n",
       "          document.querySelector('#df-013f9447-7fad-467a-93ff-a101c27030d4 button.colab-df-convert');\n",
       "        buttonEl.style.display =\n",
       "          google.colab.kernel.accessAllowed ? 'block' : 'none';\n",
       "\n",
       "        async function convertToInteractive(key) {\n",
       "          const element = document.querySelector('#df-013f9447-7fad-467a-93ff-a101c27030d4');\n",
       "          const dataTable =\n",
       "            await google.colab.kernel.invokeFunction('convertToInteractive',\n",
       "                                                     [key], {});\n",
       "          if (!dataTable) return;\n",
       "\n",
       "          const docLinkHtml = 'Like what you see? Visit the ' +\n",
       "            '<a target=\"_blank\" href=https://colab.research.google.com/notebooks/data_table.ipynb>data table notebook</a>'\n",
       "            + ' to learn more about interactive tables.';\n",
       "          element.innerHTML = '';\n",
       "          dataTable['output_type'] = 'display_data';\n",
       "          await google.colab.output.renderOutput(dataTable, element);\n",
       "          const docLink = document.createElement('div');\n",
       "          docLink.innerHTML = docLinkHtml;\n",
       "          element.appendChild(docLink);\n",
       "        }\n",
       "      </script>\n",
       "    </div>\n",
       "  </div>\n",
       "  "
      ]
     },
     "metadata": {}
    },
    {
     "output_type": "stream",
     "name": "stdout",
     "text": [
      "5\n",
      "2019-08-11 00:00:00\n",
      "2019-08-19 00:00:00\n"
     ]
    },
    {
     "output_type": "display_data",
     "data": {
      "text/plain": [
       "           density  snowtemp  soiltemp  omega       Tbh       Tbv        cf  \\\n",
       "13562142  0.412067  0.817112  0.995011    0.7  0.668841  0.675598  0.321291   \n",
       "13563678  0.416563  0.807155  0.992390    0.7  0.677074  0.683424  0.321291   \n",
       "13565563  0.426910  0.870855  0.998475    0.7  0.673722  0.678564  0.321291   \n",
       "13566807  0.433939  0.892694  0.990807    0.7  0.677054  0.680754  0.321291   \n",
       "13569000  0.457130  0.910077  0.997865    0.7  0.671337  0.676375  0.321291   \n",
       "\n",
       "                 h       voc       lat       lon       date  \n",
       "13562142  0.130967  0.703391 -54.73447 -68.01349 2019-08-11  \n",
       "13563678  0.130967  0.703552 -54.73447 -68.01349 2019-08-12  \n",
       "13565563  0.130967  0.703702 -54.73447 -68.01349 2019-08-14  \n",
       "13566807  0.130967  0.703682 -54.73447 -68.01349 2019-08-15  \n",
       "13569000  0.130967  0.703603 -54.73447 -68.01349 2019-08-19  "
      ],
      "text/html": [
       "\n",
       "  <div id=\"df-d27473d2-0cef-46fd-9a8e-90a94bc3ff24\">\n",
       "    <div class=\"colab-df-container\">\n",
       "      <div>\n",
       "<style scoped>\n",
       "    .dataframe tbody tr th:only-of-type {\n",
       "        vertical-align: middle;\n",
       "    }\n",
       "\n",
       "    .dataframe tbody tr th {\n",
       "        vertical-align: top;\n",
       "    }\n",
       "\n",
       "    .dataframe thead th {\n",
       "        text-align: right;\n",
       "    }\n",
       "</style>\n",
       "<table border=\"1\" class=\"dataframe\">\n",
       "  <thead>\n",
       "    <tr style=\"text-align: right;\">\n",
       "      <th></th>\n",
       "      <th>density</th>\n",
       "      <th>snowtemp</th>\n",
       "      <th>soiltemp</th>\n",
       "      <th>omega</th>\n",
       "      <th>Tbh</th>\n",
       "      <th>Tbv</th>\n",
       "      <th>cf</th>\n",
       "      <th>h</th>\n",
       "      <th>voc</th>\n",
       "      <th>lat</th>\n",
       "      <th>lon</th>\n",
       "      <th>date</th>\n",
       "    </tr>\n",
       "  </thead>\n",
       "  <tbody>\n",
       "    <tr>\n",
       "      <th>13562142</th>\n",
       "      <td>0.412067</td>\n",
       "      <td>0.817112</td>\n",
       "      <td>0.995011</td>\n",
       "      <td>0.7</td>\n",
       "      <td>0.668841</td>\n",
       "      <td>0.675598</td>\n",
       "      <td>0.321291</td>\n",
       "      <td>0.130967</td>\n",
       "      <td>0.703391</td>\n",
       "      <td>-54.73447</td>\n",
       "      <td>-68.01349</td>\n",
       "      <td>2019-08-11</td>\n",
       "    </tr>\n",
       "    <tr>\n",
       "      <th>13563678</th>\n",
       "      <td>0.416563</td>\n",
       "      <td>0.807155</td>\n",
       "      <td>0.992390</td>\n",
       "      <td>0.7</td>\n",
       "      <td>0.677074</td>\n",
       "      <td>0.683424</td>\n",
       "      <td>0.321291</td>\n",
       "      <td>0.130967</td>\n",
       "      <td>0.703552</td>\n",
       "      <td>-54.73447</td>\n",
       "      <td>-68.01349</td>\n",
       "      <td>2019-08-12</td>\n",
       "    </tr>\n",
       "    <tr>\n",
       "      <th>13565563</th>\n",
       "      <td>0.426910</td>\n",
       "      <td>0.870855</td>\n",
       "      <td>0.998475</td>\n",
       "      <td>0.7</td>\n",
       "      <td>0.673722</td>\n",
       "      <td>0.678564</td>\n",
       "      <td>0.321291</td>\n",
       "      <td>0.130967</td>\n",
       "      <td>0.703702</td>\n",
       "      <td>-54.73447</td>\n",
       "      <td>-68.01349</td>\n",
       "      <td>2019-08-14</td>\n",
       "    </tr>\n",
       "    <tr>\n",
       "      <th>13566807</th>\n",
       "      <td>0.433939</td>\n",
       "      <td>0.892694</td>\n",
       "      <td>0.990807</td>\n",
       "      <td>0.7</td>\n",
       "      <td>0.677054</td>\n",
       "      <td>0.680754</td>\n",
       "      <td>0.321291</td>\n",
       "      <td>0.130967</td>\n",
       "      <td>0.703682</td>\n",
       "      <td>-54.73447</td>\n",
       "      <td>-68.01349</td>\n",
       "      <td>2019-08-15</td>\n",
       "    </tr>\n",
       "    <tr>\n",
       "      <th>13569000</th>\n",
       "      <td>0.457130</td>\n",
       "      <td>0.910077</td>\n",
       "      <td>0.997865</td>\n",
       "      <td>0.7</td>\n",
       "      <td>0.671337</td>\n",
       "      <td>0.676375</td>\n",
       "      <td>0.321291</td>\n",
       "      <td>0.130967</td>\n",
       "      <td>0.703603</td>\n",
       "      <td>-54.73447</td>\n",
       "      <td>-68.01349</td>\n",
       "      <td>2019-08-19</td>\n",
       "    </tr>\n",
       "  </tbody>\n",
       "</table>\n",
       "</div>\n",
       "      <button class=\"colab-df-convert\" onclick=\"convertToInteractive('df-d27473d2-0cef-46fd-9a8e-90a94bc3ff24')\"\n",
       "              title=\"Convert this dataframe to an interactive table.\"\n",
       "              style=\"display:none;\">\n",
       "        \n",
       "  <svg xmlns=\"http://www.w3.org/2000/svg\" height=\"24px\"viewBox=\"0 0 24 24\"\n",
       "       width=\"24px\">\n",
       "    <path d=\"M0 0h24v24H0V0z\" fill=\"none\"/>\n",
       "    <path d=\"M18.56 5.44l.94 2.06.94-2.06 2.06-.94-2.06-.94-.94-2.06-.94 2.06-2.06.94zm-11 1L8.5 8.5l.94-2.06 2.06-.94-2.06-.94L8.5 2.5l-.94 2.06-2.06.94zm10 10l.94 2.06.94-2.06 2.06-.94-2.06-.94-.94-2.06-.94 2.06-2.06.94z\"/><path d=\"M17.41 7.96l-1.37-1.37c-.4-.4-.92-.59-1.43-.59-.52 0-1.04.2-1.43.59L10.3 9.45l-7.72 7.72c-.78.78-.78 2.05 0 2.83L4 21.41c.39.39.9.59 1.41.59.51 0 1.02-.2 1.41-.59l7.78-7.78 2.81-2.81c.8-.78.8-2.07 0-2.86zM5.41 20L4 18.59l7.72-7.72 1.47 1.35L5.41 20z\"/>\n",
       "  </svg>\n",
       "      </button>\n",
       "      \n",
       "  <style>\n",
       "    .colab-df-container {\n",
       "      display:flex;\n",
       "      flex-wrap:wrap;\n",
       "      gap: 12px;\n",
       "    }\n",
       "\n",
       "    .colab-df-convert {\n",
       "      background-color: #E8F0FE;\n",
       "      border: none;\n",
       "      border-radius: 50%;\n",
       "      cursor: pointer;\n",
       "      display: none;\n",
       "      fill: #1967D2;\n",
       "      height: 32px;\n",
       "      padding: 0 0 0 0;\n",
       "      width: 32px;\n",
       "    }\n",
       "\n",
       "    .colab-df-convert:hover {\n",
       "      background-color: #E2EBFA;\n",
       "      box-shadow: 0px 1px 2px rgba(60, 64, 67, 0.3), 0px 1px 3px 1px rgba(60, 64, 67, 0.15);\n",
       "      fill: #174EA6;\n",
       "    }\n",
       "\n",
       "    [theme=dark] .colab-df-convert {\n",
       "      background-color: #3B4455;\n",
       "      fill: #D2E3FC;\n",
       "    }\n",
       "\n",
       "    [theme=dark] .colab-df-convert:hover {\n",
       "      background-color: #434B5C;\n",
       "      box-shadow: 0px 1px 3px 1px rgba(0, 0, 0, 0.15);\n",
       "      filter: drop-shadow(0px 1px 2px rgba(0, 0, 0, 0.3));\n",
       "      fill: #FFFFFF;\n",
       "    }\n",
       "  </style>\n",
       "\n",
       "      <script>\n",
       "        const buttonEl =\n",
       "          document.querySelector('#df-d27473d2-0cef-46fd-9a8e-90a94bc3ff24 button.colab-df-convert');\n",
       "        buttonEl.style.display =\n",
       "          google.colab.kernel.accessAllowed ? 'block' : 'none';\n",
       "\n",
       "        async function convertToInteractive(key) {\n",
       "          const element = document.querySelector('#df-d27473d2-0cef-46fd-9a8e-90a94bc3ff24');\n",
       "          const dataTable =\n",
       "            await google.colab.kernel.invokeFunction('convertToInteractive',\n",
       "                                                     [key], {});\n",
       "          if (!dataTable) return;\n",
       "\n",
       "          const docLinkHtml = 'Like what you see? Visit the ' +\n",
       "            '<a target=\"_blank\" href=https://colab.research.google.com/notebooks/data_table.ipynb>data table notebook</a>'\n",
       "            + ' to learn more about interactive tables.';\n",
       "          element.innerHTML = '';\n",
       "          dataTable['output_type'] = 'display_data';\n",
       "          await google.colab.output.renderOutput(dataTable, element);\n",
       "          const docLink = document.createElement('div');\n",
       "          docLink.innerHTML = docLinkHtml;\n",
       "          element.appendChild(docLink);\n",
       "        }\n",
       "      </script>\n",
       "    </div>\n",
       "  </div>\n",
       "  "
      ]
     },
     "metadata": {}
    }
   ]
  },
  {
   "cell_type": "code",
   "source": [
    "# #To illistrate how Generators works include a reset index:\n",
    "# train1 = train1.reset_index(drop = True)\n",
    "# train1 = train1.reset_index()\n",
    "# print(train1.head())\n",
    "\n",
    "# train2 = train2.reset_index(drop = True)\n",
    "# train2 = train2.reset_index()\n",
    "# train2.head()"
   ],
   "metadata": {
    "id": "iuVBaE1jJvtd",
    "colab": {
     "base_uri": "https://localhost:8080/",
     "height": 438
    },
    "outputId": "7e179f2a-4f2c-4434-d9ff-db404594dd93",
    "pycharm": {
     "name": "#%%\n"
    }
   },
   "execution_count": null,
   "outputs": [
    {
     "output_type": "stream",
     "name": "stdout",
     "text": [
      "   index   density  snowtemp  soiltemp     omega       Tbh       Tbv  \\\n",
      "0      0  0.166630  0.908916  0.998302  0.779338  0.710750  0.708752   \n",
      "1      1  0.203359  0.553834  0.998184  0.779338  0.714580  0.707774   \n",
      "2      2  0.191918  0.581473  0.992350  0.779338  0.713668  0.711221   \n",
      "3      3  0.194654  0.425676  0.988548  0.779338  0.711498  0.705567   \n",
      "4      4  0.196457  0.282219  0.980238  0.779338  0.714373  0.709466   \n",
      "\n",
      "         cf         h       voc       lat        lon       date  \n",
      "0  0.305672  0.124832  0.240164  62.68411 -160.44087 2019-01-01  \n",
      "1  0.305672  0.124832  0.240019  62.68411 -160.44087 2019-01-08  \n",
      "2  0.305672  0.124832  0.240003  62.68411 -160.44087 2019-01-09  \n",
      "3  0.305672  0.124832  0.239988  62.68411 -160.44087 2019-01-10  \n",
      "4  0.305672  0.124832  0.239974  62.68411 -160.44087 2019-01-11  \n"
     ]
    },
    {
     "output_type": "execute_result",
     "data": {
      "text/plain": [
       "   index   density  snowtemp  soiltemp    omega       Tbh       Tbv        cf  \\\n",
       "0      0  0.176869  0.955726  0.995804  0.78347  0.715650  0.708749  0.311526   \n",
       "1      1  0.200845  0.564406  0.994576  0.78347  0.718182  0.716408  0.311526   \n",
       "2      2  0.188242  0.584642  0.988450  0.78347  0.710517  0.714051  0.311526   \n",
       "3      3  0.190667  0.460968  0.984354  0.78347  0.714821  0.706018  0.311526   \n",
       "4      4  0.192554  0.298409  0.975456  0.78347  0.714592  0.709420  0.311526   \n",
       "\n",
       "          h       voc        lat        lon       date  \n",
       "0  0.123756  0.228918  62.532246 -160.44087 2019-01-01  \n",
       "1  0.123756  0.228975  62.532246 -160.44087 2019-01-08  \n",
       "2  0.123756  0.228984  62.532246 -160.44087 2019-01-09  \n",
       "3  0.123756  0.228993  62.532246 -160.44087 2019-01-10  \n",
       "4  0.123756  0.229001  62.532246 -160.44087 2019-01-11  "
      ],
      "text/html": [
       "\n",
       "  <div id=\"df-c7ccf670-04b5-4606-aa6b-78c805175f7d\">\n",
       "    <div class=\"colab-df-container\">\n",
       "      <div>\n",
       "<style scoped>\n",
       "    .dataframe tbody tr th:only-of-type {\n",
       "        vertical-align: middle;\n",
       "    }\n",
       "\n",
       "    .dataframe tbody tr th {\n",
       "        vertical-align: top;\n",
       "    }\n",
       "\n",
       "    .dataframe thead th {\n",
       "        text-align: right;\n",
       "    }\n",
       "</style>\n",
       "<table border=\"1\" class=\"dataframe\">\n",
       "  <thead>\n",
       "    <tr style=\"text-align: right;\">\n",
       "      <th></th>\n",
       "      <th>index</th>\n",
       "      <th>density</th>\n",
       "      <th>snowtemp</th>\n",
       "      <th>soiltemp</th>\n",
       "      <th>omega</th>\n",
       "      <th>Tbh</th>\n",
       "      <th>Tbv</th>\n",
       "      <th>cf</th>\n",
       "      <th>h</th>\n",
       "      <th>voc</th>\n",
       "      <th>lat</th>\n",
       "      <th>lon</th>\n",
       "      <th>date</th>\n",
       "    </tr>\n",
       "  </thead>\n",
       "  <tbody>\n",
       "    <tr>\n",
       "      <th>0</th>\n",
       "      <td>0</td>\n",
       "      <td>0.176869</td>\n",
       "      <td>0.955726</td>\n",
       "      <td>0.995804</td>\n",
       "      <td>0.78347</td>\n",
       "      <td>0.715650</td>\n",
       "      <td>0.708749</td>\n",
       "      <td>0.311526</td>\n",
       "      <td>0.123756</td>\n",
       "      <td>0.228918</td>\n",
       "      <td>62.532246</td>\n",
       "      <td>-160.44087</td>\n",
       "      <td>2019-01-01</td>\n",
       "    </tr>\n",
       "    <tr>\n",
       "      <th>1</th>\n",
       "      <td>1</td>\n",
       "      <td>0.200845</td>\n",
       "      <td>0.564406</td>\n",
       "      <td>0.994576</td>\n",
       "      <td>0.78347</td>\n",
       "      <td>0.718182</td>\n",
       "      <td>0.716408</td>\n",
       "      <td>0.311526</td>\n",
       "      <td>0.123756</td>\n",
       "      <td>0.228975</td>\n",
       "      <td>62.532246</td>\n",
       "      <td>-160.44087</td>\n",
       "      <td>2019-01-08</td>\n",
       "    </tr>\n",
       "    <tr>\n",
       "      <th>2</th>\n",
       "      <td>2</td>\n",
       "      <td>0.188242</td>\n",
       "      <td>0.584642</td>\n",
       "      <td>0.988450</td>\n",
       "      <td>0.78347</td>\n",
       "      <td>0.710517</td>\n",
       "      <td>0.714051</td>\n",
       "      <td>0.311526</td>\n",
       "      <td>0.123756</td>\n",
       "      <td>0.228984</td>\n",
       "      <td>62.532246</td>\n",
       "      <td>-160.44087</td>\n",
       "      <td>2019-01-09</td>\n",
       "    </tr>\n",
       "    <tr>\n",
       "      <th>3</th>\n",
       "      <td>3</td>\n",
       "      <td>0.190667</td>\n",
       "      <td>0.460968</td>\n",
       "      <td>0.984354</td>\n",
       "      <td>0.78347</td>\n",
       "      <td>0.714821</td>\n",
       "      <td>0.706018</td>\n",
       "      <td>0.311526</td>\n",
       "      <td>0.123756</td>\n",
       "      <td>0.228993</td>\n",
       "      <td>62.532246</td>\n",
       "      <td>-160.44087</td>\n",
       "      <td>2019-01-10</td>\n",
       "    </tr>\n",
       "    <tr>\n",
       "      <th>4</th>\n",
       "      <td>4</td>\n",
       "      <td>0.192554</td>\n",
       "      <td>0.298409</td>\n",
       "      <td>0.975456</td>\n",
       "      <td>0.78347</td>\n",
       "      <td>0.714592</td>\n",
       "      <td>0.709420</td>\n",
       "      <td>0.311526</td>\n",
       "      <td>0.123756</td>\n",
       "      <td>0.229001</td>\n",
       "      <td>62.532246</td>\n",
       "      <td>-160.44087</td>\n",
       "      <td>2019-01-11</td>\n",
       "    </tr>\n",
       "  </tbody>\n",
       "</table>\n",
       "</div>\n",
       "      <button class=\"colab-df-convert\" onclick=\"convertToInteractive('df-c7ccf670-04b5-4606-aa6b-78c805175f7d')\"\n",
       "              title=\"Convert this dataframe to an interactive table.\"\n",
       "              style=\"display:none;\">\n",
       "        \n",
       "  <svg xmlns=\"http://www.w3.org/2000/svg\" height=\"24px\"viewBox=\"0 0 24 24\"\n",
       "       width=\"24px\">\n",
       "    <path d=\"M0 0h24v24H0V0z\" fill=\"none\"/>\n",
       "    <path d=\"M18.56 5.44l.94 2.06.94-2.06 2.06-.94-2.06-.94-.94-2.06-.94 2.06-2.06.94zm-11 1L8.5 8.5l.94-2.06 2.06-.94-2.06-.94L8.5 2.5l-.94 2.06-2.06.94zm10 10l.94 2.06.94-2.06 2.06-.94-2.06-.94-.94-2.06-.94 2.06-2.06.94z\"/><path d=\"M17.41 7.96l-1.37-1.37c-.4-.4-.92-.59-1.43-.59-.52 0-1.04.2-1.43.59L10.3 9.45l-7.72 7.72c-.78.78-.78 2.05 0 2.83L4 21.41c.39.39.9.59 1.41.59.51 0 1.02-.2 1.41-.59l7.78-7.78 2.81-2.81c.8-.78.8-2.07 0-2.86zM5.41 20L4 18.59l7.72-7.72 1.47 1.35L5.41 20z\"/>\n",
       "  </svg>\n",
       "      </button>\n",
       "      \n",
       "  <style>\n",
       "    .colab-df-container {\n",
       "      display:flex;\n",
       "      flex-wrap:wrap;\n",
       "      gap: 12px;\n",
       "    }\n",
       "\n",
       "    .colab-df-convert {\n",
       "      background-color: #E8F0FE;\n",
       "      border: none;\n",
       "      border-radius: 50%;\n",
       "      cursor: pointer;\n",
       "      display: none;\n",
       "      fill: #1967D2;\n",
       "      height: 32px;\n",
       "      padding: 0 0 0 0;\n",
       "      width: 32px;\n",
       "    }\n",
       "\n",
       "    .colab-df-convert:hover {\n",
       "      background-color: #E2EBFA;\n",
       "      box-shadow: 0px 1px 2px rgba(60, 64, 67, 0.3), 0px 1px 3px 1px rgba(60, 64, 67, 0.15);\n",
       "      fill: #174EA6;\n",
       "    }\n",
       "\n",
       "    [theme=dark] .colab-df-convert {\n",
       "      background-color: #3B4455;\n",
       "      fill: #D2E3FC;\n",
       "    }\n",
       "\n",
       "    [theme=dark] .colab-df-convert:hover {\n",
       "      background-color: #434B5C;\n",
       "      box-shadow: 0px 1px 3px 1px rgba(0, 0, 0, 0.15);\n",
       "      filter: drop-shadow(0px 1px 2px rgba(0, 0, 0, 0.3));\n",
       "      fill: #FFFFFF;\n",
       "    }\n",
       "  </style>\n",
       "\n",
       "      <script>\n",
       "        const buttonEl =\n",
       "          document.querySelector('#df-c7ccf670-04b5-4606-aa6b-78c805175f7d button.colab-df-convert');\n",
       "        buttonEl.style.display =\n",
       "          google.colab.kernel.accessAllowed ? 'block' : 'none';\n",
       "\n",
       "        async function convertToInteractive(key) {\n",
       "          const element = document.querySelector('#df-c7ccf670-04b5-4606-aa6b-78c805175f7d');\n",
       "          const dataTable =\n",
       "            await google.colab.kernel.invokeFunction('convertToInteractive',\n",
       "                                                     [key], {});\n",
       "          if (!dataTable) return;\n",
       "\n",
       "          const docLinkHtml = 'Like what you see? Visit the ' +\n",
       "            '<a target=\"_blank\" href=https://colab.research.google.com/notebooks/data_table.ipynb>data table notebook</a>'\n",
       "            + ' to learn more about interactive tables.';\n",
       "          element.innerHTML = '';\n",
       "          dataTable['output_type'] = 'display_data';\n",
       "          await google.colab.output.renderOutput(dataTable, element);\n",
       "          const docLink = document.createElement('div');\n",
       "          docLink.innerHTML = docLinkHtml;\n",
       "          element.appendChild(docLink);\n",
       "        }\n",
       "      </script>\n",
       "    </div>\n",
       "  </div>\n",
       "  "
      ]
     },
     "metadata": {},
     "execution_count": 11
    }
   ]
  },
  {
   "cell_type": "code",
   "source": [
    "#Lets try reshaping as a tensor - LSTM takes in a 3d df:  number of samples (row count - n_input) by number of timesteps (rows) by the number of features (columns)\n",
    "# 41 time steps, 8 features (9 after removing y, lat, lon and date but adding index). sample number depends on n_input size (# of records used to make a prediction)\n",
    "\n",
    "x_train1 = train1[['index','snowtemp', 'soiltemp', 'omega', 'Tbh', 'Tbv', 'cf', 'h', 'voc']] #Swap comment if you are using index \n",
    "#x_train1 = train1[['snowtemp', 'soiltemp', 'omega', 'Tbh', 'Tbv', 'cf', 'h', 'voc']]\n",
    "x_train1 = np.array(x_train1)\n",
    "y_train1 = train1[['density']]\n",
    "y_train1 = np.array(y_train1)\n",
    "y_train1 = y_train1.reshape(-1) #now is values in one array, not an array of arrays size 1. \n",
    "\n",
    "print(\"set 1:\")\n",
    "print(x_train1.shape)\n",
    "print(y_train1.shape)\n",
    "\n",
    "#Second set\n",
    "x_train2 = train2[['index','snowtemp', 'soiltemp', 'omega', 'Tbh', 'Tbv', 'cf', 'h', 'voc']]\n",
    "#x_train2 = train2[['snowtemp', 'soiltemp', 'omega', 'Tbh', 'Tbv', 'cf', 'h', 'voc']]\n",
    "x_train2 = np.array(x_train2)\n",
    "y_train2 = train2[['density']]\n",
    "y_train2 = np.array(y_train2)\n",
    "y_train2 = y_train2.reshape(-1) #now is values in one array, not an array of arrays size 1. \n",
    "\n",
    "print(\"set 2:\")\n",
    "print(x_train2.shape)\n",
    "print(y_train2.shape)\n",
    "\n",
    "print(train1.head())\n",
    "print(y_train1[:5])"
   ],
   "metadata": {
    "colab": {
     "base_uri": "https://localhost:8080/"
    },
    "id": "pNxj2UqY_5So",
    "outputId": "0b040c04-a6f0-4876-8562-4dd272f1eff4",
    "pycharm": {
     "name": "#%%\n"
    }
   },
   "execution_count": null,
   "outputs": [
    {
     "output_type": "stream",
     "name": "stdout",
     "text": [
      "set 1:\n",
      "(41, 9)\n",
      "(41,)\n",
      "set 2:\n",
      "(46, 9)\n",
      "(46,)\n"
     ]
    }
   ]
  },
  {
   "cell_type": "markdown",
   "source": [
    "Important note on processing: We are trying to predict the *current* density from our input variables, so there is no need to move our y_data one forward. "
   ],
   "metadata": {
    "id": "vZkEzeA9d-gz",
    "pycharm": {
     "name": "#%% md\n"
    }
   }
  },
  {
   "cell_type": "code",
   "source": [
    "#https://machinelearningmastery.com/how-to-use-the-timeseriesgenerator-for-time-series-forecasting-in-keras/\n",
    "\n",
    "n_features= x_train1.shape[1] # how many predictors/Xs/features we have to predict y\n",
    "b_size = 50 # Number of timeseries samples in each batch. It will self limit to feasable size, so you can go over and it will self correct with no error\n",
    "\n",
    "generator = TimeseriesGenerator(x_train1, y_train1, length=n_input, batch_size=b_size)\n",
    "generator2 = TimeseriesGenerator(x_train2, y_train2, length=n_input, batch_size=b_size)\n",
    "\n",
    "print(\"shape generator 1:\", generator[0][0].shape)\n",
    "print(\"shape generator 1:\", generator2[0][0].shape)\n",
    "\n",
    "print(\"generator 1 content:\")\n",
    "generator[0][0]"
   ],
   "metadata": {
    "colab": {
     "base_uri": "https://localhost:8080/"
    },
    "id": "kHsJ0QYXFLXm",
    "outputId": "501ca333-8baf-41ad-f6e8-7c1f0d567663",
    "pycharm": {
     "name": "#%%\n"
    }
   },
   "execution_count": null,
   "outputs": [
    {
     "output_type": "stream",
     "name": "stdout",
     "text": [
      "shape generator 1: (38, 3, 9)\n",
      "shape generator 1: (43, 3, 9)\n",
      "generator 1 content:\n"
     ]
    },
    {
     "output_type": "execute_result",
     "data": {
      "text/plain": [
       "array([[[ 0.        ,  0.90891553,  0.99830206, ...,  0.3056722 ,\n",
       "          0.12483246,  0.24016423],\n",
       "        [ 1.        ,  0.55383357,  0.99818396, ...,  0.3056722 ,\n",
       "          0.12483246,  0.24001892],\n",
       "        [ 2.        ,  0.58147313,  0.99235019, ...,  0.3056722 ,\n",
       "          0.12483246,  0.24000276]],\n",
       "\n",
       "       [[ 1.        ,  0.55383357,  0.99818396, ...,  0.3056722 ,\n",
       "          0.12483246,  0.24001892],\n",
       "        [ 2.        ,  0.58147313,  0.99235019, ...,  0.3056722 ,\n",
       "          0.12483246,  0.24000276],\n",
       "        [ 3.        ,  0.42567649,  0.98854799, ...,  0.3056722 ,\n",
       "          0.12483246,  0.23998776]],\n",
       "\n",
       "       [[ 2.        ,  0.58147313,  0.99235019, ...,  0.3056722 ,\n",
       "          0.12483246,  0.24000276],\n",
       "        [ 3.        ,  0.42567649,  0.98854799, ...,  0.3056722 ,\n",
       "          0.12483246,  0.23998776],\n",
       "        [ 4.        ,  0.28221916,  0.98023832, ...,  0.3056722 ,\n",
       "          0.12483246,  0.23997391]],\n",
       "\n",
       "       ...,\n",
       "\n",
       "       [[35.        ,  0.35802195,  0.96498329, ...,  0.3056722 ,\n",
       "          0.12483246,  0.24004565],\n",
       "        [36.        ,  0.31382154,  0.95995388, ...,  0.3056722 ,\n",
       "          0.12483246,  0.24004565],\n",
       "        [37.        ,  0.32477769,  0.9544777 , ...,  0.3056722 ,\n",
       "          0.12483246,  0.24004565]],\n",
       "\n",
       "       [[36.        ,  0.31382154,  0.95995388, ...,  0.3056722 ,\n",
       "          0.12483246,  0.24004565],\n",
       "        [37.        ,  0.32477769,  0.9544777 , ...,  0.3056722 ,\n",
       "          0.12483246,  0.24004565],\n",
       "        [38.        ,  0.41980394,  0.95392768, ...,  0.3056722 ,\n",
       "          0.12483246,  0.24004565]],\n",
       "\n",
       "       [[37.        ,  0.32477769,  0.9544777 , ...,  0.3056722 ,\n",
       "          0.12483246,  0.24004565],\n",
       "        [38.        ,  0.41980394,  0.95392768, ...,  0.3056722 ,\n",
       "          0.12483246,  0.24004565],\n",
       "        [39.        ,  0.49600264,  0.95516315, ...,  0.3056722 ,\n",
       "          0.12483246,  0.24004565]]])"
      ]
     },
     "metadata": {},
     "execution_count": 17
    }
   ]
  },
  {
   "cell_type": "code",
   "source": [
    "generator.targets #Generator targets is just a stright reproduction of y_train"
   ],
   "metadata": {
    "colab": {
     "base_uri": "https://localhost:8080/"
    },
    "id": "ptuzZ_raY-p1",
    "outputId": "99983098-f2ee-4163-d15e-b5282b0fc9ad",
    "pycharm": {
     "name": "#%%\n"
    }
   },
   "execution_count": null,
   "outputs": [
    {
     "output_type": "execute_result",
     "data": {
      "text/plain": [
       "array([0.16662979, 0.20335938, 0.19191794, 0.19465384, 0.196457  ,\n",
       "       0.19744315, 0.18722819, 0.17017889, 0.20717552, 0.21762509,\n",
       "       0.24080997, 0.22371299, 0.22260159, 0.1603912 , 0.16048403,\n",
       "       0.16058131, 0.15255736, 0.10457073, 0.14727694, 0.15503449,\n",
       "       0.15932876, 0.17938672, 0.19660069, 0.17692231, 0.16101366,\n",
       "       0.15264193, 0.14955569, 0.12343908, 0.14789623, 0.18848583,\n",
       "       0.30205393, 0.28712824, 0.27823069, 0.27691329, 0.27262028,\n",
       "       0.2756086 , 0.27673971, 0.27772458, 0.27585466, 0.25279503,\n",
       "       0.24062114])"
      ]
     },
     "metadata": {},
     "execution_count": 15
    }
   ]
  },
  {
   "cell_type": "code",
   "source": [
    "#Lets try appending these generator objects:\n",
    "\n",
    "#We can use the generator object to build out our moving windows along each set,\n",
    "# then concatinate the arrays inside of it into one large dataset for training. \n",
    "gen = np.vstack([generator[0][0], generator2[0][0]])\n",
    "ygen_noprocess = np.concatenate([generator.targets, generator2.targets])\n",
    "ygen = np.concatenate([generator.targets[1:-(n_input-1)], generator2.targets[1:-(n_input-1)]])\n",
    "\n",
    "print(len(ygen_noprocess)) #This one is six longer, since there was an overhang of 3 extra values for each generator object. \n",
    "print(len(ygen))\n",
    "\n",
    "print(gen.shape)\n",
    "gen"
   ],
   "metadata": {
    "id": "F10JKAkqIMvY",
    "colab": {
     "base_uri": "https://localhost:8080/"
    },
    "outputId": "f3664563-cf4d-4d54-e11c-564c21834ee9",
    "pycharm": {
     "name": "#%%\n"
    }
   },
   "execution_count": null,
   "outputs": [
    {
     "output_type": "stream",
     "name": "stdout",
     "text": [
      "87\n",
      "81\n",
      "(81, 3, 9)\n"
     ]
    },
    {
     "output_type": "execute_result",
     "data": {
      "text/plain": [
       "array([[[ 0.        ,  0.90891553,  0.99830206, ...,  0.3056722 ,\n",
       "          0.12483246,  0.24016423],\n",
       "        [ 1.        ,  0.55383357,  0.99818396, ...,  0.3056722 ,\n",
       "          0.12483246,  0.24001892],\n",
       "        [ 2.        ,  0.58147313,  0.99235019, ...,  0.3056722 ,\n",
       "          0.12483246,  0.24000276]],\n",
       "\n",
       "       [[ 1.        ,  0.55383357,  0.99818396, ...,  0.3056722 ,\n",
       "          0.12483246,  0.24001892],\n",
       "        [ 2.        ,  0.58147313,  0.99235019, ...,  0.3056722 ,\n",
       "          0.12483246,  0.24000276],\n",
       "        [ 3.        ,  0.42567649,  0.98854799, ...,  0.3056722 ,\n",
       "          0.12483246,  0.23998776]],\n",
       "\n",
       "       [[ 2.        ,  0.58147313,  0.99235019, ...,  0.3056722 ,\n",
       "          0.12483246,  0.24000276],\n",
       "        [ 3.        ,  0.42567649,  0.98854799, ...,  0.3056722 ,\n",
       "          0.12483246,  0.23998776],\n",
       "        [ 4.        ,  0.28221916,  0.98023832, ...,  0.3056722 ,\n",
       "          0.12483246,  0.23997391]],\n",
       "\n",
       "       ...,\n",
       "\n",
       "       [[40.        ,  0.41487661,  0.95611865, ...,  0.31152562,\n",
       "          0.12375563,  0.22951882],\n",
       "        [41.        ,  0.37513617,  0.95061769, ...,  0.31152562,\n",
       "          0.12375563,  0.22951882],\n",
       "        [42.        ,  0.45427506,  0.94472445, ...,  0.31152562,\n",
       "          0.12375563,  0.22951882]],\n",
       "\n",
       "       [[41.        ,  0.37513617,  0.95061769, ...,  0.31152562,\n",
       "          0.12375563,  0.22951882],\n",
       "        [42.        ,  0.45427506,  0.94472445, ...,  0.31152562,\n",
       "          0.12375563,  0.22951882],\n",
       "        [43.        ,  0.51633741,  0.94439164, ...,  0.31152562,\n",
       "          0.12375563,  0.22951882]],\n",
       "\n",
       "       [[42.        ,  0.45427506,  0.94472445, ...,  0.31152562,\n",
       "          0.12375563,  0.22951882],\n",
       "        [43.        ,  0.51633741,  0.94439164, ...,  0.31152562,\n",
       "          0.12375563,  0.22951882],\n",
       "        [44.        ,  0.5841771 ,  0.94703269, ...,  0.31152562,\n",
       "          0.12375563,  0.22951882]]])"
      ]
     },
     "metadata": {},
     "execution_count": 19
    }
   ]
  },
  {
   "cell_type": "code",
   "source": [
    "#What about using only numpy to pre-process?\n",
    "# https://stackoverflow.com/questions/66353849/confusions-about-the-input-shape-in-lstm-models\n",
    "\n",
    "n_features= 8 # how many predictors/Xs/features we have to predict y\n",
    "\n",
    "def gen_np(df, window):\n",
    "  num_windows = len(df) - window + 1\n",
    "  # make slices of data\n",
    "  Xs, ys = [], []\n",
    "\n",
    "  for w in range(num_windows):\n",
    "      current_slice = df.iloc[w:w+window]\n",
    "      X = current_slice[['snowtemp', 'soiltemp', 'omega', 'Tbh', 'Tbv', 'cf', 'h', 'voc']].values\n",
    "      y = current_slice['density'].values[-1]\n",
    "      Xs.append(X)\n",
    "      ys.append(y)\n",
    "\n",
    "  X = np.stack(Xs)\n",
    "  y = np.stack(ys)\n",
    "  return X, y\n",
    "\n",
    "X, y = gen_np(train1, n_input)\n",
    "\n",
    "# check the shape\n",
    "print(X.shape)\n",
    "print(y.shape)\n",
    "print(train1.head()) #for reference\n",
    "print(X[:5])\n",
    "print(y)"
   ],
   "metadata": {
    "id": "fWfv8PBHQrmk",
    "colab": {
     "base_uri": "https://localhost:8080/",
     "height": 617
    },
    "outputId": "db416cf0-b605-467c-8ade-9aaccd8fed00",
    "pycharm": {
     "name": "#%%\n"
    }
   },
   "execution_count": null,
   "outputs": [
    {
     "output_type": "stream",
     "name": "stdout",
     "text": [
      "(3, 3, 8)\n",
      "(3,)\n"
     ]
    },
    {
     "output_type": "display_data",
     "data": {
      "text/plain": [
       "           density  snowtemp  soiltemp  omega       Tbh       Tbv        cf  \\\n",
       "13562138  0.412166  0.816258  0.998811    0.7  0.668379  0.677059  0.319354   \n",
       "13563663  0.417339  0.805035  0.996234    0.7  0.678995  0.684643  0.319354   \n",
       "13565561  0.428953  0.870483  0.999304    0.7  0.677228  0.677272  0.319354   \n",
       "13566803  0.436613  0.892357  0.993725    0.7  0.677911  0.682764  0.319354   \n",
       "13568994  0.461971  0.903925  0.998780    0.7  0.672902  0.674774  0.319354   \n",
       "\n",
       "                 h       voc       lat       lon       date  \n",
       "13562138  0.133275  0.703391 -54.73447 -68.10685 2019-08-11  \n",
       "13563663  0.133275  0.703552 -54.73447 -68.10685 2019-08-12  \n",
       "13565561  0.133275  0.703702 -54.73447 -68.10685 2019-08-14  \n",
       "13566803  0.133275  0.703682 -54.73447 -68.10685 2019-08-15  \n",
       "13568994  0.133275  0.703603 -54.73447 -68.10685 2019-08-19  "
      ],
      "text/html": [
       "\n",
       "  <div id=\"df-9a61ce5b-f085-485a-98d2-9cab5839fa14\">\n",
       "    <div class=\"colab-df-container\">\n",
       "      <div>\n",
       "<style scoped>\n",
       "    .dataframe tbody tr th:only-of-type {\n",
       "        vertical-align: middle;\n",
       "    }\n",
       "\n",
       "    .dataframe tbody tr th {\n",
       "        vertical-align: top;\n",
       "    }\n",
       "\n",
       "    .dataframe thead th {\n",
       "        text-align: right;\n",
       "    }\n",
       "</style>\n",
       "<table border=\"1\" class=\"dataframe\">\n",
       "  <thead>\n",
       "    <tr style=\"text-align: right;\">\n",
       "      <th></th>\n",
       "      <th>density</th>\n",
       "      <th>snowtemp</th>\n",
       "      <th>soiltemp</th>\n",
       "      <th>omega</th>\n",
       "      <th>Tbh</th>\n",
       "      <th>Tbv</th>\n",
       "      <th>cf</th>\n",
       "      <th>h</th>\n",
       "      <th>voc</th>\n",
       "      <th>lat</th>\n",
       "      <th>lon</th>\n",
       "      <th>date</th>\n",
       "    </tr>\n",
       "  </thead>\n",
       "  <tbody>\n",
       "    <tr>\n",
       "      <th>13562138</th>\n",
       "      <td>0.412166</td>\n",
       "      <td>0.816258</td>\n",
       "      <td>0.998811</td>\n",
       "      <td>0.7</td>\n",
       "      <td>0.668379</td>\n",
       "      <td>0.677059</td>\n",
       "      <td>0.319354</td>\n",
       "      <td>0.133275</td>\n",
       "      <td>0.703391</td>\n",
       "      <td>-54.73447</td>\n",
       "      <td>-68.10685</td>\n",
       "      <td>2019-08-11</td>\n",
       "    </tr>\n",
       "    <tr>\n",
       "      <th>13563663</th>\n",
       "      <td>0.417339</td>\n",
       "      <td>0.805035</td>\n",
       "      <td>0.996234</td>\n",
       "      <td>0.7</td>\n",
       "      <td>0.678995</td>\n",
       "      <td>0.684643</td>\n",
       "      <td>0.319354</td>\n",
       "      <td>0.133275</td>\n",
       "      <td>0.703552</td>\n",
       "      <td>-54.73447</td>\n",
       "      <td>-68.10685</td>\n",
       "      <td>2019-08-12</td>\n",
       "    </tr>\n",
       "    <tr>\n",
       "      <th>13565561</th>\n",
       "      <td>0.428953</td>\n",
       "      <td>0.870483</td>\n",
       "      <td>0.999304</td>\n",
       "      <td>0.7</td>\n",
       "      <td>0.677228</td>\n",
       "      <td>0.677272</td>\n",
       "      <td>0.319354</td>\n",
       "      <td>0.133275</td>\n",
       "      <td>0.703702</td>\n",
       "      <td>-54.73447</td>\n",
       "      <td>-68.10685</td>\n",
       "      <td>2019-08-14</td>\n",
       "    </tr>\n",
       "    <tr>\n",
       "      <th>13566803</th>\n",
       "      <td>0.436613</td>\n",
       "      <td>0.892357</td>\n",
       "      <td>0.993725</td>\n",
       "      <td>0.7</td>\n",
       "      <td>0.677911</td>\n",
       "      <td>0.682764</td>\n",
       "      <td>0.319354</td>\n",
       "      <td>0.133275</td>\n",
       "      <td>0.703682</td>\n",
       "      <td>-54.73447</td>\n",
       "      <td>-68.10685</td>\n",
       "      <td>2019-08-15</td>\n",
       "    </tr>\n",
       "    <tr>\n",
       "      <th>13568994</th>\n",
       "      <td>0.461971</td>\n",
       "      <td>0.903925</td>\n",
       "      <td>0.998780</td>\n",
       "      <td>0.7</td>\n",
       "      <td>0.672902</td>\n",
       "      <td>0.674774</td>\n",
       "      <td>0.319354</td>\n",
       "      <td>0.133275</td>\n",
       "      <td>0.703603</td>\n",
       "      <td>-54.73447</td>\n",
       "      <td>-68.10685</td>\n",
       "      <td>2019-08-19</td>\n",
       "    </tr>\n",
       "  </tbody>\n",
       "</table>\n",
       "</div>\n",
       "      <button class=\"colab-df-convert\" onclick=\"convertToInteractive('df-9a61ce5b-f085-485a-98d2-9cab5839fa14')\"\n",
       "              title=\"Convert this dataframe to an interactive table.\"\n",
       "              style=\"display:none;\">\n",
       "        \n",
       "  <svg xmlns=\"http://www.w3.org/2000/svg\" height=\"24px\"viewBox=\"0 0 24 24\"\n",
       "       width=\"24px\">\n",
       "    <path d=\"M0 0h24v24H0V0z\" fill=\"none\"/>\n",
       "    <path d=\"M18.56 5.44l.94 2.06.94-2.06 2.06-.94-2.06-.94-.94-2.06-.94 2.06-2.06.94zm-11 1L8.5 8.5l.94-2.06 2.06-.94-2.06-.94L8.5 2.5l-.94 2.06-2.06.94zm10 10l.94 2.06.94-2.06 2.06-.94-2.06-.94-.94-2.06-.94 2.06-2.06.94z\"/><path d=\"M17.41 7.96l-1.37-1.37c-.4-.4-.92-.59-1.43-.59-.52 0-1.04.2-1.43.59L10.3 9.45l-7.72 7.72c-.78.78-.78 2.05 0 2.83L4 21.41c.39.39.9.59 1.41.59.51 0 1.02-.2 1.41-.59l7.78-7.78 2.81-2.81c.8-.78.8-2.07 0-2.86zM5.41 20L4 18.59l7.72-7.72 1.47 1.35L5.41 20z\"/>\n",
       "  </svg>\n",
       "      </button>\n",
       "      \n",
       "  <style>\n",
       "    .colab-df-container {\n",
       "      display:flex;\n",
       "      flex-wrap:wrap;\n",
       "      gap: 12px;\n",
       "    }\n",
       "\n",
       "    .colab-df-convert {\n",
       "      background-color: #E8F0FE;\n",
       "      border: none;\n",
       "      border-radius: 50%;\n",
       "      cursor: pointer;\n",
       "      display: none;\n",
       "      fill: #1967D2;\n",
       "      height: 32px;\n",
       "      padding: 0 0 0 0;\n",
       "      width: 32px;\n",
       "    }\n",
       "\n",
       "    .colab-df-convert:hover {\n",
       "      background-color: #E2EBFA;\n",
       "      box-shadow: 0px 1px 2px rgba(60, 64, 67, 0.3), 0px 1px 3px 1px rgba(60, 64, 67, 0.15);\n",
       "      fill: #174EA6;\n",
       "    }\n",
       "\n",
       "    [theme=dark] .colab-df-convert {\n",
       "      background-color: #3B4455;\n",
       "      fill: #D2E3FC;\n",
       "    }\n",
       "\n",
       "    [theme=dark] .colab-df-convert:hover {\n",
       "      background-color: #434B5C;\n",
       "      box-shadow: 0px 1px 3px 1px rgba(0, 0, 0, 0.15);\n",
       "      filter: drop-shadow(0px 1px 2px rgba(0, 0, 0, 0.3));\n",
       "      fill: #FFFFFF;\n",
       "    }\n",
       "  </style>\n",
       "\n",
       "      <script>\n",
       "        const buttonEl =\n",
       "          document.querySelector('#df-9a61ce5b-f085-485a-98d2-9cab5839fa14 button.colab-df-convert');\n",
       "        buttonEl.style.display =\n",
       "          google.colab.kernel.accessAllowed ? 'block' : 'none';\n",
       "\n",
       "        async function convertToInteractive(key) {\n",
       "          const element = document.querySelector('#df-9a61ce5b-f085-485a-98d2-9cab5839fa14');\n",
       "          const dataTable =\n",
       "            await google.colab.kernel.invokeFunction('convertToInteractive',\n",
       "                                                     [key], {});\n",
       "          if (!dataTable) return;\n",
       "\n",
       "          const docLinkHtml = 'Like what you see? Visit the ' +\n",
       "            '<a target=\"_blank\" href=https://colab.research.google.com/notebooks/data_table.ipynb>data table notebook</a>'\n",
       "            + ' to learn more about interactive tables.';\n",
       "          element.innerHTML = '';\n",
       "          dataTable['output_type'] = 'display_data';\n",
       "          await google.colab.output.renderOutput(dataTable, element);\n",
       "          const docLink = document.createElement('div');\n",
       "          docLink.innerHTML = docLinkHtml;\n",
       "          element.appendChild(docLink);\n",
       "        }\n",
       "      </script>\n",
       "    </div>\n",
       "  </div>\n",
       "  "
      ]
     },
     "metadata": {}
    },
    {
     "output_type": "stream",
     "name": "stdout",
     "text": [
      "[[[0.81625822 0.99881078 0.69999972 0.66837909 0.67705922 0.3193543\n",
      "   0.13327522 0.70339097]\n",
      "  [0.80503465 0.99623414 0.69999972 0.67899542 0.68464269 0.3193543\n",
      "   0.13327522 0.70355208]\n",
      "  [0.87048334 0.99930381 0.69999972 0.67722763 0.67727244 0.3193543\n",
      "   0.13327522 0.7037019 ]]\n",
      "\n",
      " [[0.80503465 0.99623414 0.69999972 0.67899542 0.68464269 0.3193543\n",
      "   0.13327522 0.70355208]\n",
      "  [0.87048334 0.99930381 0.69999972 0.67722763 0.67727244 0.3193543\n",
      "   0.13327522 0.7037019 ]\n",
      "  [0.89235672 0.99372522 0.69999972 0.6779113  0.68276368 0.3193543\n",
      "   0.13327522 0.70368185]]\n",
      "\n",
      " [[0.87048334 0.99930381 0.69999972 0.67722763 0.67727244 0.3193543\n",
      "   0.13327522 0.7037019 ]\n",
      "  [0.89235672 0.99372522 0.69999972 0.6779113  0.68276368 0.3193543\n",
      "   0.13327522 0.70368185]\n",
      "  [0.90392522 0.99878022 0.69999972 0.67290206 0.67477389 0.3193543\n",
      "   0.13327522 0.70360281]]]\n",
      "[0.4289531  0.43661336 0.46197081]\n"
     ]
    }
   ]
  },
  {
   "cell_type": "code",
   "source": [
    "#Try appending np values: \n",
    "X2, y2 = gen_np(train2, n_input)\n",
    "print(\"train2:\")\n",
    "print(X2.shape)\n",
    "print(y2.shape)\n",
    "X = np.vstack([X, X2])\n",
    "y = np.concatenate([y, y2])\n",
    "print(\"joined 1 and 2:\")\n",
    "print(X.shape)\n",
    "print(y.shape)"
   ],
   "metadata": {
    "colab": {
     "base_uri": "https://localhost:8080/"
    },
    "id": "z0BJgefdX4J_",
    "outputId": "4a766a4c-216c-4731-99eb-b93b0213b4c8",
    "pycharm": {
     "name": "#%%\n"
    }
   },
   "execution_count": null,
   "outputs": [
    {
     "output_type": "stream",
     "name": "stdout",
     "text": [
      "train2:\n",
      "(3, 3, 8)\n",
      "(3,)\n",
      "joined 1 and 2:\n",
      "(6, 3, 8)\n",
      "(6,)\n"
     ]
    }
   ]
  },
  {
   "cell_type": "markdown",
   "source": [
    "## Example model set up and test"
   ],
   "metadata": {
    "id": "mxWrLtAEQoq1",
    "pycharm": {
     "name": "#%% md\n"
    }
   }
  },
  {
   "cell_type": "code",
   "source": [
    "#Initialize:\n",
    "def model_lstm(lrn_rate = 0.01, mntum = 0):#These variables do nothing??? Why even have them???\n",
    "  model = keras.models.Sequential()\n",
    "  #1st layer:\n",
    "  model.add(keras.layers.LSTM(50, activation='relu', return_sequences=True, input_shape=(n_input, n_features)))\n",
    "  model.add(keras.layers.Dropout(0.2))\n",
    "  #2nd layer:\n",
    "  model.add(keras.layers.LSTM(50))\n",
    "  model.add(keras.layers.Dropout(0.2))\n",
    "  #Output layer:\n",
    "  model.add(keras.layers.Dense(1))\n",
    "  model.compile(optimizer='adam', loss='mean_squared_error')\n",
    "  #model.summary()\n",
    "  return(model)"
   ],
   "metadata": {
    "id": "f8A21VPCOqXC",
    "pycharm": {
     "name": "#%%\n"
    }
   },
   "execution_count": null,
   "outputs": []
  },
  {
   "cell_type": "code",
   "source": [
    "model = model_lstm(lrn_rate = 0.01, mntum = 0)"
   ],
   "metadata": {
    "id": "I81Jzhl1TK3l",
    "pycharm": {
     "name": "#%%\n"
    }
   },
   "execution_count": null,
   "outputs": []
  },
  {
   "cell_type": "code",
   "source": [
    "model.summary()"
   ],
   "metadata": {
    "colab": {
     "base_uri": "https://localhost:8080/"
    },
    "id": "0yc5oQuWUFdZ",
    "outputId": "5d3cf542-a0ee-4c80-d43d-95799b1141f8",
    "pycharm": {
     "name": "#%%\n"
    }
   },
   "execution_count": null,
   "outputs": [
    {
     "output_type": "stream",
     "name": "stdout",
     "text": [
      "Model: \"sequential_2\"\n",
      "_________________________________________________________________\n",
      " Layer (type)                Output Shape              Param #   \n",
      "=================================================================\n",
      " lstm_4 (LSTM)               (None, 3, 50)             12000     \n",
      "                                                                 \n",
      " dropout_4 (Dropout)         (None, 3, 50)             0         \n",
      "                                                                 \n",
      " lstm_5 (LSTM)               (None, 50)                20200     \n",
      "                                                                 \n",
      " dropout_5 (Dropout)         (None, 50)                0         \n",
      "                                                                 \n",
      " dense_2 (Dense)             (None, 1)                 51        \n",
      "                                                                 \n",
      "=================================================================\n",
      "Total params: 32,251\n",
      "Trainable params: 32,251\n",
      "Non-trainable params: 0\n",
      "_________________________________________________________________\n"
     ]
    }
   ]
  },
  {
   "cell_type": "code",
   "source": [
    "#modelfit = model.fit(x = generator[0][0], y=generator.targets[1:-(n_input-1)], epochs = 5) #works!\n",
    "#modelfit = model.fit(x = gen, y=ygen, epochs = 5) #Works!\n",
    "modelfit = model.fit(x = X, y = y, epochs = 5) #works"
   ],
   "metadata": {
    "colab": {
     "base_uri": "https://localhost:8080/"
    },
    "id": "PCRWt_d_T7Kn",
    "outputId": "a96233f1-3968-4062-89c0-06a06971bd0f",
    "pycharm": {
     "name": "#%%\n"
    }
   },
   "execution_count": null,
   "outputs": [
    {
     "output_type": "stream",
     "name": "stdout",
     "text": [
      "Epoch 1/5\n",
      "1/1 [==============================] - 4s 4s/step - loss: 0.2085\n",
      "Epoch 2/5\n",
      "1/1 [==============================] - 0s 16ms/step - loss: 0.1824\n",
      "Epoch 3/5\n",
      "1/1 [==============================] - 0s 12ms/step - loss: 0.1728\n",
      "Epoch 4/5\n",
      "1/1 [==============================] - 0s 12ms/step - loss: 0.1551\n",
      "Epoch 5/5\n",
      "1/1 [==============================] - 0s 12ms/step - loss: 0.1408\n"
     ]
    }
   ]
  },
  {
   "cell_type": "code",
   "source": [
    "loss_per_epoch = model.history.history['loss']\n",
    "plt.plot(range(len(loss_per_epoch)),loss_per_epoch)"
   ],
   "metadata": {
    "colab": {
     "base_uri": "https://localhost:8080/",
     "height": 283
    },
    "id": "bHHrNWpHUfPQ",
    "outputId": "de005351-688f-4dec-d642-9db6305358f0",
    "pycharm": {
     "name": "#%%\n"
    }
   },
   "execution_count": null,
   "outputs": [
    {
     "output_type": "execute_result",
     "data": {
      "text/plain": [
       "[<matplotlib.lines.Line2D at 0x7fdb519a3340>]"
      ]
     },
     "metadata": {},
     "execution_count": 45
    },
    {
     "output_type": "display_data",
     "data": {
      "text/plain": [
       "<Figure size 432x288 with 1 Axes>"
      ],
      "image/png": "[encoded data removed]"
     },
     "metadata": {
      "needs_background": "light"
     }
    }
   ]
  },
  {
   "cell_type": "markdown",
   "source": [
    "## Example test set prep\n"
   ],
   "metadata": {
    "id": "icZfPYef8NdK",
    "pycharm": {
     "name": "#%% md\n"
    }
   }
  },
  {
   "cell_type": "code",
   "source": [
    "test = pd.read_parquet('test_scaled_LatLonDateUnscaled.parquet')\n",
    "\n",
    "print(test.columns)\n",
    "\n",
    "print(test['date'].max())\n",
    "print(test['date'].min())\n",
    "print(len(test))\n",
    "print(test.info())\n",
    "test.head()"
   ],
   "metadata": {
    "colab": {
     "base_uri": "https://localhost:8080/",
     "height": 671
    },
    "id": "lORabcV78TBX",
    "outputId": "32430c19-06c7-47f1-e012-e283e6ae3205",
    "pycharm": {
     "name": "#%%\n"
    }
   },
   "execution_count": 7,
   "outputs": [
    {
     "name": "stdout",
     "output_type": "stream",
     "text": [
      "Index(['density', 'snowtemp', 'soiltemp', 'omega', 'Tbh', 'Tbv', 'cf', 'h',\n",
      "       'voc', 'lat', 'lon', 'date'],\n",
      "      dtype='object')\n",
      "2019-12-31 00:00:00\n",
      "2019-01-01 00:00:00\n",
      "18329587\n",
      "<class 'pandas.core.frame.DataFrame'>\n",
      "Int64Index: 18329587 entries, 0 to 18329586\n",
      "Data columns (total 12 columns):\n",
      " #   Column    Dtype         \n",
      "---  ------    -----         \n",
      " 0   density   float64       \n",
      " 1   snowtemp  float64       \n",
      " 2   soiltemp  float64       \n",
      " 3   omega     float64       \n",
      " 4   Tbh       float64       \n",
      " 5   Tbv       float64       \n",
      " 6   cf        float64       \n",
      " 7   h         float64       \n",
      " 8   voc       float64       \n",
      " 9   lat       float64       \n",
      " 10  lon       float64       \n",
      " 11  date      datetime64[ns]\n",
      "dtypes: datetime64[ns](1), float64(11)\n",
      "memory usage: 1.8 GB\n",
      "None\n"
     ]
    },
    {
     "data": {
      "text/plain": "    density  snowtemp  soiltemp     omega       Tbh       Tbv        cf  \\\n0  0.166630  0.908916  0.998302  0.779338  0.710750  0.708752  0.305672   \n1  0.176869  0.955726  0.995804  0.783470  0.715650  0.708749  0.311526   \n2  0.180525  0.959748  0.996218  0.790908  0.722035  0.714708  0.322348   \n3  0.183057  0.966050  0.996963  0.790081  0.721543  0.716810  0.302173   \n4  0.167732  0.926476  0.995828  0.789999  0.709735  0.705815  0.303099   \n\n          h       voc        lat        lon       date  \n0  0.124832  0.240164  62.684110 -160.44087 2019-01-01  \n1  0.123756  0.228918  62.532246 -160.44087 2019-01-01  \n2  0.123569  0.242246  62.381150 -160.44087 2019-01-01  \n3  0.123513  0.240669  62.230810 -160.44087 2019-01-01  \n4  0.123518  0.239886  62.684110 -160.34750 2019-01-01  ",
      "text/html": "<div>\n<style scoped>\n    .dataframe tbody tr th:only-of-type {\n        vertical-align: middle;\n    }\n\n    .dataframe tbody tr th {\n        vertical-align: top;\n    }\n\n    .dataframe thead th {\n        text-align: right;\n    }\n</style>\n<table border=\"1\" class=\"dataframe\">\n  <thead>\n    <tr style=\"text-align: right;\">\n      <th></th>\n      <th>density</th>\n      <th>snowtemp</th>\n      <th>soiltemp</th>\n      <th>omega</th>\n      <th>Tbh</th>\n      <th>Tbv</th>\n      <th>cf</th>\n      <th>h</th>\n      <th>voc</th>\n      <th>lat</th>\n      <th>lon</th>\n      <th>date</th>\n    </tr>\n  </thead>\n  <tbody>\n    <tr>\n      <th>0</th>\n      <td>0.166630</td>\n      <td>0.908916</td>\n      <td>0.998302</td>\n      <td>0.779338</td>\n      <td>0.710750</td>\n      <td>0.708752</td>\n      <td>0.305672</td>\n      <td>0.124832</td>\n      <td>0.240164</td>\n      <td>62.684110</td>\n      <td>-160.44087</td>\n      <td>2019-01-01</td>\n    </tr>\n    <tr>\n      <th>1</th>\n      <td>0.176869</td>\n      <td>0.955726</td>\n      <td>0.995804</td>\n      <td>0.783470</td>\n      <td>0.715650</td>\n      <td>0.708749</td>\n      <td>0.311526</td>\n      <td>0.123756</td>\n      <td>0.228918</td>\n      <td>62.532246</td>\n      <td>-160.44087</td>\n      <td>2019-01-01</td>\n    </tr>\n    <tr>\n      <th>2</th>\n      <td>0.180525</td>\n      <td>0.959748</td>\n      <td>0.996218</td>\n      <td>0.790908</td>\n      <td>0.722035</td>\n      <td>0.714708</td>\n      <td>0.322348</td>\n      <td>0.123569</td>\n      <td>0.242246</td>\n      <td>62.381150</td>\n      <td>-160.44087</td>\n      <td>2019-01-01</td>\n    </tr>\n    <tr>\n      <th>3</th>\n      <td>0.183057</td>\n      <td>0.966050</td>\n      <td>0.996963</td>\n      <td>0.790081</td>\n      <td>0.721543</td>\n      <td>0.716810</td>\n      <td>0.302173</td>\n      <td>0.123513</td>\n      <td>0.240669</td>\n      <td>62.230810</td>\n      <td>-160.44087</td>\n      <td>2019-01-01</td>\n    </tr>\n    <tr>\n      <th>4</th>\n      <td>0.167732</td>\n      <td>0.926476</td>\n      <td>0.995828</td>\n      <td>0.789999</td>\n      <td>0.709735</td>\n      <td>0.705815</td>\n      <td>0.303099</td>\n      <td>0.123518</td>\n      <td>0.239886</td>\n      <td>62.684110</td>\n      <td>-160.34750</td>\n      <td>2019-01-01</td>\n    </tr>\n  </tbody>\n</table>\n</div>"
     },
     "execution_count": 7,
     "metadata": {},
     "output_type": "execute_result"
    }
   ]
  },
  {
   "cell_type": "code",
   "source": [
    "test1 = test[(test['lat'] == latlon['lat'].iloc[0]) & (test['lon'] == latlon['lon'].iloc[0])]\n",
    "print(len(test1))\n",
    "print(test1['date'].min())\n",
    "print(test1['date'].max())\n",
    "test1.head()\n",
    "#Testing with the same lat/lon as train, this won't be matched in the larger set."
   ],
   "metadata": {
    "colab": {
     "base_uri": "https://localhost:8080/",
     "height": 260
    },
    "id": "Z4UZ0JkB_Szh",
    "outputId": "9299d5b0-2344-48e9-c1ca-bbab43356371",
    "pycharm": {
     "name": "#%%\n"
    }
   },
   "execution_count": null,
   "outputs": [
    {
     "output_type": "stream",
     "name": "stdout",
     "text": [
      "72\n",
      "2020-01-01 00:00:00\n",
      "2020-11-20 00:00:00\n"
     ]
    },
    {
     "output_type": "execute_result",
     "data": {
      "text/plain": [
       "           density  snowtemp  soiltemp     omega       Tbh       Tbv  \\\n",
       "18329763  0.233223  0.537159  0.959042  0.779338  0.707065  0.712970   \n",
       "18517417  0.215192  0.482522  0.962540  0.779338  0.709041  0.716228   \n",
       "18577061  0.217689  0.420847  0.960800  0.779338  0.705201  0.705174   \n",
       "18674566  0.219739  0.384268  0.954615  0.779338  0.700979  0.706267   \n",
       "18772980  0.221373  0.323696  0.944928  0.779338  0.705278  0.709230   \n",
       "\n",
       "                cf         h       voc       lat        lon       date  \n",
       "18329763  0.305672  0.124832  0.234089  62.68411 -160.44087 2020-01-01  \n",
       "18517417  0.305672  0.124832  0.234037  62.68411 -160.44087 2020-01-03  \n",
       "18577061  0.305672  0.124832  0.234016  62.68411 -160.44087 2020-01-04  \n",
       "18674566  0.305672  0.124832  0.233997  62.68411 -160.44087 2020-01-05  \n",
       "18772980  0.305672  0.124832  0.233980  62.68411 -160.44087 2020-01-06  "
      ],
      "text/html": [
       "\n",
       "  <div id=\"df-51af95ce-04a3-4554-baf4-bbf797d07466\">\n",
       "    <div class=\"colab-df-container\">\n",
       "      <div>\n",
       "<style scoped>\n",
       "    .dataframe tbody tr th:only-of-type {\n",
       "        vertical-align: middle;\n",
       "    }\n",
       "\n",
       "    .dataframe tbody tr th {\n",
       "        vertical-align: top;\n",
       "    }\n",
       "\n",
       "    .dataframe thead th {\n",
       "        text-align: right;\n",
       "    }\n",
       "</style>\n",
       "<table border=\"1\" class=\"dataframe\">\n",
       "  <thead>\n",
       "    <tr style=\"text-align: right;\">\n",
       "      <th></th>\n",
       "      <th>density</th>\n",
       "      <th>snowtemp</th>\n",
       "      <th>soiltemp</th>\n",
       "      <th>omega</th>\n",
       "      <th>Tbh</th>\n",
       "      <th>Tbv</th>\n",
       "      <th>cf</th>\n",
       "      <th>h</th>\n",
       "      <th>voc</th>\n",
       "      <th>lat</th>\n",
       "      <th>lon</th>\n",
       "      <th>date</th>\n",
       "    </tr>\n",
       "  </thead>\n",
       "  <tbody>\n",
       "    <tr>\n",
       "      <th>18329763</th>\n",
       "      <td>0.233223</td>\n",
       "      <td>0.537159</td>\n",
       "      <td>0.959042</td>\n",
       "      <td>0.779338</td>\n",
       "      <td>0.707065</td>\n",
       "      <td>0.712970</td>\n",
       "      <td>0.305672</td>\n",
       "      <td>0.124832</td>\n",
       "      <td>0.234089</td>\n",
       "      <td>62.68411</td>\n",
       "      <td>-160.44087</td>\n",
       "      <td>2020-01-01</td>\n",
       "    </tr>\n",
       "    <tr>\n",
       "      <th>18517417</th>\n",
       "      <td>0.215192</td>\n",
       "      <td>0.482522</td>\n",
       "      <td>0.962540</td>\n",
       "      <td>0.779338</td>\n",
       "      <td>0.709041</td>\n",
       "      <td>0.716228</td>\n",
       "      <td>0.305672</td>\n",
       "      <td>0.124832</td>\n",
       "      <td>0.234037</td>\n",
       "      <td>62.68411</td>\n",
       "      <td>-160.44087</td>\n",
       "      <td>2020-01-03</td>\n",
       "    </tr>\n",
       "    <tr>\n",
       "      <th>18577061</th>\n",
       "      <td>0.217689</td>\n",
       "      <td>0.420847</td>\n",
       "      <td>0.960800</td>\n",
       "      <td>0.779338</td>\n",
       "      <td>0.705201</td>\n",
       "      <td>0.705174</td>\n",
       "      <td>0.305672</td>\n",
       "      <td>0.124832</td>\n",
       "      <td>0.234016</td>\n",
       "      <td>62.68411</td>\n",
       "      <td>-160.44087</td>\n",
       "      <td>2020-01-04</td>\n",
       "    </tr>\n",
       "    <tr>\n",
       "      <th>18674566</th>\n",
       "      <td>0.219739</td>\n",
       "      <td>0.384268</td>\n",
       "      <td>0.954615</td>\n",
       "      <td>0.779338</td>\n",
       "      <td>0.700979</td>\n",
       "      <td>0.706267</td>\n",
       "      <td>0.305672</td>\n",
       "      <td>0.124832</td>\n",
       "      <td>0.233997</td>\n",
       "      <td>62.68411</td>\n",
       "      <td>-160.44087</td>\n",
       "      <td>2020-01-05</td>\n",
       "    </tr>\n",
       "    <tr>\n",
       "      <th>18772980</th>\n",
       "      <td>0.221373</td>\n",
       "      <td>0.323696</td>\n",
       "      <td>0.944928</td>\n",
       "      <td>0.779338</td>\n",
       "      <td>0.705278</td>\n",
       "      <td>0.709230</td>\n",
       "      <td>0.305672</td>\n",
       "      <td>0.124832</td>\n",
       "      <td>0.233980</td>\n",
       "      <td>62.68411</td>\n",
       "      <td>-160.44087</td>\n",
       "      <td>2020-01-06</td>\n",
       "    </tr>\n",
       "  </tbody>\n",
       "</table>\n",
       "</div>\n",
       "      <button class=\"colab-df-convert\" onclick=\"convertToInteractive('df-51af95ce-04a3-4554-baf4-bbf797d07466')\"\n",
       "              title=\"Convert this dataframe to an interactive table.\"\n",
       "              style=\"display:none;\">\n",
       "        \n",
       "  <svg xmlns=\"http://www.w3.org/2000/svg\" height=\"24px\"viewBox=\"0 0 24 24\"\n",
       "       width=\"24px\">\n",
       "    <path d=\"M0 0h24v24H0V0z\" fill=\"none\"/>\n",
       "    <path d=\"M18.56 5.44l.94 2.06.94-2.06 2.06-.94-2.06-.94-.94-2.06-.94 2.06-2.06.94zm-11 1L8.5 8.5l.94-2.06 2.06-.94-2.06-.94L8.5 2.5l-.94 2.06-2.06.94zm10 10l.94 2.06.94-2.06 2.06-.94-2.06-.94-.94-2.06-.94 2.06-2.06.94z\"/><path d=\"M17.41 7.96l-1.37-1.37c-.4-.4-.92-.59-1.43-.59-.52 0-1.04.2-1.43.59L10.3 9.45l-7.72 7.72c-.78.78-.78 2.05 0 2.83L4 21.41c.39.39.9.59 1.41.59.51 0 1.02-.2 1.41-.59l7.78-7.78 2.81-2.81c.8-.78.8-2.07 0-2.86zM5.41 20L4 18.59l7.72-7.72 1.47 1.35L5.41 20z\"/>\n",
       "  </svg>\n",
       "      </button>\n",
       "      \n",
       "  <style>\n",
       "    .colab-df-container {\n",
       "      display:flex;\n",
       "      flex-wrap:wrap;\n",
       "      gap: 12px;\n",
       "    }\n",
       "\n",
       "    .colab-df-convert {\n",
       "      background-color: #E8F0FE;\n",
       "      border: none;\n",
       "      border-radius: 50%;\n",
       "      cursor: pointer;\n",
       "      display: none;\n",
       "      fill: #1967D2;\n",
       "      height: 32px;\n",
       "      padding: 0 0 0 0;\n",
       "      width: 32px;\n",
       "    }\n",
       "\n",
       "    .colab-df-convert:hover {\n",
       "      background-color: #E2EBFA;\n",
       "      box-shadow: 0px 1px 2px rgba(60, 64, 67, 0.3), 0px 1px 3px 1px rgba(60, 64, 67, 0.15);\n",
       "      fill: #174EA6;\n",
       "    }\n",
       "\n",
       "    [theme=dark] .colab-df-convert {\n",
       "      background-color: #3B4455;\n",
       "      fill: #D2E3FC;\n",
       "    }\n",
       "\n",
       "    [theme=dark] .colab-df-convert:hover {\n",
       "      background-color: #434B5C;\n",
       "      box-shadow: 0px 1px 3px 1px rgba(0, 0, 0, 0.15);\n",
       "      filter: drop-shadow(0px 1px 2px rgba(0, 0, 0, 0.3));\n",
       "      fill: #FFFFFF;\n",
       "    }\n",
       "  </style>\n",
       "\n",
       "      <script>\n",
       "        const buttonEl =\n",
       "          document.querySelector('#df-51af95ce-04a3-4554-baf4-bbf797d07466 button.colab-df-convert');\n",
       "        buttonEl.style.display =\n",
       "          google.colab.kernel.accessAllowed ? 'block' : 'none';\n",
       "\n",
       "        async function convertToInteractive(key) {\n",
       "          const element = document.querySelector('#df-51af95ce-04a3-4554-baf4-bbf797d07466');\n",
       "          const dataTable =\n",
       "            await google.colab.kernel.invokeFunction('convertToInteractive',\n",
       "                                                     [key], {});\n",
       "          if (!dataTable) return;\n",
       "\n",
       "          const docLinkHtml = 'Like what you see? Visit the ' +\n",
       "            '<a target=\"_blank\" href=https://colab.research.google.com/notebooks/data_table.ipynb>data table notebook</a>'\n",
       "            + ' to learn more about interactive tables.';\n",
       "          element.innerHTML = '';\n",
       "          dataTable['output_type'] = 'display_data';\n",
       "          await google.colab.output.renderOutput(dataTable, element);\n",
       "          const docLink = document.createElement('div');\n",
       "          docLink.innerHTML = docLinkHtml;\n",
       "          element.appendChild(docLink);\n",
       "        }\n",
       "      </script>\n",
       "    </div>\n",
       "  </div>\n",
       "  "
      ]
     },
     "metadata": {},
     "execution_count": 95
    }
   ]
  },
  {
   "cell_type": "code",
   "source": [
    "x_test1 = test1[['snowtemp', 'soiltemp', 'omega', 'Tbh', 'Tbv', 'cf', 'h', 'voc']]\n",
    "x_test1 = np.array(x_test1)\n",
    "y_test1 = test1[['density']]\n",
    "y_test1 = np.array(y_test1)\n",
    "y_test1 = y_test1.reshape(-1) #now is values in one array, not an array of arrays size 1. \n",
    "\n",
    "print(x_test1.shape)\n",
    "print(y_test1.shape)"
   ],
   "metadata": {
    "colab": {
     "base_uri": "https://localhost:8080/"
    },
    "id": "QeuCylhGCjMz",
    "outputId": "157ea7a6-508e-4ed1-eed7-0c181ff58610",
    "pycharm": {
     "name": "#%%\n"
    }
   },
   "execution_count": null,
   "outputs": [
    {
     "output_type": "stream",
     "name": "stdout",
     "text": [
      "(72, 8)\n",
      "(72,)\n"
     ]
    }
   ]
  },
  {
   "cell_type": "code",
   "source": [
    "X_test, y_test = gen_np(test1, n_input)"
   ],
   "metadata": {
    "id": "f_rV9TFkjZYp",
    "pycharm": {
     "name": "#%%\n"
    }
   },
   "execution_count": null,
   "outputs": []
  },
  {
   "cell_type": "code",
   "source": [
    "test_generator = TimeseriesGenerator(x_test1, np.zeros(len(x_test1)), length=n_input, batch_size=b_size)\n",
    "print(test_generator[0][0].shape) #We get the full 50 samples, could have had more since the actual lenth of test is 71."
   ],
   "metadata": {
    "id": "FXGDSeVpU8p0",
    "colab": {
     "base_uri": "https://localhost:8080/"
    },
    "outputId": "c517fa7e-cc87-4819-e7c0-934e643d9083",
    "pycharm": {
     "name": "#%%\n"
    }
   },
   "execution_count": null,
   "outputs": [
    {
     "output_type": "stream",
     "name": "stdout",
     "text": [
      "(50, 3, 8)\n"
     ]
    }
   ]
  },
  {
   "cell_type": "code",
   "source": [
    "#y_hat = model.predict(test_generator)\n",
    "y_hat = model.predict(X_test)"
   ],
   "metadata": {
    "colab": {
     "base_uri": "https://localhost:8080/"
    },
    "id": "er447vhBjzfc",
    "outputId": "3c4c5d3c-b74f-47ef-8125-e40e483ef096",
    "pycharm": {
     "name": "#%%\n"
    }
   },
   "execution_count": null,
   "outputs": [
    {
     "output_type": "stream",
     "name": "stdout",
     "text": [
      "3/3 [==============================] - 0s 5ms/step\n"
     ]
    }
   ]
  },
  {
   "cell_type": "code",
   "source": [
    "#y_pred = Yscaler.inverse_transform(y_pred_scaled)\n",
    "#results = pd.DataFrame({'y_test1':test1['density'].values[n_input:],'y_hat':y_hat.ravel()})\n",
    "results = pd.DataFrame({'y_test1':y_test,'y_hat':y_hat.ravel()})\n",
    "print(results)"
   ],
   "metadata": {
    "colab": {
     "base_uri": "https://localhost:8080/"
    },
    "id": "Z9mF-NljEME4",
    "outputId": "156e633b-eec4-4736-aa2a-1c11244cd152",
    "pycharm": {
     "name": "#%%\n"
    }
   },
   "execution_count": null,
   "outputs": [
    {
     "output_type": "stream",
     "name": "stdout",
     "text": [
      "     y_test1     y_hat\n",
      "0   0.217689  0.235305\n",
      "1   0.219739  0.233692\n",
      "2   0.221373  0.232147\n",
      "3   0.222658  0.231271\n",
      "4   0.223785  0.230292\n",
      "..       ...       ...\n",
      "65  0.142432  0.245259\n",
      "66  0.182735  0.240560\n",
      "67  0.183829  0.239973\n",
      "68  0.182399  0.239260\n",
      "69  0.177009  0.241614\n",
      "\n",
      "[70 rows x 2 columns]\n"
     ]
    }
   ]
  },
  {
   "cell_type": "code",
   "source": [
    "print('R2', skm.r2_score(results['y_test1'], results['y_hat']))\n",
    "print('MAPE', skm.mean_absolute_percentage_error(results['y_test1'], results['y_hat']))\n",
    "print('MAE', skm.mean_absolute_error(results['y_test1'], results['y_hat']))\n",
    "print('RMSE', skm.mean_squared_error(results['y_test1'], results['y_hat'], squared = False))\n",
    "print( 'MSE', skm.mean_squared_error(results['y_test1'], results['y_hat']))"
   ],
   "metadata": {
    "colab": {
     "base_uri": "https://localhost:8080/"
    },
    "id": "DxhI8hAnIRI2",
    "outputId": "c67c590a-f6de-4558-95ef-4d79787288b7",
    "pycharm": {
     "name": "#%%\n"
    }
   },
   "execution_count": null,
   "outputs": [
    {
     "output_type": "stream",
     "name": "stdout",
     "text": [
      "R2 -0.018116347457838078\n",
      "MAPE 0.13819738284814045\n",
      "MAE 0.033359309261546344\n",
      "RMSE 0.043977989876406685\n",
      "MSE 0.001934063593569329\n"
     ]
    }
   ]
  },
  {
   "cell_type": "markdown",
   "source": [
    "Old:\n",
    "R2 -17.570187310639216\n",
    "MAPE 0.7333341272085523\n",
    "MAE 0.1834174423880057\n",
    "RMSE 0.1885665896580615\n",
    "MSE 0.035557358735271744"
   ],
   "metadata": {
    "id": "eocECDFnkBrU",
    "pycharm": {
     "name": "#%% md\n"
    }
   }
  },
  {
   "cell_type": "markdown",
   "source": [
    "## Data Prep"
   ],
   "metadata": {
    "id": "prHcypSQHaXr",
    "pycharm": {
     "name": "#%% md\n"
    }
   }
  },
  {
   "cell_type": "code",
   "source": [
    "#Peramaeters: \n",
    "n_input = 60 #how many samples/rows/timesteps to look in the past in order to forecast the next sample\n",
    "n_features = 7 # how many predictors/Xs/features we have to predict y"
   ],
   "metadata": {
    "id": "UeX2kmu2IT5s",
    "pycharm": {
     "name": "#%%\n"
    }
   },
   "execution_count": 25,
   "outputs": []
  },
  {
   "cell_type": "code",
   "source": [
    "# Import data:\n",
    "train = pd.read_parquet('train_scaled_LatLonDateUnscaled.parquet')\n",
    "\n",
    "print(train.columns)\n",
    "\n",
    "print(train['date'].max())\n",
    "print(train['date'].min())\n",
    "print(len(train))\n",
    "print(train.info())\n",
    "print(train.shape)\n",
    "train.head()"
   ],
   "metadata": {
    "id": "az25ZGQhHen0",
    "colab": {
     "base_uri": "https://localhost:8080/",
     "height": 689
    },
    "outputId": "b69ecfe6-0514-45a0-db17-2ff3bf2df771",
    "pycharm": {
     "name": "#%%\n"
    }
   },
   "execution_count": 35,
   "outputs": [
    {
     "name": "stdout",
     "output_type": "stream",
     "text": [
      "Index(['density', 'snowtemp', 'soiltemp', 'omega', 'Tbh', 'Tbv', 'cf', 'h',\n",
      "       'voc', 'lat', 'lon', 'date'],\n",
      "      dtype='object')\n",
      "2019-12-31 00:00:00\n",
      "2019-01-01 00:00:00\n",
      "18329587\n",
      "<class 'pandas.core.frame.DataFrame'>\n",
      "Int64Index: 18329587 entries, 0 to 18329586\n",
      "Data columns (total 12 columns):\n",
      " #   Column    Dtype         \n",
      "---  ------    -----         \n",
      " 0   density   float64       \n",
      " 1   snowtemp  float64       \n",
      " 2   soiltemp  float64       \n",
      " 3   omega     float64       \n",
      " 4   Tbh       float64       \n",
      " 5   Tbv       float64       \n",
      " 6   cf        float64       \n",
      " 7   h         float64       \n",
      " 8   voc       float64       \n",
      " 9   lat       float64       \n",
      " 10  lon       float64       \n",
      " 11  date      datetime64[ns]\n",
      "dtypes: datetime64[ns](1), float64(11)\n",
      "memory usage: 1.8 GB\n",
      "None\n",
      "(18329587, 12)\n"
     ]
    },
    {
     "data": {
      "text/plain": "    density  snowtemp  soiltemp     omega       Tbh       Tbv        cf  \\\n0  0.166630  0.908916  0.998302  0.779338  0.710750  0.708752  0.305672   \n1  0.176869  0.955726  0.995804  0.783470  0.715650  0.708749  0.311526   \n2  0.180525  0.959748  0.996218  0.790908  0.722035  0.714708  0.322348   \n3  0.183057  0.966050  0.996963  0.790081  0.721543  0.716810  0.302173   \n4  0.167732  0.926476  0.995828  0.789999  0.709735  0.705815  0.303099   \n\n          h       voc        lat        lon       date  \n0  0.124832  0.240164  62.684110 -160.44087 2019-01-01  \n1  0.123756  0.228918  62.532246 -160.44087 2019-01-01  \n2  0.123569  0.242246  62.381150 -160.44087 2019-01-01  \n3  0.123513  0.240669  62.230810 -160.44087 2019-01-01  \n4  0.123518  0.239886  62.684110 -160.34750 2019-01-01  ",
      "text/html": "<div>\n<style scoped>\n    .dataframe tbody tr th:only-of-type {\n        vertical-align: middle;\n    }\n\n    .dataframe tbody tr th {\n        vertical-align: top;\n    }\n\n    .dataframe thead th {\n        text-align: right;\n    }\n</style>\n<table border=\"1\" class=\"dataframe\">\n  <thead>\n    <tr style=\"text-align: right;\">\n      <th></th>\n      <th>density</th>\n      <th>snowtemp</th>\n      <th>soiltemp</th>\n      <th>omega</th>\n      <th>Tbh</th>\n      <th>Tbv</th>\n      <th>cf</th>\n      <th>h</th>\n      <th>voc</th>\n      <th>lat</th>\n      <th>lon</th>\n      <th>date</th>\n    </tr>\n  </thead>\n  <tbody>\n    <tr>\n      <th>0</th>\n      <td>0.166630</td>\n      <td>0.908916</td>\n      <td>0.998302</td>\n      <td>0.779338</td>\n      <td>0.710750</td>\n      <td>0.708752</td>\n      <td>0.305672</td>\n      <td>0.124832</td>\n      <td>0.240164</td>\n      <td>62.684110</td>\n      <td>-160.44087</td>\n      <td>2019-01-01</td>\n    </tr>\n    <tr>\n      <th>1</th>\n      <td>0.176869</td>\n      <td>0.955726</td>\n      <td>0.995804</td>\n      <td>0.783470</td>\n      <td>0.715650</td>\n      <td>0.708749</td>\n      <td>0.311526</td>\n      <td>0.123756</td>\n      <td>0.228918</td>\n      <td>62.532246</td>\n      <td>-160.44087</td>\n      <td>2019-01-01</td>\n    </tr>\n    <tr>\n      <th>2</th>\n      <td>0.180525</td>\n      <td>0.959748</td>\n      <td>0.996218</td>\n      <td>0.790908</td>\n      <td>0.722035</td>\n      <td>0.714708</td>\n      <td>0.322348</td>\n      <td>0.123569</td>\n      <td>0.242246</td>\n      <td>62.381150</td>\n      <td>-160.44087</td>\n      <td>2019-01-01</td>\n    </tr>\n    <tr>\n      <th>3</th>\n      <td>0.183057</td>\n      <td>0.966050</td>\n      <td>0.996963</td>\n      <td>0.790081</td>\n      <td>0.721543</td>\n      <td>0.716810</td>\n      <td>0.302173</td>\n      <td>0.123513</td>\n      <td>0.240669</td>\n      <td>62.230810</td>\n      <td>-160.44087</td>\n      <td>2019-01-01</td>\n    </tr>\n    <tr>\n      <th>4</th>\n      <td>0.167732</td>\n      <td>0.926476</td>\n      <td>0.995828</td>\n      <td>0.789999</td>\n      <td>0.709735</td>\n      <td>0.705815</td>\n      <td>0.303099</td>\n      <td>0.123518</td>\n      <td>0.239886</td>\n      <td>62.684110</td>\n      <td>-160.34750</td>\n      <td>2019-01-01</td>\n    </tr>\n  </tbody>\n</table>\n</div>"
     },
     "execution_count": 35,
     "metadata": {},
     "output_type": "execute_result"
    }
   ]
  },
  {
   "cell_type": "code",
   "execution_count": 108,
   "outputs": [
    {
     "name": "stdout",
     "output_type": "stream",
     "text": [
      "123873\n"
     ]
    }
   ],
   "source": [
    "latlon = latlon_setup(train, n_input)"
   ],
   "metadata": {
    "collapsed": false,
    "pycharm": {
     "name": "#%%\n"
    }
   }
  },
  {
   "cell_type": "code",
   "execution_count": 17,
   "outputs": [
    {
     "data": {
      "text/plain": "<matplotlib.patches.StepPatch at 0x1cf738e4040>"
     },
     "execution_count": 17,
     "metadata": {},
     "output_type": "execute_result"
    },
    {
     "data": {
      "text/plain": "<Figure size 640x480 with 1 Axes>",
      "image/png": "[encoded data removed]"
     },
     "metadata": {},
     "output_type": "display_data"
    }
   ],
   "source": [
    "pixel_counts = train.groupby(['lat', 'lon']).size()\n",
    "counts, bins = np.histogram(pixel_counts[0])\n",
    "plt.stairs(counts, bins)"
   ],
   "metadata": {
    "collapsed": false,
    "pycharm": {
     "name": "#%%\n"
    }
   }
  },
  {
   "cell_type": "code",
   "source": [],
   "metadata": {
    "id": "zJL1npdxHtp4",
    "pycharm": {
     "name": "#%%\n"
    }
   },
   "execution_count": 22,
   "outputs": []
  },
  {
   "cell_type": "code",
   "execution_count": 24,
   "outputs": [],
   "source": [],
   "metadata": {
    "collapsed": false,
    "pycharm": {
     "name": "#%%\n"
    }
   }
  },
  {
   "cell_type": "code",
   "source": [
    "X = np.empty([0, n_input, n_features])\n",
    "y = np.empty([0, 2])\n",
    "\n",
    "print(X, y)\n",
    "\n",
    "counter = 0\n",
    "savept = 0\n",
    "savept = 0\n",
    "print(time.strftime(\"%Y-%m-%d %H:%M:%S\", time.localtime()))"
   ],
   "metadata": {
    "id": "PVy4KpjrU1LY",
    "pycharm": {
     "name": "#%%\n"
    }
   },
   "execution_count": 40,
   "outputs": [
    {
     "name": "stdout",
     "output_type": "stream",
     "text": [
      "[] []\n",
      "2022-12-20 12:17:25\n"
     ]
    }
   ]
  },
  {
   "cell_type": "code",
   "execution_count": 122,
   "outputs": [],
   "source": [],
   "metadata": {
    "collapsed": false,
    "pycharm": {
     "name": "#%%\n"
    }
   }
  },
  {
   "cell_type": "code",
   "execution_count": 120,
   "outputs": [
    {
     "name": "stdout",
     "output_type": "stream",
     "text": [
      "Length of df of unique latlon paris that meet cutoff:  85603\n",
      "2022-12-20 18:05:19\n",
      "Save last: \n"
     ]
    },
    {
     "ename": "TypeError",
     "evalue": "unsupported operand type(s) for -: 'str' and 'str'",
     "output_type": "error",
     "traceback": [
      "\u001B[1;31m---------------------------------------------------------------------------\u001B[0m",
      "\u001B[1;31mTypeError\u001B[0m                                 Traceback (most recent call last)",
      "Cell \u001B[1;32mIn[120], line 13\u001B[0m\n\u001B[0;32m     10\u001B[0m savept \u001B[38;5;241m=\u001B[39m \u001B[38;5;241m85\u001B[39m\n\u001B[0;32m     12\u001B[0m \u001B[38;5;28mprint\u001B[39m(time\u001B[38;5;241m.\u001B[39mstrftime(\u001B[38;5;124m\"\u001B[39m\u001B[38;5;124m%\u001B[39m\u001B[38;5;124mY-\u001B[39m\u001B[38;5;124m%\u001B[39m\u001B[38;5;124mm-\u001B[39m\u001B[38;5;132;01m%d\u001B[39;00m\u001B[38;5;124m \u001B[39m\u001B[38;5;124m%\u001B[39m\u001B[38;5;124mH:\u001B[39m\u001B[38;5;124m%\u001B[39m\u001B[38;5;124mM:\u001B[39m\u001B[38;5;124m%\u001B[39m\u001B[38;5;124mS\u001B[39m\u001B[38;5;124m\"\u001B[39m, time\u001B[38;5;241m.\u001B[39mlocaltime()))\n\u001B[1;32m---> 13\u001B[0m \u001B[43mdata_prep\u001B[49m\u001B[43m(\u001B[49m\u001B[43mtrain\u001B[49m\u001B[43m,\u001B[49m\u001B[43m \u001B[49m\u001B[43mlatlon\u001B[49m\u001B[43m,\u001B[49m\u001B[43m \u001B[49m\u001B[43mpath\u001B[49m\u001B[43m,\u001B[49m\u001B[43m \u001B[49m\u001B[43mn_input\u001B[49m\u001B[43m,\u001B[49m\u001B[43m \u001B[49m\u001B[43mn_features\u001B[49m\u001B[43m,\u001B[49m\u001B[43m \u001B[49m\u001B[43mX\u001B[49m\u001B[43m,\u001B[49m\u001B[43m \u001B[49m\u001B[43my\u001B[49m\u001B[43m,\u001B[49m\u001B[43m \u001B[49m\u001B[43mcounter\u001B[49m\u001B[43m,\u001B[49m\u001B[43m \u001B[49m\u001B[43msavept\u001B[49m\u001B[43m)\u001B[49m\n",
      "Cell \u001B[1;32mIn[119], line 24\u001B[0m, in \u001B[0;36mdata_prep\u001B[1;34m(bigdf, latlon, path, n_input, n_features, X, y, counter, savept)\u001B[0m\n\u001B[0;32m     22\u001B[0m       np\u001B[38;5;241m.\u001B[39msave(f, X)\n\u001B[0;32m     23\u001B[0m       np\u001B[38;5;241m.\u001B[39msave(f, y)\n\u001B[1;32m---> 24\u001B[0m \u001B[38;5;28mprint\u001B[39m(\u001B[38;5;124m\"\u001B[39m\u001B[38;5;124mDone! And it only took: \u001B[39m\u001B[38;5;124m\"\u001B[39m, \u001B[43mtime\u001B[49m\u001B[38;5;241;43m.\u001B[39;49m\u001B[43mstrftime\u001B[49m\u001B[43m(\u001B[49m\u001B[38;5;124;43m\"\u001B[39;49m\u001B[38;5;124;43m%\u001B[39;49m\u001B[38;5;124;43mY-\u001B[39;49m\u001B[38;5;124;43m%\u001B[39;49m\u001B[38;5;124;43mm-\u001B[39;49m\u001B[38;5;132;43;01m%d\u001B[39;49;00m\u001B[38;5;124;43m \u001B[39;49m\u001B[38;5;124;43m%\u001B[39;49m\u001B[38;5;124;43mH:\u001B[39;49m\u001B[38;5;124;43m%\u001B[39;49m\u001B[38;5;124;43mM:\u001B[39;49m\u001B[38;5;124;43m%\u001B[39;49m\u001B[38;5;124;43mS\u001B[39;49m\u001B[38;5;124;43m\"\u001B[39;49m\u001B[43m,\u001B[49m\u001B[43m \u001B[49m\u001B[43mtime\u001B[49m\u001B[38;5;241;43m.\u001B[39;49m\u001B[43mlocaltime\u001B[49m\u001B[43m(\u001B[49m\u001B[43m)\u001B[49m\u001B[43m)\u001B[49m\u001B[43m \u001B[49m\u001B[38;5;241;43m-\u001B[39;49m\u001B[43m \u001B[49m\u001B[43mstart\u001B[49m)\n",
      "\u001B[1;31mTypeError\u001B[0m: unsupported operand type(s) for -: 'str' and 'str'"
     ]
    }
   ],
   "source": [
    "n_input = 80\n",
    "n_features = 7\n",
    "\n",
    "path = 'LSTMData80Sparse/XY_arrays_LSTM_80Sparse_'\n",
    "\n",
    "latlon = latlon_setup(train, n_input)\n",
    "X = np.empty([0, n_input, n_features])\n",
    "y = np.empty([0, 2])\n",
    "counter = 85000\n",
    "savept = 85\n",
    "\n",
    "print(time.strftime(\"%Y-%m-%d %H:%M:%S\", time.localtime()))\n",
    "data_prep(train, latlon, path, n_input, n_features, X, y, counter, savept)"
   ],
   "metadata": {
    "collapsed": false,
    "pycharm": {
     "name": "#%%\n"
    }
   }
  },
  {
   "cell_type": "code",
   "source": [
    "# n_input = 60\n",
    "# n_features = 7\n",
    "#\n",
    "# path = 'LSTMData60Sparse/XY_arrays_LSTM_60Sparse_'\n",
    "#\n",
    "# latlon = latlon_setup(train, n_input)\n",
    "# X = np.empty([0, n_input, n_features])\n",
    "# y = np.empty([0, 2])\n",
    "# counter = 0\n",
    "# savept = 0\n",
    "#\n",
    "# print(time.strftime(\"%Y-%m-%d %H:%M:%S\", time.localtime()))\n",
    "# data_prep(train, latlon, path, n_input, n_features, X, y, counter, savept)"
   ],
   "metadata": {
    "id": "wkQWZIGLPlUo",
    "colab": {
     "base_uri": "https://localhost:8080/",
     "height": 1000
    },
    "outputId": "98d0520c-74be-4e5a-8071-ef72febc768e",
    "pycharm": {
     "name": "#%%\n"
    }
   },
   "execution_count": 41,
   "outputs": [
    {
     "name": "stdout",
     "output_type": "stream",
     "text": [
      "Counter:  10000 , Shape X:  (40763, 60, 7) 2022-12-20 12:25:30\n",
      "Wipeout:  0\n",
      "Counter:  20000 , Shape X:  (40738, 60, 7) 2022-12-20 12:33:48\n",
      "Wipeout:  1\n",
      "Counter:  30000 , Shape X:  (40793, 60, 7) 2022-12-20 12:42:34\n",
      "Wipeout:  2\n",
      "Counter:  40000 , Shape X:  (40669, 60, 7) 2022-12-20 12:51:36\n",
      "Wipeout:  3\n",
      "Counter:  50000 , Shape X:  (40449, 60, 7) 2022-12-20 13:00:42\n",
      "Wipeout:  4\n",
      "Counter:  60000 , Shape X:  (40742, 60, 7) 2022-12-20 13:09:49\n",
      "Wipeout:  5\n",
      "Counter:  70000 , Shape X:  (40791, 60, 7) 2022-12-20 13:18:56\n",
      "Wipeout:  6\n",
      "Counter:  80000 , Shape X:  (40857, 60, 7) 2022-12-20 13:27:36\n",
      "Wipeout:  7\n",
      "Counter:  90000 , Shape X:  (40889, 60, 7) 2022-12-20 13:36:13\n",
      "Wipeout:  8\n",
      "Counter:  100000 , Shape X:  (40264, 60, 7) 2022-12-20 13:45:03\n",
      "Wipeout:  9\n",
      "Counter:  110000 , Shape X:  (40733, 60, 7) 2022-12-20 13:54:12\n",
      "Wipeout:  10\n",
      "Counter:  120000 , Shape X:  (41158, 60, 7) 2022-12-20 14:02:55\n",
      "Wipeout:  11\n"
     ]
    }
   ]
  },
  {
   "cell_type": "code",
   "source": [
    "print(counter)"
   ],
   "metadata": {
    "colab": {
     "base_uri": "https://localhost:8080/"
    },
    "id": "26HhGunxWeKj",
    "outputId": "e151d6ad-eea6-4786-d07c-270620f317b1",
    "pycharm": {
     "name": "#%%\n"
    }
   },
   "execution_count": 42,
   "outputs": [
    {
     "name": "stdout",
     "output_type": "stream",
     "text": [
      "123873\n"
     ]
    }
   ]
  },
  {
   "cell_type": "code",
   "execution_count": 123,
   "outputs": [],
   "source": [
    "X_train = np.empty([0, n_input, n_features])\n",
    "y_train = np.empty([0,2])\n",
    "X_val = np.empty([0, n_input, n_features])\n",
    "y_val = np.empty([0,2])"
   ],
   "metadata": {
    "collapsed": false,
    "pycharm": {
     "name": "#%%\n"
    }
   }
  },
  {
   "cell_type": "code",
   "execution_count": 124,
   "outputs": [
    {
     "name": "stdout",
     "output_type": "stream",
     "text": [
      "LSTMData80Sparse\\XY_arrays_80Sparse_LSTM_Train_0.npy\n",
      "Train:  <_io.BufferedReader name='LSTMData80Sparse\\\\XY_arrays_80Sparse_LSTM_Train_0.npy'>\n",
      "LSTMData80Sparse\\XY_arrays_80Sparse_LSTM_Train_1.npy\n",
      "Train:  <_io.BufferedReader name='LSTMData80Sparse\\\\XY_arrays_80Sparse_LSTM_Train_1.npy'>\n",
      "LSTMData80Sparse\\XY_arrays_80Sparse_LSTM_Train_10.npy\n",
      "Train:  <_io.BufferedReader name='LSTMData80Sparse\\\\XY_arrays_80Sparse_LSTM_Train_10.npy'>\n",
      "LSTMData80Sparse\\XY_arrays_80Sparse_LSTM_Train_11.npy\n",
      "Train:  <_io.BufferedReader name='LSTMData80Sparse\\\\XY_arrays_80Sparse_LSTM_Train_11.npy'>\n",
      "LSTMData80Sparse\\XY_arrays_80Sparse_LSTM_Train_12.npy\n",
      "Train:  <_io.BufferedReader name='LSTMData80Sparse\\\\XY_arrays_80Sparse_LSTM_Train_12.npy'>\n",
      "LSTMData80Sparse\\XY_arrays_80Sparse_LSTM_Train_13.npy\n",
      "Train:  <_io.BufferedReader name='LSTMData80Sparse\\\\XY_arrays_80Sparse_LSTM_Train_13.npy'>\n",
      "LSTMData80Sparse\\XY_arrays_80Sparse_LSTM_Train_14.npy\n",
      "Train:  <_io.BufferedReader name='LSTMData80Sparse\\\\XY_arrays_80Sparse_LSTM_Train_14.npy'>\n",
      "LSTMData80Sparse\\XY_arrays_80Sparse_LSTM_Train_15.npy\n",
      "Train:  <_io.BufferedReader name='LSTMData80Sparse\\\\XY_arrays_80Sparse_LSTM_Train_15.npy'>\n",
      "LSTMData80Sparse\\XY_arrays_80Sparse_LSTM_Train_16.npy\n",
      "Train:  <_io.BufferedReader name='LSTMData80Sparse\\\\XY_arrays_80Sparse_LSTM_Train_16.npy'>\n",
      "LSTMData80Sparse\\XY_arrays_80Sparse_LSTM_Train_17.npy\n",
      "Train:  <_io.BufferedReader name='LSTMData80Sparse\\\\XY_arrays_80Sparse_LSTM_Train_17.npy'>\n",
      "LSTMData80Sparse\\XY_arrays_80Sparse_LSTM_Train_18.npy\n",
      "Train:  <_io.BufferedReader name='LSTMData80Sparse\\\\XY_arrays_80Sparse_LSTM_Train_18.npy'>\n",
      "LSTMData80Sparse\\XY_arrays_80Sparse_LSTM_Train_19.npy\n",
      "Train:  <_io.BufferedReader name='LSTMData80Sparse\\\\XY_arrays_80Sparse_LSTM_Train_19.npy'>\n",
      "LSTMData80Sparse\\XY_arrays_80Sparse_LSTM_Train_2.npy\n",
      "Train:  <_io.BufferedReader name='LSTMData80Sparse\\\\XY_arrays_80Sparse_LSTM_Train_2.npy'>\n",
      "LSTMData80Sparse\\XY_arrays_80Sparse_LSTM_Train_20.npy\n",
      "Train:  <_io.BufferedReader name='LSTMData80Sparse\\\\XY_arrays_80Sparse_LSTM_Train_20.npy'>\n",
      "LSTMData80Sparse\\XY_arrays_80Sparse_LSTM_Train_21.npy\n",
      "Train:  <_io.BufferedReader name='LSTMData80Sparse\\\\XY_arrays_80Sparse_LSTM_Train_21.npy'>\n",
      "LSTMData80Sparse\\XY_arrays_80Sparse_LSTM_Train_22.npy\n",
      "Train:  <_io.BufferedReader name='LSTMData80Sparse\\\\XY_arrays_80Sparse_LSTM_Train_22.npy'>\n",
      "LSTMData80Sparse\\XY_arrays_80Sparse_LSTM_Train_23.npy\n",
      "Train:  <_io.BufferedReader name='LSTMData80Sparse\\\\XY_arrays_80Sparse_LSTM_Train_23.npy'>\n",
      "LSTMData80Sparse\\XY_arrays_80Sparse_LSTM_Train_24.npy\n",
      "Train:  <_io.BufferedReader name='LSTMData80Sparse\\\\XY_arrays_80Sparse_LSTM_Train_24.npy'>\n",
      "LSTMData80Sparse\\XY_arrays_80Sparse_LSTM_Train_25.npy\n",
      "Train:  <_io.BufferedReader name='LSTMData80Sparse\\\\XY_arrays_80Sparse_LSTM_Train_25.npy'>\n",
      "LSTMData80Sparse\\XY_arrays_80Sparse_LSTM_Train_26.npy\n",
      "Train:  <_io.BufferedReader name='LSTMData80Sparse\\\\XY_arrays_80Sparse_LSTM_Train_26.npy'>\n",
      "LSTMData80Sparse\\XY_arrays_80Sparse_LSTM_Train_27.npy\n",
      "Train:  <_io.BufferedReader name='LSTMData80Sparse\\\\XY_arrays_80Sparse_LSTM_Train_27.npy'>\n",
      "LSTMData80Sparse\\XY_arrays_80Sparse_LSTM_Train_28.npy\n",
      "Train:  <_io.BufferedReader name='LSTMData80Sparse\\\\XY_arrays_80Sparse_LSTM_Train_28.npy'>\n",
      "LSTMData80Sparse\\XY_arrays_80Sparse_LSTM_Train_29.npy\n",
      "Train:  <_io.BufferedReader name='LSTMData80Sparse\\\\XY_arrays_80Sparse_LSTM_Train_29.npy'>\n",
      "LSTMData80Sparse\\XY_arrays_80Sparse_LSTM_Train_3.npy\n",
      "Train:  <_io.BufferedReader name='LSTMData80Sparse\\\\XY_arrays_80Sparse_LSTM_Train_3.npy'>\n",
      "LSTMData80Sparse\\XY_arrays_80Sparse_LSTM_Train_30.npy\n",
      "Train:  <_io.BufferedReader name='LSTMData80Sparse\\\\XY_arrays_80Sparse_LSTM_Train_30.npy'>\n",
      "LSTMData80Sparse\\XY_arrays_80Sparse_LSTM_Train_31.npy\n",
      "Train:  <_io.BufferedReader name='LSTMData80Sparse\\\\XY_arrays_80Sparse_LSTM_Train_31.npy'>\n",
      "LSTMData80Sparse\\XY_arrays_80Sparse_LSTM_Train_32.npy\n",
      "Train:  <_io.BufferedReader name='LSTMData80Sparse\\\\XY_arrays_80Sparse_LSTM_Train_32.npy'>\n",
      "LSTMData80Sparse\\XY_arrays_80Sparse_LSTM_Train_33.npy\n",
      "Train:  <_io.BufferedReader name='LSTMData80Sparse\\\\XY_arrays_80Sparse_LSTM_Train_33.npy'>\n",
      "LSTMData80Sparse\\XY_arrays_80Sparse_LSTM_Train_34.npy\n",
      "Train:  <_io.BufferedReader name='LSTMData80Sparse\\\\XY_arrays_80Sparse_LSTM_Train_34.npy'>\n",
      "LSTMData80Sparse\\XY_arrays_80Sparse_LSTM_Train_35.npy\n",
      "Train:  <_io.BufferedReader name='LSTMData80Sparse\\\\XY_arrays_80Sparse_LSTM_Train_35.npy'>\n",
      "LSTMData80Sparse\\XY_arrays_80Sparse_LSTM_Train_36.npy\n",
      "Train:  <_io.BufferedReader name='LSTMData80Sparse\\\\XY_arrays_80Sparse_LSTM_Train_36.npy'>\n",
      "LSTMData80Sparse\\XY_arrays_80Sparse_LSTM_Train_37.npy\n",
      "Train:  <_io.BufferedReader name='LSTMData80Sparse\\\\XY_arrays_80Sparse_LSTM_Train_37.npy'>\n",
      "LSTMData80Sparse\\XY_arrays_80Sparse_LSTM_Train_38.npy\n",
      "Train:  <_io.BufferedReader name='LSTMData80Sparse\\\\XY_arrays_80Sparse_LSTM_Train_38.npy'>\n",
      "LSTMData80Sparse\\XY_arrays_80Sparse_LSTM_Train_39.npy\n",
      "Train:  <_io.BufferedReader name='LSTMData80Sparse\\\\XY_arrays_80Sparse_LSTM_Train_39.npy'>\n",
      "LSTMData80Sparse\\XY_arrays_80Sparse_LSTM_Train_4.npy\n",
      "Train:  <_io.BufferedReader name='LSTMData80Sparse\\\\XY_arrays_80Sparse_LSTM_Train_4.npy'>\n",
      "LSTMData80Sparse\\XY_arrays_80Sparse_LSTM_Train_40.npy\n",
      "Train:  <_io.BufferedReader name='LSTMData80Sparse\\\\XY_arrays_80Sparse_LSTM_Train_40.npy'>\n",
      "LSTMData80Sparse\\XY_arrays_80Sparse_LSTM_Train_41.npy\n",
      "Train:  <_io.BufferedReader name='LSTMData80Sparse\\\\XY_arrays_80Sparse_LSTM_Train_41.npy'>\n",
      "LSTMData80Sparse\\XY_arrays_80Sparse_LSTM_Train_42.npy\n",
      "Train:  <_io.BufferedReader name='LSTMData80Sparse\\\\XY_arrays_80Sparse_LSTM_Train_42.npy'>\n",
      "LSTMData80Sparse\\XY_arrays_80Sparse_LSTM_Train_43.npy\n",
      "Train:  <_io.BufferedReader name='LSTMData80Sparse\\\\XY_arrays_80Sparse_LSTM_Train_43.npy'>\n",
      "LSTMData80Sparse\\XY_arrays_80Sparse_LSTM_Train_44.npy\n",
      "Train:  <_io.BufferedReader name='LSTMData80Sparse\\\\XY_arrays_80Sparse_LSTM_Train_44.npy'>\n",
      "LSTMData80Sparse\\XY_arrays_80Sparse_LSTM_Train_45.npy\n",
      "Train:  <_io.BufferedReader name='LSTMData80Sparse\\\\XY_arrays_80Sparse_LSTM_Train_45.npy'>\n",
      "LSTMData80Sparse\\XY_arrays_80Sparse_LSTM_Train_46.npy\n",
      "Train:  <_io.BufferedReader name='LSTMData80Sparse\\\\XY_arrays_80Sparse_LSTM_Train_46.npy'>\n",
      "LSTMData80Sparse\\XY_arrays_80Sparse_LSTM_Train_47.npy\n",
      "Train:  <_io.BufferedReader name='LSTMData80Sparse\\\\XY_arrays_80Sparse_LSTM_Train_47.npy'>\n",
      "LSTMData80Sparse\\XY_arrays_80Sparse_LSTM_Train_48.npy\n",
      "Train:  <_io.BufferedReader name='LSTMData80Sparse\\\\XY_arrays_80Sparse_LSTM_Train_48.npy'>\n",
      "LSTMData80Sparse\\XY_arrays_80Sparse_LSTM_Train_49.npy\n",
      "Train:  <_io.BufferedReader name='LSTMData80Sparse\\\\XY_arrays_80Sparse_LSTM_Train_49.npy'>\n",
      "LSTMData80Sparse\\XY_arrays_80Sparse_LSTM_Train_5.npy\n",
      "Train:  <_io.BufferedReader name='LSTMData80Sparse\\\\XY_arrays_80Sparse_LSTM_Train_5.npy'>\n",
      "LSTMData80Sparse\\XY_arrays_80Sparse_LSTM_Train_50.npy\n",
      "Train:  <_io.BufferedReader name='LSTMData80Sparse\\\\XY_arrays_80Sparse_LSTM_Train_50.npy'>\n",
      "LSTMData80Sparse\\XY_arrays_80Sparse_LSTM_Train_51.npy\n",
      "Train:  <_io.BufferedReader name='LSTMData80Sparse\\\\XY_arrays_80Sparse_LSTM_Train_51.npy'>\n",
      "LSTMData80Sparse\\XY_arrays_80Sparse_LSTM_Train_52.npy\n",
      "Train:  <_io.BufferedReader name='LSTMData80Sparse\\\\XY_arrays_80Sparse_LSTM_Train_52.npy'>\n",
      "LSTMData80Sparse\\XY_arrays_80Sparse_LSTM_Train_53.npy\n",
      "Train:  <_io.BufferedReader name='LSTMData80Sparse\\\\XY_arrays_80Sparse_LSTM_Train_53.npy'>\n",
      "LSTMData80Sparse\\XY_arrays_80Sparse_LSTM_Train_54.npy\n",
      "Train:  <_io.BufferedReader name='LSTMData80Sparse\\\\XY_arrays_80Sparse_LSTM_Train_54.npy'>\n",
      "LSTMData80Sparse\\XY_arrays_80Sparse_LSTM_Train_55.npy\n",
      "Train:  <_io.BufferedReader name='LSTMData80Sparse\\\\XY_arrays_80Sparse_LSTM_Train_55.npy'>\n",
      "LSTMData80Sparse\\XY_arrays_80Sparse_LSTM_Train_56.npy\n",
      "Train:  <_io.BufferedReader name='LSTMData80Sparse\\\\XY_arrays_80Sparse_LSTM_Train_56.npy'>\n",
      "LSTMData80Sparse\\XY_arrays_80Sparse_LSTM_Train_57.npy\n",
      "Train:  <_io.BufferedReader name='LSTMData80Sparse\\\\XY_arrays_80Sparse_LSTM_Train_57.npy'>\n",
      "LSTMData80Sparse\\XY_arrays_80Sparse_LSTM_Train_58.npy\n",
      "Train:  <_io.BufferedReader name='LSTMData80Sparse\\\\XY_arrays_80Sparse_LSTM_Train_58.npy'>\n",
      "LSTMData80Sparse\\XY_arrays_80Sparse_LSTM_Train_59.npy\n",
      "Train:  <_io.BufferedReader name='LSTMData80Sparse\\\\XY_arrays_80Sparse_LSTM_Train_59.npy'>\n",
      "LSTMData80Sparse\\XY_arrays_80Sparse_LSTM_Train_6.npy\n",
      "Train:  <_io.BufferedReader name='LSTMData80Sparse\\\\XY_arrays_80Sparse_LSTM_Train_6.npy'>\n",
      "LSTMData80Sparse\\XY_arrays_80Sparse_LSTM_Train_60.npy\n",
      "Train:  <_io.BufferedReader name='LSTMData80Sparse\\\\XY_arrays_80Sparse_LSTM_Train_60.npy'>\n",
      "LSTMData80Sparse\\XY_arrays_80Sparse_LSTM_Train_61.npy\n",
      "Train:  <_io.BufferedReader name='LSTMData80Sparse\\\\XY_arrays_80Sparse_LSTM_Train_61.npy'>\n",
      "LSTMData80Sparse\\XY_arrays_80Sparse_LSTM_Train_62.npy\n",
      "Train:  <_io.BufferedReader name='LSTMData80Sparse\\\\XY_arrays_80Sparse_LSTM_Train_62.npy'>\n",
      "LSTMData80Sparse\\XY_arrays_80Sparse_LSTM_Train_63.npy\n",
      "Train:  <_io.BufferedReader name='LSTMData80Sparse\\\\XY_arrays_80Sparse_LSTM_Train_63.npy'>\n",
      "LSTMData80Sparse\\XY_arrays_80Sparse_LSTM_Train_64.npy\n",
      "Train:  <_io.BufferedReader name='LSTMData80Sparse\\\\XY_arrays_80Sparse_LSTM_Train_64.npy'>\n",
      "LSTMData80Sparse\\XY_arrays_80Sparse_LSTM_Train_65.npy\n",
      "Train:  <_io.BufferedReader name='LSTMData80Sparse\\\\XY_arrays_80Sparse_LSTM_Train_65.npy'>\n",
      "LSTMData80Sparse\\XY_arrays_80Sparse_LSTM_Train_7.npy\n",
      "Train:  <_io.BufferedReader name='LSTMData80Sparse\\\\XY_arrays_80Sparse_LSTM_Train_7.npy'>\n",
      "LSTMData80Sparse\\XY_arrays_80Sparse_LSTM_Train_8.npy\n",
      "Train:  <_io.BufferedReader name='LSTMData80Sparse\\\\XY_arrays_80Sparse_LSTM_Train_8.npy'>\n",
      "LSTMData80Sparse\\XY_arrays_80Sparse_LSTM_Train_9.npy\n",
      "Train:  <_io.BufferedReader name='LSTMData80Sparse\\\\XY_arrays_80Sparse_LSTM_Train_9.npy'>\n",
      "LSTMData80Sparse\\XY_arrays_LSTM_80Sparse_66.npy\n",
      "Train:  <_io.BufferedReader name='LSTMData80Sparse\\\\XY_arrays_LSTM_80Sparse_66.npy'>\n",
      "LSTMData80Sparse\\XY_arrays_LSTM_80Sparse_67.npy\n",
      "Train:  <_io.BufferedReader name='LSTMData80Sparse\\\\XY_arrays_LSTM_80Sparse_67.npy'>\n",
      "LSTMData80Sparse\\XY_arrays_LSTM_80Sparse_68.npy\n",
      "Train:  <_io.BufferedReader name='LSTMData80Sparse\\\\XY_arrays_LSTM_80Sparse_68.npy'>\n",
      "Val:  <_io.BufferedReader name='LSTMData80Sparse\\\\XY_arrays_LSTM_80Sparse_69.npy'>\n",
      "Val:  <_io.BufferedReader name='LSTMData80Sparse\\\\XY_arrays_LSTM_80Sparse_70.npy'>\n",
      "Val:  <_io.BufferedReader name='LSTMData80Sparse\\\\XY_arrays_LSTM_80Sparse_71.npy'>\n",
      "Val:  <_io.BufferedReader name='LSTMData80Sparse\\\\XY_arrays_LSTM_80Sparse_72.npy'>\n",
      "Val:  <_io.BufferedReader name='LSTMData80Sparse\\\\XY_arrays_LSTM_80Sparse_73.npy'>\n",
      "Val:  <_io.BufferedReader name='LSTMData80Sparse\\\\XY_arrays_LSTM_80Sparse_74.npy'>\n",
      "Val:  <_io.BufferedReader name='LSTMData80Sparse\\\\XY_arrays_LSTM_80Sparse_75.npy'>\n",
      "Val:  <_io.BufferedReader name='LSTMData80Sparse\\\\XY_arrays_LSTM_80Sparse_76.npy'>\n",
      "Val:  <_io.BufferedReader name='LSTMData80Sparse\\\\XY_arrays_LSTM_80Sparse_77.npy'>\n",
      "Val:  <_io.BufferedReader name='LSTMData80Sparse\\\\XY_arrays_LSTM_80Sparse_78.npy'>\n",
      "Val:  <_io.BufferedReader name='LSTMData80Sparse\\\\XY_arrays_LSTM_80Sparse_79.npy'>\n",
      "Val:  <_io.BufferedReader name='LSTMData80Sparse\\\\XY_arrays_LSTM_80Sparse_80.npy'>\n",
      "Val:  <_io.BufferedReader name='LSTMData80Sparse\\\\XY_arrays_LSTM_80Sparse_81.npy'>\n",
      "Val:  <_io.BufferedReader name='LSTMData80Sparse\\\\XY_arrays_LSTM_80Sparse_82.npy'>\n",
      "Val:  <_io.BufferedReader name='LSTMData80Sparse\\\\XY_arrays_LSTM_80Sparse_83.npy'>\n",
      "Val:  <_io.BufferedReader name='LSTMData80Sparse\\\\XY_arrays_LSTM_80Sparse_84.npy'>\n",
      "Val:  <_io.BufferedReader name='LSTMData80Sparse\\\\XY_arrays_LSTM_80Sparse__last.npy'>\n"
     ]
    }
   ],
   "source": [
    "path = 'LSTMData80Sparse'\n",
    "filecount = len(os.listdir(path))\n",
    "for filename in os.listdir(path):\n",
    "    filecount = filecount-1\n",
    "    f = os.path.join(path, filename)\n",
    "    if filecount > 16:\n",
    "        print(f)\n",
    "        with open(f, 'rb') as f: #Saves two arrays in same file, arrays can be opened separately or together.\n",
    "            X_load = np.load(f)\n",
    "            y_load = np.load(f)\n",
    "        X_train = np.vstack([X_train, X_load]) #Append your arrays\n",
    "        y_train = np.concatenate([y_train, y_load])\n",
    "        print(\"Train: \", f)\n",
    "    else:\n",
    "        with open(f, 'rb') as f: #Saves two arrays in same file, arrays can be opened separately or together.\n",
    "            X_load = np.load(f)\n",
    "            y_load = np.load(f)\n",
    "        X_val = np.vstack([X_val, X_load]) #Append your arrays\n",
    "        y_val = np.concatenate([y_val, y_load])\n",
    "        print(\"Val: \", f)"
   ],
   "metadata": {
    "collapsed": false,
    "pycharm": {
     "name": "#%%\n"
    }
   }
  },
  {
   "cell_type": "code",
   "execution_count": 125,
   "outputs": [
    {
     "name": "stdout",
     "output_type": "stream",
     "text": [
      "(220426, 80, 7)\n",
      "(220426, 2)\n",
      "(53072, 80, 7)\n",
      "(53072, 2)\n",
      "0.19404895099781352\n"
     ]
    }
   ],
   "source": [
    "print(X_train.shape) #(4352938, 60, 7)\n",
    "print(y_train.shape)\n",
    "print(X_val.shape)\n",
    "print(y_val.shape)\n",
    "print(X_val.shape[0] / (X_val.shape[0] + X_train.shape[0])) #60: 0.192, 80: 0.194\n",
    "with open((path + '/XY_80Sparse_Full_XYTrainVal.npy'), 'wb') as f:\n",
    "      np.save(f, X_train)\n",
    "      np.save(f, y_train)\n",
    "      np.save(f, X_val)\n",
    "      np.save(f, y_val)"
   ],
   "metadata": {
    "collapsed": false,
    "pycharm": {
     "name": "#%%\n"
    }
   }
  },
  {
   "cell_type": "markdown",
   "source": [
    "## Training - 60 Sparse"
   ],
   "metadata": {
    "id": "33keUIUgLdS8",
    "pycharm": {
     "name": "#%% md\n"
    }
   }
  },
  {
   "cell_type": "code",
   "source": [
    "#https://towardsdatascience.com/choosing-the-right-hyperparameters-for-a-simple-lstm-using-keras-f8e9ed76f046\n",
    "hidden_nodes_ex = int(2/3 * (n_input * n_features * y_train.shape[1]))\n",
    "hidden_nodes_ex2 = int(X_train.shape[0] / 10 * (n_input * n_features * y_train.shape[1]))\n",
    "print(f\"One approximation of the number of hidden nodes is {hidden_nodes_ex}.\")\n",
    "print(f\"Another approximation of the number of hidden nodes is {hidden_nodes_ex2}.\")\n",
    "\n",
    "hidden_nodes = 60\n",
    "print(f\"We will be using {hidden_nodes}, as this is reasonable to train and the same number we used for the DNN.\")"
   ],
   "metadata": {
    "colab": {
     "base_uri": "https://localhost:8080/"
    },
    "id": "p-e7XTPjW4TS",
    "outputId": "464984e2-b1ed-4521-f314-d4cbccc94a46",
    "pycharm": {
     "name": "#%%\n"
    }
   },
   "execution_count": 53,
   "outputs": [
    {
     "name": "stdout",
     "output_type": "stream",
     "text": [
      "One approximation of the number of hidden nodes is 560.\n",
      "Another approximation of the number of hidden nodes is 34246212.\n",
      "We will be using 60, as this is reasonable to train and the same number we used for the DNN.\n"
     ]
    }
   ]
  },
  {
   "cell_type": "code",
   "execution_count": 54,
   "outputs": [
    {
     "name": "stdout",
     "output_type": "stream",
     "text": [
      "(407693, 60, 7)\n",
      "(407693, 2)\n",
      "(97028, 60, 7)\n",
      "(97028, 2)\n"
     ]
    }
   ],
   "source": [
    "print(X_train.shape) #(4352938, 60, 7), (3508883, 60, 7), (407693, 60, 7)\n",
    "print(y_train.shape)\n",
    "print(X_val.shape)\n",
    "print(y_val.shape)"
   ],
   "metadata": {
    "collapsed": false,
    "pycharm": {
     "name": "#%%\n"
    }
   }
  },
  {
   "cell_type": "code",
   "source": [],
   "metadata": {
    "id": "cCkZOpWwLc7r",
    "pycharm": {
     "name": "#%%\n"
    }
   },
   "execution_count": 55,
   "outputs": []
  },
  {
   "cell_type": "code",
   "source": [
    "model = model_lstm()\n",
    "model.summary()"
   ],
   "metadata": {
    "colab": {
     "base_uri": "https://localhost:8080/"
    },
    "id": "XPJkCUzFezo0",
    "outputId": "b31cf317-8a69-4354-cf88-b67773d8c1ce",
    "pycharm": {
     "name": "#%%\n"
    }
   },
   "execution_count": 56,
   "outputs": [
    {
     "name": "stdout",
     "output_type": "stream",
     "text": [
      "Model: \"sequential_1\"\n",
      "_________________________________________________________________\n",
      " Layer (type)                Output Shape              Param #   \n",
      "=================================================================\n",
      " lstm_2 (LSTM)               (None, 60, 60)            16320     \n",
      "                                                                 \n",
      " dropout_2 (Dropout)         (None, 60, 60)            0         \n",
      "                                                                 \n",
      " lstm_3 (LSTM)               (None, 60)                29040     \n",
      "                                                                 \n",
      " dropout_3 (Dropout)         (None, 60)                0         \n",
      "                                                                 \n",
      " dense_1 (Dense)             (None, 2)                 122       \n",
      "                                                                 \n",
      "=================================================================\n",
      "Total params: 45,482\n",
      "Trainable params: 45,482\n",
      "Non-trainable params: 0\n",
      "_________________________________________________________________\n"
     ]
    }
   ]
  },
  {
   "cell_type": "code",
   "execution_count": 64,
   "outputs": [],
   "source": [
    "batch_size = 500\n",
    "\n",
    "callbacks_list = [\n",
    "    tf.keras.callbacks.EarlyStopping(\n",
    "        monitor=\"val_loss\",\n",
    "        patience=3\n",
    "    ),\n",
    "    tf.keras.callbacks.ModelCheckpoint(\n",
    "        filepath=\"ModelCheckpoints60/model.{epoch:02d}-{val_loss:.2f}.h5\",\n",
    "        monitor=\"val_loss\",\n",
    "        mode=\"min\",\n",
    "        save_best_only=True,\n",
    "    )\n",
    "]"
   ],
   "metadata": {
    "collapsed": false,
    "pycharm": {
     "name": "#%%\n"
    }
   }
  },
  {
   "cell_type": "code",
   "execution_count": 58,
   "outputs": [
    {
     "name": "stdout",
     "output_type": "stream",
     "text": [
      "Time:  14:14:29\n",
      "Epoch 1/20\n",
      "816/816 [==============================] - 461s 563ms/step - loss: 0.0250 - val_loss: 0.0195\n",
      "Epoch 2/20\n",
      "816/816 [==============================] - 407s 499ms/step - loss: 0.0190 - val_loss: 0.0179\n",
      "Epoch 3/20\n",
      "816/816 [==============================] - 369s 452ms/step - loss: 0.0168 - val_loss: 0.0151\n",
      "Epoch 4/20\n",
      "816/816 [==============================] - 351s 430ms/step - loss: 0.0159 - val_loss: 0.0149\n",
      "Epoch 5/20\n",
      "816/816 [==============================] - 327s 401ms/step - loss: 0.0150 - val_loss: 0.0142\n",
      "Epoch 6/20\n",
      "816/816 [==============================] - 346s 424ms/step - loss: 0.0144 - val_loss: 0.0133\n",
      "Epoch 7/20\n",
      "816/816 [==============================] - 347s 425ms/step - loss: 0.0140 - val_loss: 0.0134\n",
      "Epoch 8/20\n",
      "816/816 [==============================] - 355s 435ms/step - loss: 0.0138 - val_loss: 0.0139\n",
      "Epoch 9/20\n",
      "816/816 [==============================] - 337s 412ms/step - loss: 0.0136 - val_loss: 0.0150\n",
      "Time:  15:09:29\n"
     ]
    }
   ],
   "source": [
    "print(\"Time: \", time.strftime(\"%H:%M:%S\", time.localtime()))\n",
    "\n",
    "history_retrieval = model.fit(X_train, y_train, epochs=20, validation_data=(X_val, y_val),\n",
    "                               batch_size = batch_size, callbacks=callbacks_list, verbose=1)\n",
    "\n",
    "print(\"Time: \", time.strftime(\"%H:%M:%S\", time.localtime()))"
   ],
   "metadata": {
    "collapsed": false,
    "pycharm": {
     "name": "#%%\n"
    }
   }
  },
  {
   "cell_type": "code",
   "execution_count": 59,
   "outputs": [
    {
     "data": {
      "text/plain": "[<matplotlib.lines.Line2D at 0x23f613a5df0>]"
     },
     "execution_count": 59,
     "metadata": {},
     "output_type": "execute_result"
    },
    {
     "data": {
      "text/plain": "<Figure size 640x480 with 1 Axes>",
      "image/png": "[encoded data removed]"
     },
     "metadata": {},
     "output_type": "display_data"
    }
   ],
   "source": [
    "loss_per_epoch = model.history.history['loss']\n",
    "plt.plot(range(len(loss_per_epoch)),loss_per_epoch)"
   ],
   "metadata": {
    "collapsed": false,
    "pycharm": {
     "name": "#%%\n"
    }
   }
  },
  {
   "cell_type": "code",
   "execution_count": 63,
   "outputs": [],
   "source": [
    "model.save('ModelCheckpoints60/model60sparse_final.h5')"
   ],
   "metadata": {
    "collapsed": false,
    "pycharm": {
     "name": "#%%\n"
    }
   }
  },
  {
   "cell_type": "code",
   "execution_count": 65,
   "outputs": [
    {
     "name": "stdout",
     "output_type": "stream",
     "text": [
      "816/816 [==============================] - 71s 88ms/step - loss: 0.0152\n"
     ]
    },
    {
     "data": {
      "text/plain": "0.015179895795881748"
     },
     "execution_count": 65,
     "metadata": {},
     "output_type": "execute_result"
    }
   ],
   "source": [
    "model.evaluate(X_train, y_train, batch_size=batch_size, callbacks=callbacks_list, verbose=1)"
   ],
   "metadata": {
    "collapsed": false,
    "pycharm": {
     "name": "#%%\n"
    }
   }
  },
  {
   "cell_type": "code",
   "execution_count": 66,
   "outputs": [
    {
     "name": "stdout",
     "output_type": "stream",
     "text": [
      "195/195 [==============================] - 16s 80ms/step - loss: 0.0150\n"
     ]
    },
    {
     "data": {
      "text/plain": "0.015012651681900024"
     },
     "execution_count": 66,
     "metadata": {},
     "output_type": "execute_result"
    }
   ],
   "source": [
    "model.evaluate(X_val, y_val, batch_size=batch_size, callbacks=callbacks_list, verbose=1)"
   ],
   "metadata": {
    "collapsed": false,
    "pycharm": {
     "name": "#%%\n"
    }
   }
  },
  {
   "cell_type": "code",
   "execution_count": 60,
   "outputs": [
    {
     "name": "stdout",
     "output_type": "stream",
     "text": [
      "Test:  <_io.BufferedReader name='LSTM_Data_60Sparse_Test\\\\XY_arrays_60Sparse_LSTM_Test_0.npy'> (3491, 60, 7)\n",
      "Test:  <_io.BufferedReader name='LSTM_Data_60Sparse_Test\\\\XY_arrays_60Sparse_LSTM_Test_1.npy'> (6941, 60, 7)\n",
      "Test:  <_io.BufferedReader name='LSTM_Data_60Sparse_Test\\\\XY_arrays_60Sparse_LSTM_Test_10.npy'> (10496, 60, 7)\n",
      "Test:  <_io.BufferedReader name='LSTM_Data_60Sparse_Test\\\\XY_arrays_60Sparse_LSTM_Test_11.npy'> (13821, 60, 7)\n",
      "Test:  <_io.BufferedReader name='LSTM_Data_60Sparse_Test\\\\XY_arrays_60Sparse_LSTM_Test_12.npy'> (17316, 60, 7)\n",
      "Test:  <_io.BufferedReader name='LSTM_Data_60Sparse_Test\\\\XY_arrays_60Sparse_LSTM_Test_13.npy'> (20822, 60, 7)\n",
      "Test:  <_io.BufferedReader name='LSTM_Data_60Sparse_Test\\\\XY_arrays_60Sparse_LSTM_Test_14.npy'> (24251, 60, 7)\n",
      "Test:  <_io.BufferedReader name='LSTM_Data_60Sparse_Test\\\\XY_arrays_60Sparse_LSTM_Test_15.npy'> (27704, 60, 7)\n",
      "Test:  <_io.BufferedReader name='LSTM_Data_60Sparse_Test\\\\XY_arrays_60Sparse_LSTM_Test_16.npy'> (31017, 60, 7)\n",
      "Test:  <_io.BufferedReader name='LSTM_Data_60Sparse_Test\\\\XY_arrays_60Sparse_LSTM_Test_17.npy'> (34436, 60, 7)\n",
      "Test:  <_io.BufferedReader name='LSTM_Data_60Sparse_Test\\\\XY_arrays_60Sparse_LSTM_Test_18.npy'> (37725, 60, 7)\n",
      "Test:  <_io.BufferedReader name='LSTM_Data_60Sparse_Test\\\\XY_arrays_60Sparse_LSTM_Test_19.npy'> (41288, 60, 7)\n",
      "Test:  <_io.BufferedReader name='LSTM_Data_60Sparse_Test\\\\XY_arrays_60Sparse_LSTM_Test_2.npy'> (44719, 60, 7)\n",
      "Test:  <_io.BufferedReader name='LSTM_Data_60Sparse_Test\\\\XY_arrays_60Sparse_LSTM_Test_20.npy'> (48156, 60, 7)\n",
      "Test:  <_io.BufferedReader name='LSTM_Data_60Sparse_Test\\\\XY_arrays_60Sparse_LSTM_Test_21.npy'> (51638, 60, 7)\n",
      "Test:  <_io.BufferedReader name='LSTM_Data_60Sparse_Test\\\\XY_arrays_60Sparse_LSTM_Test_22.npy'> (55112, 60, 7)\n",
      "Test:  <_io.BufferedReader name='LSTM_Data_60Sparse_Test\\\\XY_arrays_60Sparse_LSTM_Test_23.npy'> (58585, 60, 7)\n",
      "Test:  <_io.BufferedReader name='LSTM_Data_60Sparse_Test\\\\XY_arrays_60Sparse_LSTM_Test_24.npy'> (62011, 60, 7)\n",
      "Test:  <_io.BufferedReader name='LSTM_Data_60Sparse_Test\\\\XY_arrays_60Sparse_LSTM_Test_25.npy'> (65514, 60, 7)\n",
      "Test:  <_io.BufferedReader name='LSTM_Data_60Sparse_Test\\\\XY_arrays_60Sparse_LSTM_Test_26.npy'> (68926, 60, 7)\n",
      "Test:  <_io.BufferedReader name='LSTM_Data_60Sparse_Test\\\\XY_arrays_60Sparse_LSTM_Test_27.npy'> (72322, 60, 7)\n",
      "Test:  <_io.BufferedReader name='LSTM_Data_60Sparse_Test\\\\XY_arrays_60Sparse_LSTM_Test_28.npy'> (75792, 60, 7)\n",
      "Test:  <_io.BufferedReader name='LSTM_Data_60Sparse_Test\\\\XY_arrays_60Sparse_LSTM_Test_29.npy'> (79249, 60, 7)\n",
      "Test:  <_io.BufferedReader name='LSTM_Data_60Sparse_Test\\\\XY_arrays_60Sparse_LSTM_Test_3.npy'> (82705, 60, 7)\n",
      "Test:  <_io.BufferedReader name='LSTM_Data_60Sparse_Test\\\\XY_arrays_60Sparse_LSTM_Test_30.npy'> (86160, 60, 7)\n",
      "Test:  <_io.BufferedReader name='LSTM_Data_60Sparse_Test\\\\XY_arrays_60Sparse_LSTM_Test_31.npy'> (89664, 60, 7)\n",
      "Test:  <_io.BufferedReader name='LSTM_Data_60Sparse_Test\\\\XY_arrays_60Sparse_LSTM_Test_32.npy'> (93192, 60, 7)\n",
      "Test:  <_io.BufferedReader name='LSTM_Data_60Sparse_Test\\\\XY_arrays_60Sparse_LSTM_Test_33.npy'> (96691, 60, 7)\n",
      "Test:  <_io.BufferedReader name='LSTM_Data_60Sparse_Test\\\\XY_arrays_60Sparse_LSTM_Test_34.npy'> (100043, 60, 7)\n",
      "Test:  <_io.BufferedReader name='LSTM_Data_60Sparse_Test\\\\XY_arrays_60Sparse_LSTM_Test_35.npy'> (103533, 60, 7)\n",
      "Test:  <_io.BufferedReader name='LSTM_Data_60Sparse_Test\\\\XY_arrays_60Sparse_LSTM_Test_36.npy'> (106977, 60, 7)\n",
      "Test:  <_io.BufferedReader name='LSTM_Data_60Sparse_Test\\\\XY_arrays_60Sparse_LSTM_Test_37.npy'> (110316, 60, 7)\n",
      "Test:  <_io.BufferedReader name='LSTM_Data_60Sparse_Test\\\\XY_arrays_60Sparse_LSTM_Test_38.npy'> (113807, 60, 7)\n",
      "Test:  <_io.BufferedReader name='LSTM_Data_60Sparse_Test\\\\XY_arrays_60Sparse_LSTM_Test_39.npy'> (117257, 60, 7)\n",
      "Test:  <_io.BufferedReader name='LSTM_Data_60Sparse_Test\\\\XY_arrays_60Sparse_LSTM_Test_4.npy'> (120633, 60, 7)\n",
      "Test:  <_io.BufferedReader name='LSTM_Data_60Sparse_Test\\\\XY_arrays_60Sparse_LSTM_Test_40.npy'> (124064, 60, 7)\n",
      "Test:  <_io.BufferedReader name='LSTM_Data_60Sparse_Test\\\\XY_arrays_60Sparse_LSTM_Test_41.npy'> (127520, 60, 7)\n",
      "Test:  <_io.BufferedReader name='LSTM_Data_60Sparse_Test\\\\XY_arrays_60Sparse_LSTM_Test_42.npy'> (130896, 60, 7)\n",
      "Test:  <_io.BufferedReader name='LSTM_Data_60Sparse_Test\\\\XY_arrays_60Sparse_LSTM_Test_43.npy'> (134395, 60, 7)\n",
      "Test:  <_io.BufferedReader name='LSTM_Data_60Sparse_Test\\\\XY_arrays_60Sparse_LSTM_Test_44.npy'> (137719, 60, 7)\n",
      "Test:  <_io.BufferedReader name='LSTM_Data_60Sparse_Test\\\\XY_arrays_60Sparse_LSTM_Test_45.npy'> (141202, 60, 7)\n",
      "Test:  <_io.BufferedReader name='LSTM_Data_60Sparse_Test\\\\XY_arrays_60Sparse_LSTM_Test_46.npy'> (144688, 60, 7)\n",
      "Test:  <_io.BufferedReader name='LSTM_Data_60Sparse_Test\\\\XY_arrays_60Sparse_LSTM_Test_47.npy'> (148030, 60, 7)\n",
      "Test:  <_io.BufferedReader name='LSTM_Data_60Sparse_Test\\\\XY_arrays_60Sparse_LSTM_Test_48.npy'> (151585, 60, 7)\n",
      "Test:  <_io.BufferedReader name='LSTM_Data_60Sparse_Test\\\\XY_arrays_60Sparse_LSTM_Test_49.npy'> (154910, 60, 7)\n",
      "Test:  <_io.BufferedReader name='LSTM_Data_60Sparse_Test\\\\XY_arrays_60Sparse_LSTM_Test_5.npy'> (158409, 60, 7)\n",
      "Test:  <_io.BufferedReader name='LSTM_Data_60Sparse_Test\\\\XY_arrays_60Sparse_LSTM_Test_50.npy'> (161904, 60, 7)\n",
      "Test:  <_io.BufferedReader name='LSTM_Data_60Sparse_Test\\\\XY_arrays_60Sparse_LSTM_Test_51.npy'> (165410, 60, 7)\n",
      "Test:  <_io.BufferedReader name='LSTM_Data_60Sparse_Test\\\\XY_arrays_60Sparse_LSTM_Test_52.npy'> (168839, 60, 7)\n",
      "Test:  <_io.BufferedReader name='LSTM_Data_60Sparse_Test\\\\XY_arrays_60Sparse_LSTM_Test_53.npy'> (172292, 60, 7)\n",
      "Test:  <_io.BufferedReader name='LSTM_Data_60Sparse_Test\\\\XY_arrays_60Sparse_LSTM_Test_54.npy'> (175605, 60, 7)\n",
      "Test:  <_io.BufferedReader name='LSTM_Data_60Sparse_Test\\\\XY_arrays_60Sparse_LSTM_Test_55.npy'> (179024, 60, 7)\n",
      "Test:  <_io.BufferedReader name='LSTM_Data_60Sparse_Test\\\\XY_arrays_60Sparse_LSTM_Test_56.npy'> (182313, 60, 7)\n",
      "Test:  <_io.BufferedReader name='LSTM_Data_60Sparse_Test\\\\XY_arrays_60Sparse_LSTM_Test_57.npy'> (185876, 60, 7)\n",
      "Test:  <_io.BufferedReader name='LSTM_Data_60Sparse_Test\\\\XY_arrays_60Sparse_LSTM_Test_58.npy'> (189313, 60, 7)\n",
      "Test:  <_io.BufferedReader name='LSTM_Data_60Sparse_Test\\\\XY_arrays_60Sparse_LSTM_Test_59.npy'> (192795, 60, 7)\n",
      "Test:  <_io.BufferedReader name='LSTM_Data_60Sparse_Test\\\\XY_arrays_60Sparse_LSTM_Test_6.npy'> (196119, 60, 7)\n",
      "Test:  <_io.BufferedReader name='LSTM_Data_60Sparse_Test\\\\XY_arrays_60Sparse_LSTM_Test_60.npy'> (199593, 60, 7)\n",
      "Test:  <_io.BufferedReader name='LSTM_Data_60Sparse_Test\\\\XY_arrays_60Sparse_LSTM_Test_61.npy'> (203066, 60, 7)\n",
      "Test:  <_io.BufferedReader name='LSTM_Data_60Sparse_Test\\\\XY_arrays_60Sparse_LSTM_Test_62.npy'> (206492, 60, 7)\n",
      "Test:  <_io.BufferedReader name='LSTM_Data_60Sparse_Test\\\\XY_arrays_60Sparse_LSTM_Test_63.npy'> (209995, 60, 7)\n",
      "Test:  <_io.BufferedReader name='LSTM_Data_60Sparse_Test\\\\XY_arrays_60Sparse_LSTM_Test_64.npy'> (213407, 60, 7)\n",
      "Test:  <_io.BufferedReader name='LSTM_Data_60Sparse_Test\\\\XY_arrays_60Sparse_LSTM_Test_65.npy'> (216803, 60, 7)\n",
      "Test:  <_io.BufferedReader name='LSTM_Data_60Sparse_Test\\\\XY_arrays_60Sparse_LSTM_Test_66.npy'> (220273, 60, 7)\n",
      "Test:  <_io.BufferedReader name='LSTM_Data_60Sparse_Test\\\\XY_arrays_60Sparse_LSTM_Test_67.npy'> (223730, 60, 7)\n",
      "Test:  <_io.BufferedReader name='LSTM_Data_60Sparse_Test\\\\XY_arrays_60Sparse_LSTM_Test_68.npy'> (227185, 60, 7)\n",
      "Test:  <_io.BufferedReader name='LSTM_Data_60Sparse_Test\\\\XY_arrays_60Sparse_LSTM_Test_69.npy'> (230689, 60, 7)\n",
      "Test:  <_io.BufferedReader name='LSTM_Data_60Sparse_Test\\\\XY_arrays_60Sparse_LSTM_Test_7.npy'> (234172, 60, 7)\n",
      "Test:  <_io.BufferedReader name='LSTM_Data_60Sparse_Test\\\\XY_arrays_60Sparse_LSTM_Test_70.npy'> (237700, 60, 7)\n",
      "Test:  <_io.BufferedReader name='LSTM_Data_60Sparse_Test\\\\XY_arrays_60Sparse_LSTM_Test_71.npy'> (241199, 60, 7)\n",
      "Test:  <_io.BufferedReader name='LSTM_Data_60Sparse_Test\\\\XY_arrays_60Sparse_LSTM_Test_72.npy'> (244551, 60, 7)\n",
      "Test:  <_io.BufferedReader name='LSTM_Data_60Sparse_Test\\\\XY_arrays_60Sparse_LSTM_Test_73.npy'> (248041, 60, 7)\n",
      "Test:  <_io.BufferedReader name='LSTM_Data_60Sparse_Test\\\\XY_arrays_60Sparse_LSTM_Test_74.npy'> (251485, 60, 7)\n",
      "Test:  <_io.BufferedReader name='LSTM_Data_60Sparse_Test\\\\XY_arrays_60Sparse_LSTM_Test_75.npy'> (254824, 60, 7)\n",
      "Test:  <_io.BufferedReader name='LSTM_Data_60Sparse_Test\\\\XY_arrays_60Sparse_LSTM_Test_76.npy'> (258221, 60, 7)\n",
      "Test:  <_io.BufferedReader name='LSTM_Data_60Sparse_Test\\\\XY_arrays_60Sparse_LSTM_Test_77.npy'> (261669, 60, 7)\n",
      "Test:  <_io.BufferedReader name='LSTM_Data_60Sparse_Test\\\\XY_arrays_60Sparse_LSTM_Test_78.npy'> (265141, 60, 7)\n",
      "Test:  <_io.BufferedReader name='LSTM_Data_60Sparse_Test\\\\XY_arrays_60Sparse_LSTM_Test_79.npy'> (268520, 60, 7)\n",
      "Test:  <_io.BufferedReader name='LSTM_Data_60Sparse_Test\\\\XY_arrays_60Sparse_LSTM_Test_8.npy'> (272006, 60, 7)\n",
      "Test:  <_io.BufferedReader name='LSTM_Data_60Sparse_Test\\\\XY_arrays_60Sparse_LSTM_Test_80.npy'> (275490, 60, 7)\n",
      "Test:  <_io.BufferedReader name='LSTM_Data_60Sparse_Test\\\\XY_arrays_60Sparse_LSTM_Test_81.npy'> (278998, 60, 7)\n",
      "Test:  <_io.BufferedReader name='LSTM_Data_60Sparse_Test\\\\XY_arrays_60Sparse_LSTM_Test_82.npy'> (282360, 60, 7)\n",
      "Test:  <_io.BufferedReader name='LSTM_Data_60Sparse_Test\\\\XY_arrays_60Sparse_LSTM_Test_83.npy'> (285764, 60, 7)\n",
      "Test:  <_io.BufferedReader name='LSTM_Data_60Sparse_Test\\\\XY_arrays_60Sparse_LSTM_Test_84.npy'> (289213, 60, 7)\n",
      "Test:  <_io.BufferedReader name='LSTM_Data_60Sparse_Test\\\\XY_arrays_60Sparse_LSTM_Test_85.npy'> (292550, 60, 7)\n",
      "Test:  <_io.BufferedReader name='LSTM_Data_60Sparse_Test\\\\XY_arrays_60Sparse_LSTM_Test_86.npy'> (295980, 60, 7)\n",
      "Test:  <_io.BufferedReader name='LSTM_Data_60Sparse_Test\\\\XY_arrays_60Sparse_LSTM_Test_87.npy'> (299334, 60, 7)\n",
      "Test:  <_io.BufferedReader name='LSTM_Data_60Sparse_Test\\\\XY_arrays_60Sparse_LSTM_Test_9.npy'> (302676, 60, 7)\n",
      "Test:  <_io.BufferedReader name='LSTM_Data_60Sparse_Test\\\\XY_arrays_60Sparse_LSTM_Test_last.npy'> (302794, 60, 7)\n"
     ]
    }
   ],
   "source": [
    "#Compile test data:\n",
    "X_test = np.empty([0, n_input, n_features])\n",
    "y_test = np.empty([0,2])\n",
    "path = 'LSTM_Data_60Sparse_Test'\n",
    "filecount = len(os.listdir(path))\n",
    "for filename in os.listdir(path):\n",
    "    filecount = filecount-1\n",
    "    p = os.path.join(path, filename)\n",
    "    with open(p, 'rb') as f: #Saves two arrays in same file, arrays can be opened separately or together.\n",
    "        X_load = np.load(f)\n",
    "        y_load = np.load(f)\n",
    "    X_test = np.vstack([X_test, X_load]) #Append your arrays\n",
    "    y_test = np.concatenate([y_test, y_load])\n",
    "    print(\"Test: \", f, X_test.shape)"
   ],
   "metadata": {
    "collapsed": false,
    "pycharm": {
     "name": "#%%\n"
    }
   }
  },
  {
   "cell_type": "code",
   "execution_count": 67,
   "outputs": [
    {
     "name": "stdout",
     "output_type": "stream",
     "text": [
      "(302794, 60, 7)\n",
      "(302794, 2)\n"
     ]
    }
   ],
   "source": [
    "print(X_test.shape)\n",
    "print(y_test.shape)"
   ],
   "metadata": {
    "collapsed": false,
    "pycharm": {
     "name": "#%%\n"
    }
   }
  },
  {
   "cell_type": "code",
   "execution_count": 68,
   "outputs": [
    {
     "name": "stdout",
     "output_type": "stream",
     "text": [
      "606/606 [==============================] - 45s 73ms/step\n"
     ]
    }
   ],
   "source": [
    "y_pred = model.predict(X_test, batch_size=batch_size, callbacks=callbacks_list, verbose=1)"
   ],
   "metadata": {
    "collapsed": false,
    "pycharm": {
     "name": "#%%\n"
    }
   }
  },
  {
   "cell_type": "code",
   "execution_count": 77,
   "outputs": [
    {
     "name": "stdout",
     "output_type": "stream",
     "text": [
      "(302794, 2)\n",
      "[[0.23307545 0.4318809 ]\n",
      " [0.2775002  0.4064901 ]\n",
      " [0.15507063 0.21285887]\n",
      " [0.32374465 0.4366291 ]\n",
      " [0.41131687 0.22793666]]\n",
      "[[0.28613892 0.22324183]\n",
      " [0.30487439 0.22310174]\n",
      " [0.14736087 0.22358704]\n",
      " [0.30502508 0.22355998]\n",
      " [0.3660039  0.22322477]]\n"
     ]
    }
   ],
   "source": [
    "print(y_pred.shape)\n",
    "print(y_pred[0:5,])\n",
    "print(y_test[0:5]) #is Density then VOD:"
   ],
   "metadata": {
    "collapsed": false,
    "pycharm": {
     "name": "#%%\n"
    }
   }
  },
  {
   "cell_type": "code",
   "execution_count": 80,
   "outputs": [
    {
     "name": "stdout",
     "output_type": "stream",
     "text": [
      "Snow Density Performance: \n",
      "MAE:  0.06776746113589963\n",
      "MSE:  0.009728605803439918\n",
      "RMSE:  0.09863369507141015\n",
      "R2:  0.5597049632701769\n"
     ]
    }
   ],
   "source": [
    "#Snow density:\n",
    "mae = skm.mean_absolute_error(y_test[:,0], y_pred[:,0])\n",
    "mse = skm.mean_squared_error(y_test[:,0], y_pred[:,0])\n",
    "rmse = skm.mean_squared_error(y_test[:,0], y_pred[:,0], squared = False)\n",
    "r2 = skm.r2_score(y_test[:,0], y_pred[:,0])\n",
    "print(\"Snow Density Performance: \")\n",
    "print(\"MAE: \", mae)\n",
    "print(\"MSE: \", mse)\n",
    "print(\"RMSE: \", rmse)\n",
    "print(\"R2: \", r2)\n"
   ],
   "metadata": {
    "collapsed": false,
    "pycharm": {
     "name": "#%%\n"
    }
   }
  },
  {
   "cell_type": "code",
   "execution_count": 81,
   "outputs": [
    {
     "name": "stdout",
     "output_type": "stream",
     "text": [
      "VOD Performance: \n",
      "MAE:  0.08803249813027872\n",
      "MSE:  0.025105152039051885\n",
      "RMSE:  0.1584460540343365\n",
      "R2:  0.30884914547654385\n"
     ]
    }
   ],
   "source": [
    "#Snow density:\n",
    "mae2 = skm.mean_absolute_error(y_test[:,1], y_pred[:,1])\n",
    "mse2 = skm.mean_squared_error(y_test[:,1], y_pred[:,1])\n",
    "rmse2 = skm.mean_squared_error(y_test[:,1], y_pred[:,1], squared = False)\n",
    "r22 = skm.r2_score(y_test[:,1], y_pred[:,1])\n",
    "print(\"VOD Performance: \")\n",
    "print(\"MAE: \", mae2)\n",
    "print(\"MSE: \", mse2)\n",
    "print(\"RMSE: \", rmse2)\n",
    "print(\"R2: \", r22)"
   ],
   "metadata": {
    "collapsed": false,
    "pycharm": {
     "name": "#%%\n"
    }
   }
  },
  {
   "cell_type": "markdown",
   "source": [
    "## Unscaling results"
   ],
   "metadata": {
    "collapsed": false,
    "pycharm": {
     "name": "#%% md\n"
    }
   }
  },
  {
   "cell_type": "code",
   "execution_count": 100,
   "outputs": [
    {
     "data": {
      "text/plain": "array([[0.16662979, 0.24016423],\n       [0.17686891, 0.22891788],\n       [0.18052546, 0.2422458 ],\n       ...,\n       [0.25501974, 0.08590267],\n       [0.2623392 , 0.0891739 ],\n       [0.26668053, 0.0891739 ]])"
     },
     "execution_count": 100,
     "metadata": {},
     "output_type": "execute_result"
    }
   ],
   "source": [
    "#DataPrep: Scaling\n",
    "data = pd.read_parquet('processed_data_with_datetime.parquet')\n",
    "scaler = MinMaxScaler()\n",
    "data_scaled = data[['density', 'voc']] #We want lat, lon and date unscaled, as these will be used for sorting, not training.\n",
    "data_scaled = scaler.fit_transform(data_scaled)\n",
    "data_scaled"
   ],
   "metadata": {
    "collapsed": false,
    "pycharm": {
     "name": "#%%\n"
    }
   }
  },
  {
   "cell_type": "code",
   "execution_count": 101,
   "outputs": [
    {
     "data": {
      "text/plain": "array([[2.00148606e+02, 3.34834448e-01],\n       [2.06706021e+02, 3.34624320e-01],\n       [1.51576290e+02, 3.35352222e-01],\n       ...,\n       [1.51203990e+02, 2.34826122e-01],\n       [2.39833129e+02, 2.35251186e-01],\n       [1.49249027e+02, 3.04576535e-02]])"
     },
     "execution_count": 101,
     "metadata": {},
     "output_type": "execute_result"
    }
   ],
   "source": [
    "y_test_unscaled = scaler.inverse_transform(y_test)\n",
    "y_test_unscaled"
   ],
   "metadata": {
    "collapsed": false,
    "pycharm": {
     "name": "#%%\n"
    }
   }
  },
  {
   "cell_type": "code",
   "execution_count": 102,
   "outputs": [
    {
     "data": {
      "text/plain": "array([[1.8157640e+02, 6.4776659e-01],\n       [1.9712506e+02, 6.0968357e-01],\n       [1.5427470e+02, 3.1926131e-01],\n       ...,\n       [1.5607784e+02, 2.7125862e-01],\n       [2.2930032e+02, 1.9054066e-01],\n       [1.8682938e+02, 1.2644555e-01]], dtype=float32)"
     },
     "execution_count": 102,
     "metadata": {},
     "output_type": "execute_result"
    }
   ],
   "source": [
    "y_pred_unscaled = scaler.inverse_transform(y_pred)\n",
    "y_pred_unscaled"
   ],
   "metadata": {
    "collapsed": false,
    "pycharm": {
     "name": "#%%\n"
    }
   }
  },
  {
   "cell_type": "code",
   "execution_count": 103,
   "outputs": [
    {
     "name": "stdout",
     "output_type": "stream",
     "text": [
      "Snow Density Performance: \n",
      "MAE:  23.718610978952434\n",
      "MSE:  1191.754187683344\n",
      "RMSE:  34.521792938422884\n",
      "R2:  0.5597049718555008\n",
      "VOD Performance: \n",
      "MAE:  0.1320375867482831\n",
      "MSE:  0.05647704427997352\n",
      "RMSE:  0.23764899385432608\n",
      "R2:  0.30884914539383856\n"
     ]
    }
   ],
   "source": [
    "#Snow density:\n",
    "mae = skm.mean_absolute_error(y_test_unscaled[:, 0], y_pred_unscaled[:, 0])\n",
    "mse = skm.mean_squared_error(y_test_unscaled[:, 0], y_pred_unscaled[:, 0])\n",
    "rmse = skm.mean_squared_error(y_test_unscaled[:, 0], y_pred_unscaled[:, 0], squared=False)\n",
    "r2 = skm.r2_score(y_test_unscaled[:, 0], y_pred_unscaled[:, 0])\n",
    "print(\"Snow Density Performance: \")\n",
    "print(\"MAE: \", mae)\n",
    "print(\"MSE: \", mse)\n",
    "print(\"RMSE: \", rmse)\n",
    "print(\"R2: \", r2)\n",
    "\n",
    "#VOD:\n",
    "mae2 = skm.mean_absolute_error(y_test_unscaled[:, 1], y_pred_unscaled[:, 1])\n",
    "mse2 = skm.mean_squared_error(y_test_unscaled[:, 1], y_pred_unscaled[:, 1])\n",
    "rmse2 = skm.mean_squared_error(y_test_unscaled[:, 1], y_pred_unscaled[:, 1], squared=False)\n",
    "r22 = skm.r2_score(y_test_unscaled[:, 1], y_pred_unscaled[:, 1])\n",
    "print(\"VOD Performance: \")\n",
    "print(\"MAE: \", mae2)\n",
    "print(\"MSE: \", mse2)\n",
    "print(\"RMSE: \", rmse2)\n",
    "print(\"R2: \", r22)"
   ],
   "metadata": {
    "collapsed": false,
    "pycharm": {
     "name": "#%%\n"
    }
   }
  },
  {
   "cell_type": "markdown",
   "source": [
    "## Training 80 Sparse"
   ],
   "metadata": {
    "collapsed": false,
    "pycharm": {
     "name": "#%% md\n"
    }
   }
  },
  {
   "cell_type": "code",
   "execution_count": 126,
   "outputs": [
    {
     "name": "stdout",
     "output_type": "stream",
     "text": [
      "(220426, 80, 7)\n",
      "(220426, 2)\n",
      "(53072, 80, 7)\n",
      "(53072, 2)\n"
     ]
    }
   ],
   "source": [
    "print(X_train.shape)  #(4352938, 60, 7), (3508883, 60, 7), (407693, 60, 7), 80: (220426, 80, 7)\n",
    "print(y_train.shape)\n",
    "print(X_val.shape)\n",
    "print(y_val.shape)\n",
    "\n",
    "batch_size = 500\n",
    "\n",
    "callbacks_list = [\n",
    "    tf.keras.callbacks.EarlyStopping(\n",
    "        monitor=\"val_loss\",\n",
    "        patience=3\n",
    "    ),\n",
    "    tf.keras.callbacks.ModelCheckpoint(\n",
    "        filepath=\"ModelCheckpoints80/model.{epoch:02d}-{val_loss:.2f}.h5\",\n",
    "        monitor=\"val_loss\",\n",
    "        mode=\"min\",\n",
    "        save_best_only=True,\n",
    "    )\n",
    "]"
   ],
   "metadata": {
    "collapsed": false,
    "pycharm": {
     "name": "#%%\n"
    }
   }
  },
  {
   "cell_type": "code",
   "execution_count": 127,
   "outputs": [
    {
     "name": "stdout",
     "output_type": "stream",
     "text": [
      "Model: \"sequential_2\"\n",
      "_________________________________________________________________\n",
      " Layer (type)                Output Shape              Param #   \n",
      "=================================================================\n",
      " lstm_4 (LSTM)               (None, 80, 60)            16320     \n",
      "                                                                 \n",
      " dropout_4 (Dropout)         (None, 80, 60)            0         \n",
      "                                                                 \n",
      " lstm_5 (LSTM)               (None, 60)                29040     \n",
      "                                                                 \n",
      " dropout_5 (Dropout)         (None, 60)                0         \n",
      "                                                                 \n",
      " dense_2 (Dense)             (None, 2)                 122       \n",
      "                                                                 \n",
      "=================================================================\n",
      "Total params: 45,482\n",
      "Trainable params: 45,482\n",
      "Non-trainable params: 0\n",
      "_________________________________________________________________\n"
     ]
    }
   ],
   "source": [
    "model2 = model_lstm()\n",
    "model2.summary()"
   ],
   "metadata": {
    "collapsed": false,
    "pycharm": {
     "name": "#%%\n"
    }
   }
  },
  {
   "cell_type": "code",
   "execution_count": 128,
   "outputs": [
    {
     "name": "stdout",
     "output_type": "stream",
     "text": [
      "Time:  18:17:37\n",
      "Epoch 1/20\n",
      "441/441 [==============================] - 386s 870ms/step - loss: 0.0217 - val_loss: 0.0199\n",
      "Epoch 2/20\n",
      "441/441 [==============================] - 380s 863ms/step - loss: 0.0173 - val_loss: 0.0149\n",
      "Epoch 3/20\n",
      "441/441 [==============================] - 381s 864ms/step - loss: 0.0158 - val_loss: 0.0143\n",
      "Epoch 4/20\n",
      "441/441 [==============================] - 363s 824ms/step - loss: 0.0147 - val_loss: 0.0137\n",
      "Epoch 5/20\n",
      "441/441 [==============================] - 376s 854ms/step - loss: 0.0140 - val_loss: 0.0126\n",
      "Epoch 6/20\n",
      "441/441 [==============================] - 376s 852ms/step - loss: 0.0138 - val_loss: 0.0121\n",
      "Epoch 7/20\n",
      "441/441 [==============================] - 385s 873ms/step - loss: 0.0132 - val_loss: 0.0140\n",
      "Epoch 8/20\n",
      "441/441 [==============================] - 390s 883ms/step - loss: 0.0128 - val_loss: 0.0136\n",
      "Epoch 9/20\n",
      "441/441 [==============================] - 379s 859ms/step - loss: 0.0127 - val_loss: 0.0115\n",
      "Epoch 10/20\n",
      "441/441 [==============================] - 383s 868ms/step - loss: 0.0121 - val_loss: 0.0128\n",
      "Epoch 11/20\n",
      "441/441 [==============================] - 387s 878ms/step - loss: 0.0116 - val_loss: 0.0106\n",
      "Epoch 12/20\n",
      "441/441 [==============================] - 387s 877ms/step - loss: 0.0114 - val_loss: 0.0103\n",
      "Epoch 13/20\n",
      "441/441 [==============================] - 388s 880ms/step - loss: 0.0114 - val_loss: 0.0102\n",
      "Epoch 14/20\n",
      "441/441 [==============================] - 379s 859ms/step - loss: 0.0110 - val_loss: 0.0099\n",
      "Epoch 15/20\n",
      "441/441 [==============================] - 383s 868ms/step - loss: 0.0109 - val_loss: 0.0101\n",
      "Epoch 16/20\n",
      "441/441 [==============================] - 382s 867ms/step - loss: 0.0108 - val_loss: 0.0099\n",
      "Epoch 17/20\n",
      "441/441 [==============================] - 377s 856ms/step - loss: 0.0106 - val_loss: 0.0098\n",
      "Epoch 18/20\n",
      "441/441 [==============================] - 382s 866ms/step - loss: 0.0105 - val_loss: 0.0095\n",
      "Epoch 19/20\n",
      "441/441 [==============================] - 387s 877ms/step - loss: 0.0103 - val_loss: 0.0098\n",
      "Epoch 20/20\n",
      "441/441 [==============================] - 405s 919ms/step - loss: 0.0103 - val_loss: 0.0094\n",
      "Time:  20:25:13\n"
     ]
    }
   ],
   "source": [
    "print(\"Time: \", time.strftime(\"%H:%M:%S\", time.localtime()))\n",
    "\n",
    "history_retrieval2 = model2.fit(X_train, y_train, epochs=20, validation_data=(X_val, y_val),\n",
    "                              batch_size=batch_size, callbacks=callbacks_list, verbose=1)\n",
    "\n",
    "print(\"Time: \", time.strftime(\"%H:%M:%S\", time.localtime()))"
   ],
   "metadata": {
    "collapsed": false,
    "pycharm": {
     "name": "#%%\n"
    }
   }
  },
  {
   "cell_type": "code",
   "execution_count": 129,
   "outputs": [
    {
     "data": {
      "text/plain": "[<matplotlib.lines.Line2D at 0x23f58e8dfa0>]"
     },
     "execution_count": 129,
     "metadata": {},
     "output_type": "execute_result"
    },
    {
     "data": {
      "text/plain": "<Figure size 640x480 with 1 Axes>",
      "image/png": "[encoded data removed]"
     },
     "metadata": {},
     "output_type": "display_data"
    }
   ],
   "source": [
    "loss_per_epoch = model2.history.history['loss']\n",
    "plt.plot(range(len(loss_per_epoch)), loss_per_epoch)"
   ],
   "metadata": {
    "collapsed": false,
    "pycharm": {
     "name": "#%%\n"
    }
   }
  },
  {
   "cell_type": "code",
   "execution_count": 130,
   "outputs": [],
   "source": [
    "model2.save('ModelCheckpoints80/model80sparse_final.h5')"
   ],
   "metadata": {
    "collapsed": false,
    "pycharm": {
     "name": "#%%\n"
    }
   }
  },
  {
   "cell_type": "code",
   "execution_count": 131,
   "outputs": [
    {
     "name": "stdout",
     "output_type": "stream",
     "text": [
      "441/441 [==============================] - 83s 188ms/step - loss: 0.0098\n"
     ]
    },
    {
     "data": {
      "text/plain": "0.00978927593678236"
     },
     "execution_count": 131,
     "metadata": {},
     "output_type": "execute_result"
    }
   ],
   "source": [
    "model2.evaluate(X_train, y_train, batch_size=batch_size, callbacks=callbacks_list, verbose=1)"
   ],
   "metadata": {
    "collapsed": false,
    "pycharm": {
     "name": "#%%\n"
    }
   }
  },
  {
   "cell_type": "code",
   "execution_count": 132,
   "outputs": [
    {
     "name": "stdout",
     "output_type": "stream",
     "text": [
      "107/107 [==============================] - 21s 194ms/step - loss: 0.0094\n"
     ]
    },
    {
     "data": {
      "text/plain": "0.009396200999617577"
     },
     "execution_count": 132,
     "metadata": {},
     "output_type": "execute_result"
    }
   ],
   "source": [
    "model2.evaluate(X_val, y_val, batch_size=batch_size, callbacks=callbacks_list, verbose=1)"
   ],
   "metadata": {
    "collapsed": false,
    "pycharm": {
     "name": "#%%\n"
    }
   }
  },
  {
   "cell_type": "code",
   "execution_count": 134,
   "outputs": [
    {
     "name": "stdout",
     "output_type": "stream",
     "text": [
      "Test:  <_io.BufferedReader name='LSTM_Data_80Sparse_Test\\\\XY_arrays_80Sparse_LSTM_Test_0.npy'> (2850, 80, 7)\n",
      "Test:  <_io.BufferedReader name='LSTM_Data_80Sparse_Test\\\\XY_arrays_80Sparse_LSTM_Test_1.npy'> (5722, 80, 7)\n",
      "Test:  <_io.BufferedReader name='LSTM_Data_80Sparse_Test\\\\XY_arrays_80Sparse_LSTM_Test_10.npy'> (8552, 80, 7)\n",
      "Test:  <_io.BufferedReader name='LSTM_Data_80Sparse_Test\\\\XY_arrays_80Sparse_LSTM_Test_11.npy'> (11412, 80, 7)\n",
      "Test:  <_io.BufferedReader name='LSTM_Data_80Sparse_Test\\\\XY_arrays_80Sparse_LSTM_Test_12.npy'> (14182, 80, 7)\n",
      "Test:  <_io.BufferedReader name='LSTM_Data_80Sparse_Test\\\\XY_arrays_80Sparse_LSTM_Test_13.npy'> (17087, 80, 7)\n",
      "Test:  <_io.BufferedReader name='LSTM_Data_80Sparse_Test\\\\XY_arrays_80Sparse_LSTM_Test_14.npy'> (19873, 80, 7)\n",
      "Test:  <_io.BufferedReader name='LSTM_Data_80Sparse_Test\\\\XY_arrays_80Sparse_LSTM_Test_15.npy'> (22815, 80, 7)\n",
      "Test:  <_io.BufferedReader name='LSTM_Data_80Sparse_Test\\\\XY_arrays_80Sparse_LSTM_Test_16.npy'> (25684, 80, 7)\n",
      "Test:  <_io.BufferedReader name='LSTM_Data_80Sparse_Test\\\\XY_arrays_80Sparse_LSTM_Test_17.npy'> (28538, 80, 7)\n",
      "Test:  <_io.BufferedReader name='LSTM_Data_80Sparse_Test\\\\XY_arrays_80Sparse_LSTM_Test_18.npy'> (31424, 80, 7)\n",
      "Test:  <_io.BufferedReader name='LSTM_Data_80Sparse_Test\\\\XY_arrays_80Sparse_LSTM_Test_19.npy'> (34401, 80, 7)\n",
      "Test:  <_io.BufferedReader name='LSTM_Data_80Sparse_Test\\\\XY_arrays_80Sparse_LSTM_Test_2.npy'> (37272, 80, 7)\n",
      "Test:  <_io.BufferedReader name='LSTM_Data_80Sparse_Test\\\\XY_arrays_80Sparse_LSTM_Test_20.npy'> (40068, 80, 7)\n",
      "Test:  <_io.BufferedReader name='LSTM_Data_80Sparse_Test\\\\XY_arrays_80Sparse_LSTM_Test_21.npy'> (42993, 80, 7)\n",
      "Test:  <_io.BufferedReader name='LSTM_Data_80Sparse_Test\\\\XY_arrays_80Sparse_LSTM_Test_22.npy'> (45858, 80, 7)\n",
      "Test:  <_io.BufferedReader name='LSTM_Data_80Sparse_Test\\\\XY_arrays_80Sparse_LSTM_Test_23.npy'> (48707, 80, 7)\n",
      "Test:  <_io.BufferedReader name='LSTM_Data_80Sparse_Test\\\\XY_arrays_80Sparse_LSTM_Test_24.npy'> (51550, 80, 7)\n",
      "Test:  <_io.BufferedReader name='LSTM_Data_80Sparse_Test\\\\XY_arrays_80Sparse_LSTM_Test_25.npy'> (54451, 80, 7)\n",
      "Test:  <_io.BufferedReader name='LSTM_Data_80Sparse_Test\\\\XY_arrays_80Sparse_LSTM_Test_26.npy'> (57274, 80, 7)\n",
      "Test:  <_io.BufferedReader name='LSTM_Data_80Sparse_Test\\\\XY_arrays_80Sparse_LSTM_Test_27.npy'> (60170, 80, 7)\n",
      "Test:  <_io.BufferedReader name='LSTM_Data_80Sparse_Test\\\\XY_arrays_80Sparse_LSTM_Test_28.npy'> (63006, 80, 7)\n",
      "Test:  <_io.BufferedReader name='LSTM_Data_80Sparse_Test\\\\XY_arrays_80Sparse_LSTM_Test_29.npy'> (65883, 80, 7)\n",
      "Test:  <_io.BufferedReader name='LSTM_Data_80Sparse_Test\\\\XY_arrays_80Sparse_LSTM_Test_3.npy'> (68762, 80, 7)\n",
      "Test:  <_io.BufferedReader name='LSTM_Data_80Sparse_Test\\\\XY_arrays_80Sparse_LSTM_Test_30.npy'> (71613, 80, 7)\n",
      "Test:  <_io.BufferedReader name='LSTM_Data_80Sparse_Test\\\\XY_arrays_80Sparse_LSTM_Test_31.npy'> (74432, 80, 7)\n",
      "Test:  <_io.BufferedReader name='LSTM_Data_80Sparse_Test\\\\XY_arrays_80Sparse_LSTM_Test_32.npy'> (77344, 80, 7)\n",
      "Test:  <_io.BufferedReader name='LSTM_Data_80Sparse_Test\\\\XY_arrays_80Sparse_LSTM_Test_33.npy'> (80150, 80, 7)\n",
      "Test:  <_io.BufferedReader name='LSTM_Data_80Sparse_Test\\\\XY_arrays_80Sparse_LSTM_Test_34.npy'> (83012, 80, 7)\n",
      "Test:  <_io.BufferedReader name='LSTM_Data_80Sparse_Test\\\\XY_arrays_80Sparse_LSTM_Test_35.npy'> (85842, 80, 7)\n",
      "Test:  <_io.BufferedReader name='LSTM_Data_80Sparse_Test\\\\XY_arrays_80Sparse_LSTM_Test_36.npy'> (88645, 80, 7)\n",
      "Test:  <_io.BufferedReader name='LSTM_Data_80Sparse_Test\\\\XY_arrays_80Sparse_LSTM_Test_37.npy'> (91474, 80, 7)\n",
      "Test:  <_io.BufferedReader name='LSTM_Data_80Sparse_Test\\\\XY_arrays_80Sparse_LSTM_Test_38.npy'> (94417, 80, 7)\n",
      "Test:  <_io.BufferedReader name='LSTM_Data_80Sparse_Test\\\\XY_arrays_80Sparse_LSTM_Test_39.npy'> (97269, 80, 7)\n",
      "Test:  <_io.BufferedReader name='LSTM_Data_80Sparse_Test\\\\XY_arrays_80Sparse_LSTM_Test_4.npy'> (100093, 80, 7)\n",
      "Test:  <_io.BufferedReader name='LSTM_Data_80Sparse_Test\\\\XY_arrays_80Sparse_LSTM_Test_40.npy'> (103018, 80, 7)\n",
      "Test:  <_io.BufferedReader name='LSTM_Data_80Sparse_Test\\\\XY_arrays_80Sparse_LSTM_Test_41.npy'> (105874, 80, 7)\n",
      "Test:  <_io.BufferedReader name='LSTM_Data_80Sparse_Test\\\\XY_arrays_80Sparse_LSTM_Test_42.npy'> (108848, 80, 7)\n",
      "Test:  <_io.BufferedReader name='LSTM_Data_80Sparse_Test\\\\XY_arrays_80Sparse_LSTM_Test_43.npy'> (111654, 80, 7)\n",
      "Test:  <_io.BufferedReader name='LSTM_Data_80Sparse_Test\\\\XY_arrays_80Sparse_LSTM_Test_44.npy'> (114556, 80, 7)\n",
      "Test:  <_io.BufferedReader name='LSTM_Data_80Sparse_Test\\\\XY_arrays_80Sparse_LSTM_Test_45.npy'> (117351, 80, 7)\n",
      "Test:  <_io.BufferedReader name='LSTM_Data_80Sparse_Test\\\\XY_arrays_80Sparse_LSTM_Test_46.npy'> (120162, 80, 7)\n",
      "Test:  <_io.BufferedReader name='LSTM_Data_80Sparse_Test\\\\XY_arrays_80Sparse_LSTM_Test_47.npy'> (123002, 80, 7)\n",
      "Test:  <_io.BufferedReader name='LSTM_Data_80Sparse_Test\\\\XY_arrays_80Sparse_LSTM_Test_48.npy'> (125922, 80, 7)\n",
      "Test:  <_io.BufferedReader name='LSTM_Data_80Sparse_Test\\\\XY_arrays_80Sparse_LSTM_Test_5.npy'> (128757, 80, 7)\n",
      "Test:  <_io.BufferedReader name='LSTM_Data_80Sparse_Test\\\\XY_arrays_80Sparse_LSTM_Test_6.npy'> (131641, 80, 7)\n",
      "Test:  <_io.BufferedReader name='LSTM_Data_80Sparse_Test\\\\XY_arrays_80Sparse_LSTM_Test_7.npy'> (134524, 80, 7)\n",
      "Test:  <_io.BufferedReader name='LSTM_Data_80Sparse_Test\\\\XY_arrays_80Sparse_LSTM_Test_8.npy'> (137324, 80, 7)\n",
      "Test:  <_io.BufferedReader name='LSTM_Data_80Sparse_Test\\\\XY_arrays_80Sparse_LSTM_Test_9.npy'> (140223, 80, 7)\n",
      "Test:  <_io.BufferedReader name='LSTM_Data_80Sparse_Test\\\\XY_arrays_80Sparse_LSTM_Test_last.npy'> (142225, 80, 7)\n"
     ]
    }
   ],
   "source": [
    "X_test = np.empty([0, n_input, n_features])\n",
    "y_test = np.empty([0,2])\n",
    "path = 'LSTM_Data_80Sparse_Test'\n",
    "X_test, y_test = assemble_test(X_test, y_test, path)"
   ],
   "metadata": {
    "collapsed": false,
    "pycharm": {
     "name": "#%%\n"
    }
   }
  },
  {
   "cell_type": "code",
   "execution_count": 135,
   "outputs": [
    {
     "name": "stdout",
     "output_type": "stream",
     "text": [
      "(142225, 80, 7)\n",
      "(142225, 2)\n"
     ]
    }
   ],
   "source": [
    "print(X_test.shape)\n",
    "print(y_test.shape)"
   ],
   "metadata": {
    "collapsed": false,
    "pycharm": {
     "name": "#%%\n"
    }
   }
  },
  {
   "cell_type": "code",
   "execution_count": 137,
   "outputs": [
    {
     "name": "stdout",
     "output_type": "stream",
     "text": [
      "285/285 [==============================] - 56s 193ms/step\n"
     ]
    }
   ],
   "source": [
    "y_pred = model2.predict(X_test, batch_size=batch_size, callbacks=callbacks_list, verbose=1)"
   ],
   "metadata": {
    "collapsed": false,
    "pycharm": {
     "name": "#%%\n"
    }
   }
  },
  {
   "cell_type": "code",
   "execution_count": 139,
   "outputs": [
    {
     "data": {
      "text/plain": "array([[1.8332982e+02, 1.6236126e-01],\n       [2.4451628e+02, 2.1423501e-01],\n       [2.0108072e+02, 1.6824916e-01],\n       ...,\n       [1.5654552e+02, 4.5745993e-01],\n       [1.9972498e+02, 5.1051116e-01],\n       [2.2410820e+02, 4.8677689e-01]], dtype=float32)"
     },
     "execution_count": 139,
     "metadata": {},
     "output_type": "execute_result"
    }
   ],
   "source": [
    "y_test_unscaled = scaler.inverse_transform(y_test)\n",
    "y_test_unscaled\n",
    "\n",
    "y_pred_unscaled = scaler.inverse_transform(y_pred)\n",
    "y_pred_unscaled"
   ],
   "metadata": {
    "collapsed": false,
    "pycharm": {
     "name": "#%%\n"
    }
   }
  },
  {
   "cell_type": "code",
   "execution_count": 138,
   "outputs": [
    {
     "name": "stdout",
     "output_type": "stream",
     "text": [
      "Metrics for 80 sparse, scaled:\n",
      "Snow Density Performance: \n",
      "MAE:  0.06368325221758922\n",
      "MSE:  0.009844589015032493\n",
      "RMSE:  0.09921990231315739\n",
      "R2:  0.6366401227278846\n",
      "VOD Performance: \n",
      "MAE:  0.0704987100757687\n",
      "MSE:  0.016163048150139425\n",
      "RMSE:  0.12713397716637131\n",
      "R2:  0.31666451781676475\n"
     ]
    },
    {
     "data": {
      "text/plain": "(0.06368325221758922,\n 0.009844589015032493,\n 0.09921990231315739,\n 0.6366401227278846,\n 0.0704987100757687,\n 0.016163048150139425,\n 0.12713397716637131,\n 0.31666451781676475)"
     },
     "execution_count": 138,
     "metadata": {},
     "output_type": "execute_result"
    }
   ],
   "source": [
    "print(\"Metrics for 80 sparse, scaled:\")\n",
    "get_metrics(y_test, y_pred)"
   ],
   "metadata": {
    "collapsed": false,
    "pycharm": {
     "name": "#%%\n"
    }
   }
  },
  {
   "cell_type": "code",
   "execution_count": 140,
   "outputs": [
    {
     "name": "stdout",
     "output_type": "stream",
     "text": [
      "Metrics for 80 sparse, unscaled:\n",
      "Snow Density Performance: \n",
      "MAE:  22.289138023393658\n",
      "MSE:  1205.9621534868168\n",
      "RMSE:  34.726965797299606\n",
      "R2:  0.636640122985397\n",
      "VOD Performance: \n",
      "MAE:  0.10573912753212986\n",
      "MSE:  0.036360711321544385\n",
      "RMSE:  0.19068484816981235\n",
      "R2:  0.3166645178093449\n"
     ]
    },
    {
     "data": {
      "text/plain": "(22.289138023393658,\n 1205.9621534868168,\n 34.726965797299606,\n 0.636640122985397,\n 0.10573912753212986,\n 0.036360711321544385,\n 0.19068484816981235,\n 0.3166645178093449)"
     },
     "execution_count": 140,
     "metadata": {},
     "output_type": "execute_result"
    }
   ],
   "source": [
    "print(\"Metrics for 80 sparse, unscaled:\")\n",
    "get_metrics(y_test_unscaled, y_pred_unscaled)"
   ],
   "metadata": {
    "collapsed": false,
    "pycharm": {
     "name": "#%%\n"
    }
   }
  },
  {
   "cell_type": "markdown",
   "source": [
    "## Data Prep Sparse 30 Train"
   ],
   "metadata": {
    "collapsed": false,
    "pycharm": {
     "name": "#%% md\n"
    }
   }
  },
  {
   "cell_type": "code",
   "execution_count": 153,
   "outputs": [
    {
     "name": "stdout",
     "output_type": "stream",
     "text": [
      "Length of df of unique latlon paris that meet cutoff:  215553\n",
      "Counter:  30000 , Shape X:  (48892, 30, 7) 2022-12-20 21:12:33\n",
      "Wipeout:  2\n",
      "Counter:  40000 , Shape X:  (49102, 30, 7) 2022-12-20 21:20:47\n",
      "Wipeout:  3\n",
      "Counter:  50000 , Shape X:  (48974, 30, 7) 2022-12-20 21:29:03\n",
      "Wipeout:  4\n",
      "Counter:  60000 , Shape X:  (49356, 30, 7) 2022-12-20 21:37:01\n",
      "Wipeout:  5\n",
      "Counter:  70000 , Shape X:  (49228, 30, 7) 2022-12-20 21:45:10\n",
      "Wipeout:  6\n",
      "Counter:  80000 , Shape X:  (48560, 30, 7) 2022-12-20 21:53:17\n",
      "Wipeout:  7\n",
      "Counter:  90000 , Shape X:  (48654, 30, 7) 2022-12-20 22:01:30\n",
      "Wipeout:  8\n",
      "Counter:  100000 , Shape X:  (48670, 30, 7) 2022-12-20 22:09:40\n",
      "Wipeout:  9\n",
      "Counter:  110000 , Shape X:  (49140, 30, 7) 2022-12-20 22:17:49\n",
      "Wipeout:  10\n",
      "Counter:  120000 , Shape X:  (49625, 30, 7) 2022-12-20 22:26:08\n",
      "Wipeout:  11\n",
      "Counter:  130000 , Shape X:  (48327, 30, 7) 2022-12-20 22:34:34\n",
      "Wipeout:  12\n",
      "Counter:  140000 , Shape X:  (48650, 30, 7) 2022-12-20 22:43:02\n",
      "Wipeout:  13\n",
      "Counter:  150000 , Shape X:  (48753, 30, 7) 2022-12-20 22:51:51\n",
      "Wipeout:  14\n",
      "Counter:  160000 , Shape X:  (49271, 30, 7) 2022-12-20 23:00:13\n",
      "Wipeout:  15\n",
      "Counter:  170000 , Shape X:  (48819, 30, 7) 2022-12-20 23:08:42\n",
      "Wipeout:  16\n",
      "Counter:  180000 , Shape X:  (48865, 30, 7) 2022-12-20 23:16:46\n",
      "Wipeout:  17\n",
      "Counter:  190000 , Shape X:  (48725, 30, 7) 2022-12-20 23:25:00\n",
      "Wipeout:  18\n",
      "Counter:  200000 , Shape X:  (48835, 30, 7) 2022-12-20 23:33:04\n",
      "Wipeout:  19\n",
      "Counter:  210000 , Shape X:  (48772, 30, 7) 2022-12-20 23:41:06\n",
      "Wipeout:  20\n",
      "Save last: \n",
      "Done! And it only took from  2022-12-20 21:03:00  to  2022-12-20 23:45:16\n"
     ]
    }
   ],
   "source": [
    "n_input = 30\n",
    "n_features = 7\n",
    "latlon = latlon_setup(train, n_input)\n",
    "X = np.empty([0, n_input, n_features])\n",
    "y = np.empty([0,2])\n",
    "path = 'LSTM_Data_30Sparse_Train/XY_arrays_30Sparse_LSTM_Train_'\n",
    "counter = 20000\n",
    "savept = 2\n",
    "\n",
    "data_prep(train, latlon, path, n_input, n_features, X, y, counter, savept)"
   ],
   "metadata": {
    "collapsed": false,
    "pycharm": {
     "name": "#%%\n"
    }
   }
  },
  {
   "cell_type": "code",
   "execution_count": 155,
   "outputs": [
    {
     "name": "stdout",
     "output_type": "stream",
     "text": [
      "LSTM_Data_30Sparse_Train\\XY_arrays_30Sparse_LSTM_Train0.npy\n",
      "Train:  <_io.BufferedReader name='LSTM_Data_30Sparse_Train\\\\XY_arrays_30Sparse_LSTM_Train0.npy'>\n",
      "LSTM_Data_30Sparse_Train\\XY_arrays_30Sparse_LSTM_Train1.npy\n",
      "Train:  <_io.BufferedReader name='LSTM_Data_30Sparse_Train\\\\XY_arrays_30Sparse_LSTM_Train1.npy'>\n",
      "LSTM_Data_30Sparse_Train\\XY_arrays_30Sparse_LSTM_Train_10.npy\n",
      "Train:  <_io.BufferedReader name='LSTM_Data_30Sparse_Train\\\\XY_arrays_30Sparse_LSTM_Train_10.npy'>\n",
      "LSTM_Data_30Sparse_Train\\XY_arrays_30Sparse_LSTM_Train_11.npy\n",
      "Train:  <_io.BufferedReader name='LSTM_Data_30Sparse_Train\\\\XY_arrays_30Sparse_LSTM_Train_11.npy'>\n",
      "LSTM_Data_30Sparse_Train\\XY_arrays_30Sparse_LSTM_Train_12.npy\n",
      "Train:  <_io.BufferedReader name='LSTM_Data_30Sparse_Train\\\\XY_arrays_30Sparse_LSTM_Train_12.npy'>\n",
      "LSTM_Data_30Sparse_Train\\XY_arrays_30Sparse_LSTM_Train_13.npy\n",
      "Train:  <_io.BufferedReader name='LSTM_Data_30Sparse_Train\\\\XY_arrays_30Sparse_LSTM_Train_13.npy'>\n",
      "LSTM_Data_30Sparse_Train\\XY_arrays_30Sparse_LSTM_Train_14.npy\n",
      "Train:  <_io.BufferedReader name='LSTM_Data_30Sparse_Train\\\\XY_arrays_30Sparse_LSTM_Train_14.npy'>\n",
      "LSTM_Data_30Sparse_Train\\XY_arrays_30Sparse_LSTM_Train_15.npy\n",
      "Train:  <_io.BufferedReader name='LSTM_Data_30Sparse_Train\\\\XY_arrays_30Sparse_LSTM_Train_15.npy'>\n",
      "LSTM_Data_30Sparse_Train\\XY_arrays_30Sparse_LSTM_Train_16.npy\n",
      "Train:  <_io.BufferedReader name='LSTM_Data_30Sparse_Train\\\\XY_arrays_30Sparse_LSTM_Train_16.npy'>\n",
      "LSTM_Data_30Sparse_Train\\XY_arrays_30Sparse_LSTM_Train_17.npy\n",
      "Train:  <_io.BufferedReader name='LSTM_Data_30Sparse_Train\\\\XY_arrays_30Sparse_LSTM_Train_17.npy'>\n",
      "LSTM_Data_30Sparse_Train\\XY_arrays_30Sparse_LSTM_Train_18.npy\n",
      "Train:  <_io.BufferedReader name='LSTM_Data_30Sparse_Train\\\\XY_arrays_30Sparse_LSTM_Train_18.npy'>\n",
      "LSTM_Data_30Sparse_Train\\XY_arrays_30Sparse_LSTM_Train_19.npy\n",
      "Train:  <_io.BufferedReader name='LSTM_Data_30Sparse_Train\\\\XY_arrays_30Sparse_LSTM_Train_19.npy'>\n",
      "LSTM_Data_30Sparse_Train\\XY_arrays_30Sparse_LSTM_Train_2.npy\n",
      "Train:  <_io.BufferedReader name='LSTM_Data_30Sparse_Train\\\\XY_arrays_30Sparse_LSTM_Train_2.npy'>\n",
      "LSTM_Data_30Sparse_Train\\XY_arrays_30Sparse_LSTM_Train_20.npy\n",
      "Train:  <_io.BufferedReader name='LSTM_Data_30Sparse_Train\\\\XY_arrays_30Sparse_LSTM_Train_20.npy'>\n",
      "LSTM_Data_30Sparse_Train\\XY_arrays_30Sparse_LSTM_Train_3.npy\n",
      "Train:  <_io.BufferedReader name='LSTM_Data_30Sparse_Train\\\\XY_arrays_30Sparse_LSTM_Train_3.npy'>\n",
      "LSTM_Data_30Sparse_Train\\XY_arrays_30Sparse_LSTM_Train_4.npy\n",
      "Train:  <_io.BufferedReader name='LSTM_Data_30Sparse_Train\\\\XY_arrays_30Sparse_LSTM_Train_4.npy'>\n",
      "Val:  <_io.BufferedReader name='LSTM_Data_30Sparse_Train\\\\XY_arrays_30Sparse_LSTM_Train_5.npy'>\n",
      "Val:  <_io.BufferedReader name='LSTM_Data_30Sparse_Train\\\\XY_arrays_30Sparse_LSTM_Train_6.npy'>\n",
      "Val:  <_io.BufferedReader name='LSTM_Data_30Sparse_Train\\\\XY_arrays_30Sparse_LSTM_Train_7.npy'>\n",
      "Val:  <_io.BufferedReader name='LSTM_Data_30Sparse_Train\\\\XY_arrays_30Sparse_LSTM_Train_8.npy'>\n",
      "Val:  <_io.BufferedReader name='LSTM_Data_30Sparse_Train\\\\XY_arrays_30Sparse_LSTM_Train_9.npy'>\n",
      "Val:  <_io.BufferedReader name='LSTM_Data_30Sparse_Train\\\\XY_arrays_30Sparse_LSTM_Train__last.npy'>\n"
     ]
    }
   ],
   "source": [
    "X_train = np.empty([0, n_input, n_features])\n",
    "y_train = np.empty([0,2])\n",
    "X_val = np.empty([0, n_input, n_features])\n",
    "y_val = np.empty([0,2])\n",
    "path = 'LSTM_Data_30Sparse_Train'\n",
    "switch = int(len(os.listdir(path))*.2)\n",
    "X_train, y_train, X_val, y_val = assemble_train(X_train, y_train, X_val, y_val, path, switch)"
   ],
   "metadata": {
    "collapsed": false,
    "pycharm": {
     "name": "#%%\n"
    }
   }
  },
  {
   "cell_type": "code",
   "execution_count": 156,
   "outputs": [
    {
     "name": "stdout",
     "output_type": "stream",
     "text": [
      "(782744, 30, 7)\n",
      "(782744, 2)\n",
      "(271881, 30, 7)\n",
      "(271881, 2)\n",
      "0.2577987436292521\n"
     ]
    }
   ],
   "source": [
    "print(X_train.shape) #(4352938, 60, 7), 30:(782744, 30, 7)\n",
    "print(y_train.shape)\n",
    "print(X_val.shape)\n",
    "print(y_val.shape)\n",
    "print(X_val.shape[0] / (X_val.shape[0] + X_train.shape[0])) #60: 0.192, 80: 0.194\n",
    "with open((path + '/XY_30Sparse_Full_XYTrainVal.npy'), 'wb') as f:\n",
    "      np.save(f, X_train)\n",
    "      np.save(f, y_train)\n",
    "      np.save(f, X_val)\n",
    "      np.save(f, y_val)"
   ],
   "metadata": {
    "collapsed": false,
    "pycharm": {
     "name": "#%%\n"
    }
   }
  },
  {
   "cell_type": "code",
   "execution_count": 157,
   "outputs": [
    {
     "name": "stdout",
     "output_type": "stream",
     "text": [
      "Model: \"sequential_3\"\n",
      "_________________________________________________________________\n",
      " Layer (type)                Output Shape              Param #   \n",
      "=================================================================\n",
      " lstm_6 (LSTM)               (None, 30, 60)            16320     \n",
      "                                                                 \n",
      " dropout_6 (Dropout)         (None, 30, 60)            0         \n",
      "                                                                 \n",
      " lstm_7 (LSTM)               (None, 60)                29040     \n",
      "                                                                 \n",
      " dropout_7 (Dropout)         (None, 60)                0         \n",
      "                                                                 \n",
      " dense_3 (Dense)             (None, 2)                 122       \n",
      "                                                                 \n",
      "=================================================================\n",
      "Total params: 45,482\n",
      "Trainable params: 45,482\n",
      "Non-trainable params: 0\n",
      "_________________________________________________________________\n"
     ]
    }
   ],
   "source": [
    "model = model_lstm()\n",
    "model.summary()"
   ],
   "metadata": {
    "collapsed": false,
    "pycharm": {
     "name": "#%%\n"
    }
   }
  },
  {
   "cell_type": "code",
   "execution_count": 159,
   "outputs": [],
   "source": [
    "batch_size = 500\n",
    "\n",
    "callbacks_list = [\n",
    "    tf.keras.callbacks.EarlyStopping(\n",
    "        monitor=\"val_loss\",\n",
    "        patience=3\n",
    "    ),\n",
    "    tf.keras.callbacks.ModelCheckpoint(\n",
    "        filepath=\"ModelCheckpoints30/model.{epoch:02d}-{val_loss:.2f}.h5\",\n",
    "        monitor=\"val_loss\",\n",
    "        mode=\"min\",\n",
    "        save_best_only=True,\n",
    "    )\n",
    "]"
   ],
   "metadata": {
    "collapsed": false,
    "pycharm": {
     "name": "#%%\n"
    }
   }
  },
  {
   "cell_type": "code",
   "execution_count": 160,
   "outputs": [
    {
     "name": "stdout",
     "output_type": "stream",
     "text": [
      "Time:  23:57:15\n",
      "Epoch 1/20\n",
      "1566/1566 [==============================] - 372s 236ms/step - loss: 0.0243 - val_loss: 0.0197\n",
      "Epoch 2/20\n",
      "1566/1566 [==============================] - 345s 220ms/step - loss: 0.0195 - val_loss: 0.0180\n",
      "Epoch 3/20\n",
      "1566/1566 [==============================] - 273s 175ms/step - loss: 0.0183 - val_loss: 0.0182\n",
      "Epoch 4/20\n",
      "1566/1566 [==============================] - 284s 181ms/step - loss: 0.0175 - val_loss: 0.0168\n",
      "Epoch 5/20\n",
      "1566/1566 [==============================] - 301s 192ms/step - loss: 0.0170 - val_loss: 0.0171\n",
      "Epoch 6/20\n",
      "1566/1566 [==============================] - 359s 229ms/step - loss: 0.0165 - val_loss: 0.0159\n",
      "Epoch 7/20\n",
      "1566/1566 [==============================] - 428s 273ms/step - loss: 0.0162 - val_loss: 0.0162\n",
      "Epoch 8/20\n",
      "1566/1566 [==============================] - 440s 281ms/step - loss: 0.0158 - val_loss: 0.0157\n",
      "Epoch 9/20\n",
      "1566/1566 [==============================] - 444s 284ms/step - loss: 0.0156 - val_loss: 0.0144\n",
      "Epoch 10/20\n",
      "1566/1566 [==============================] - 459s 293ms/step - loss: 0.0153 - val_loss: 0.0143\n",
      "Epoch 11/20\n",
      "1566/1566 [==============================] - 465s 297ms/step - loss: 0.0150 - val_loss: 0.0156\n",
      "Epoch 12/20\n",
      "1566/1566 [==============================] - 474s 303ms/step - loss: 0.0148 - val_loss: 0.0143\n",
      "Epoch 13/20\n",
      "1566/1566 [==============================] - 478s 305ms/step - loss: 0.0147 - val_loss: 0.0140\n",
      "Epoch 14/20\n",
      "1566/1566 [==============================] - 490s 313ms/step - loss: 0.0145 - val_loss: 0.0144\n",
      "Epoch 15/20\n",
      "1566/1566 [==============================] - 492s 314ms/step - loss: 0.0143 - val_loss: 0.0140\n",
      "Epoch 16/20\n",
      "1566/1566 [==============================] - 499s 318ms/step - loss: 0.0142 - val_loss: 0.0134\n",
      "Epoch 17/20\n",
      "1566/1566 [==============================] - 495s 316ms/step - loss: 0.0141 - val_loss: 0.0135\n",
      "Epoch 18/20\n",
      "1566/1566 [==============================] - 496s 317ms/step - loss: 0.0140 - val_loss: 0.0137\n",
      "Epoch 19/20\n",
      "1566/1566 [==============================] - 496s 317ms/step - loss: 0.0138 - val_loss: 0.0137\n",
      "Time:  02:12:05\n"
     ]
    }
   ],
   "source": [
    "print(\"Time: \", time.strftime(\"%H:%M:%S\", time.localtime()))\n",
    "\n",
    "history_retrieval = model.fit(X_train, y_train, epochs=20, validation_data=(X_val, y_val),\n",
    "                              batch_size=batch_size, callbacks=callbacks_list, verbose=1)\n",
    "\n",
    "print(\"Time: \", time.strftime(\"%H:%M:%S\", time.localtime()))\n",
    "\n"
   ],
   "metadata": {
    "collapsed": false,
    "pycharm": {
     "name": "#%%\n"
    }
   }
  },
  {
   "cell_type": "code",
   "execution_count": 161,
   "outputs": [],
   "source": [
    "model.save('ModelCheckpoints30/model30sparse_final.h5')"
   ],
   "metadata": {
    "collapsed": false,
    "pycharm": {
     "name": "#%%\n"
    }
   }
  },
  {
   "cell_type": "code",
   "execution_count": 162,
   "outputs": [
    {
     "data": {
      "text/plain": "[<matplotlib.lines.Line2D at 0x23f59953af0>]"
     },
     "execution_count": 162,
     "metadata": {},
     "output_type": "execute_result"
    },
    {
     "data": {
      "text/plain": "<Figure size 640x480 with 1 Axes>",
      "image/png": "[encoded data removed]"
     },
     "metadata": {},
     "output_type": "display_data"
    }
   ],
   "source": [
    "loss_per_epoch = model.history.history['loss']\n",
    "plt.plot(range(len(loss_per_epoch)), loss_per_epoch)"
   ],
   "metadata": {
    "collapsed": false,
    "pycharm": {
     "name": "#%%\n"
    }
   }
  },
  {
   "cell_type": "code",
   "execution_count": 163,
   "outputs": [
    {
     "name": "stdout",
     "output_type": "stream",
     "text": [
      "1566/1566 [==============================] - 134s 85ms/step - loss: 0.0135\n"
     ]
    },
    {
     "data": {
      "text/plain": "0.013468669727444649"
     },
     "execution_count": 163,
     "metadata": {},
     "output_type": "execute_result"
    }
   ],
   "source": [
    "model.evaluate(X_train, y_train, batch_size=batch_size, callbacks=callbacks_list, verbose=1)"
   ],
   "metadata": {
    "collapsed": false,
    "pycharm": {
     "name": "#%%\n"
    }
   }
  },
  {
   "cell_type": "code",
   "execution_count": 164,
   "outputs": [
    {
     "name": "stdout",
     "output_type": "stream",
     "text": [
      "544/544 [==============================] - 49s 89ms/step - loss: 0.0301\n"
     ]
    },
    {
     "data": {
      "text/plain": "0.030079761520028114"
     },
     "execution_count": 164,
     "metadata": {},
     "output_type": "execute_result"
    }
   ],
   "source": [
    "model2.evaluate(X_val, y_val, batch_size=batch_size, callbacks=callbacks_list, verbose=1)"
   ],
   "metadata": {
    "collapsed": false,
    "pycharm": {
     "name": "#%%\n"
    }
   }
  },
  {
   "cell_type": "code",
   "execution_count": 165,
   "outputs": [
    {
     "name": "stdout",
     "output_type": "stream",
     "text": [
      "Test:  <_io.BufferedReader name='LSTM_Data_30Sparse_Test\\\\XY_arrays_30Sparse_LSTM_Test_0.npy'> (48892, 30, 7)\n",
      "Test:  <_io.BufferedReader name='LSTM_Data_30Sparse_Test\\\\XY_arrays_30Sparse_LSTM_Test_1.npy'> (97994, 30, 7)\n",
      "Test:  <_io.BufferedReader name='LSTM_Data_30Sparse_Test\\\\XY_arrays_30Sparse_LSTM_Test_10.npy'> (146321, 30, 7)\n",
      "Test:  <_io.BufferedReader name='LSTM_Data_30Sparse_Test\\\\XY_arrays_30Sparse_LSTM_Test_11.npy'> (194971, 30, 7)\n",
      "Test:  <_io.BufferedReader name='LSTM_Data_30Sparse_Test\\\\XY_arrays_30Sparse_LSTM_Test_12.npy'> (243724, 30, 7)\n",
      "Test:  <_io.BufferedReader name='LSTM_Data_30Sparse_Test\\\\XY_arrays_30Sparse_LSTM_Test_13.npy'> (292995, 30, 7)\n",
      "Test:  <_io.BufferedReader name='LSTM_Data_30Sparse_Test\\\\XY_arrays_30Sparse_LSTM_Test_14.npy'> (341814, 30, 7)\n",
      "Test:  <_io.BufferedReader name='LSTM_Data_30Sparse_Test\\\\XY_arrays_30Sparse_LSTM_Test_15.npy'> (390679, 30, 7)\n",
      "Test:  <_io.BufferedReader name='LSTM_Data_30Sparse_Test\\\\XY_arrays_30Sparse_LSTM_Test_16.npy'> (439404, 30, 7)\n",
      "Test:  <_io.BufferedReader name='LSTM_Data_30Sparse_Test\\\\XY_arrays_30Sparse_LSTM_Test_17.npy'> (488239, 30, 7)\n",
      "Test:  <_io.BufferedReader name='LSTM_Data_30Sparse_Test\\\\XY_arrays_30Sparse_LSTM_Test_18.npy'> (537011, 30, 7)\n",
      "Test:  <_io.BufferedReader name='LSTM_Data_30Sparse_Test\\\\XY_arrays_30Sparse_LSTM_Test_19.npy'> (585936, 30, 7)\n",
      "Test:  <_io.BufferedReader name='LSTM_Data_30Sparse_Test\\\\XY_arrays_30Sparse_LSTM_Test_2.npy'> (634910, 30, 7)\n",
      "Test:  <_io.BufferedReader name='LSTM_Data_30Sparse_Test\\\\XY_arrays_30Sparse_LSTM_Test_20.npy'> (683934, 30, 7)\n",
      "Test:  <_io.BufferedReader name='LSTM_Data_30Sparse_Test\\\\XY_arrays_30Sparse_LSTM_Test_3.npy'> (733290, 30, 7)\n",
      "Test:  <_io.BufferedReader name='LSTM_Data_30Sparse_Test\\\\XY_arrays_30Sparse_LSTM_Test_4.npy'> (782518, 30, 7)\n",
      "Test:  <_io.BufferedReader name='LSTM_Data_30Sparse_Test\\\\XY_arrays_30Sparse_LSTM_Test_5.npy'> (831078, 30, 7)\n",
      "Test:  <_io.BufferedReader name='LSTM_Data_30Sparse_Test\\\\XY_arrays_30Sparse_LSTM_Test_6.npy'> (879732, 30, 7)\n",
      "Test:  <_io.BufferedReader name='LSTM_Data_30Sparse_Test\\\\XY_arrays_30Sparse_LSTM_Test_7.npy'> (928402, 30, 7)\n",
      "Test:  <_io.BufferedReader name='LSTM_Data_30Sparse_Test\\\\XY_arrays_30Sparse_LSTM_Test_8.npy'> (977542, 30, 7)\n",
      "Test:  <_io.BufferedReader name='LSTM_Data_30Sparse_Test\\\\XY_arrays_30Sparse_LSTM_Test_9.npy'> (1027167, 30, 7)\n",
      "Test:  <_io.BufferedReader name='LSTM_Data_30Sparse_Test\\\\XY_arrays_30Sparse_LSTM_Test__last.npy'> (1054300, 30, 7)\n",
      "(1054300, 30, 7)\n",
      "(1054300, 2)\n"
     ]
    }
   ],
   "source": [
    "X_test = np.empty([0, n_input, n_features])\n",
    "y_test = np.empty([0, 2])\n",
    "path = 'LSTM_Data_30Sparse_Test'\n",
    "X_test, y_test = assemble_test(X_test, y_test, path)\n",
    "\n",
    "print(X_test.shape)\n",
    "print(y_test.shape)"
   ],
   "metadata": {
    "collapsed": false,
    "pycharm": {
     "name": "#%%\n"
    }
   }
  },
  {
   "cell_type": "code",
   "execution_count": 166,
   "outputs": [
    {
     "name": "stdout",
     "output_type": "stream",
     "text": [
      "2109/2109 [==============================] - 219s 103ms/step\n"
     ]
    }
   ],
   "source": [
    "y_pred = model.predict(X_test, batch_size=batch_size, callbacks=callbacks_list, verbose=1)"
   ],
   "metadata": {
    "collapsed": false,
    "pycharm": {
     "name": "#%%\n"
    }
   }
  },
  {
   "cell_type": "code",
   "execution_count": 167,
   "outputs": [
    {
     "data": {
      "text/plain": "array([[2.9794083e+02, 2.6936841e-01],\n       [2.5505013e+02, 1.9362469e-01],\n       [2.3156006e+02, 2.0710987e-01],\n       ...,\n       [1.6291206e+02, 3.9036390e-01],\n       [1.7536044e+02, 3.4844720e-01],\n       [1.7036363e+02, 3.3901000e-01]], dtype=float32)"
     },
     "execution_count": 167,
     "metadata": {},
     "output_type": "execute_result"
    }
   ],
   "source": [
    "y_test_unscaled = scaler.inverse_transform(y_test)\n",
    "y_test_unscaled\n",
    "\n",
    "y_pred_unscaled = scaler.inverse_transform(y_pred)\n",
    "y_pred_unscaled"
   ],
   "metadata": {
    "collapsed": false,
    "pycharm": {
     "name": "#%%\n"
    }
   }
  },
  {
   "cell_type": "code",
   "execution_count": 168,
   "outputs": [
    {
     "name": "stdout",
     "output_type": "stream",
     "text": [
      "Metrics for 80 sparse, scaled:\n",
      "Snow Density Performance: \n",
      "MAE:  0.03625762413142435\n",
      "MSE:  0.0035934464750510043\n",
      "RMSE:  0.05994536241487747\n",
      "R2:  0.7628973558285523\n",
      "VOD Performance: \n",
      "MAE:  0.08452074440335217\n",
      "MSE:  0.023705100653086925\n",
      "RMSE:  0.15396460844326182\n",
      "R2:  0.6513472458784648\n",
      "Metrics for 80 sparse, unscaled:\n",
      "Snow Density Performance: \n",
      "MAE:  12.690168333240559\n",
      "MSE:  440.19718218177934\n",
      "RMSE:  20.980876582778407\n",
      "R2:  0.7628973617599096\n",
      "VOD Performance: \n",
      "MAE:  0.1267704013672531\n",
      "MSE:  0.05332746110486599\n",
      "RMSE:  0.23092739357829767\n",
      "R2:  0.6513472459282392\n"
     ]
    },
    {
     "data": {
      "text/plain": "(12.690168333240559,\n 440.19718218177934,\n 20.980876582778407,\n 0.7628973617599096,\n 0.1267704013672531,\n 0.05332746110486599,\n 0.23092739357829767,\n 0.6513472459282392)"
     },
     "execution_count": 168,
     "metadata": {},
     "output_type": "execute_result"
    }
   ],
   "source": [
    "print(\"Metrics for 80 sparse, scaled:\")\n",
    "get_metrics(y_test, y_pred)\n",
    "print(\"Metrics for 80 sparse, unscaled:\")\n",
    "get_metrics(y_test_unscaled, y_pred_unscaled)"
   ],
   "metadata": {
    "collapsed": false,
    "pycharm": {
     "name": "#%%\n"
    }
   }
  },
  {
   "cell_type": "code",
   "execution_count": 241,
   "outputs": [
    {
     "name": "stderr",
     "output_type": "stream",
     "text": [
      "C:\\Users\\calvino\\Documents\\Courses\\GradSchoolStuff\\CSCI 8523 - AI for Earth, Kumar\\Group Project\\venv\\lib\\site-packages\\mpl_scatter_density\\generic_density_artist.py:77: RuntimeWarning: All-NaN slice encountered\n",
      "  vmin = self._density_vmin(array)\n",
      "C:\\Users\\calvino\\Documents\\Courses\\GradSchoolStuff\\CSCI 8523 - AI for Earth, Kumar\\Group Project\\venv\\lib\\site-packages\\mpl_scatter_density\\generic_density_artist.py:82: RuntimeWarning: All-NaN slice encountered\n",
      "  vmax = self._density_vmax(array)\n"
     ]
    },
    {
     "data": {
      "text/plain": "<Figure size 640x480 with 2 Axes>",
      "image/png": "[encoded data removed]"
     },
     "metadata": {},
     "output_type": "display_data"
    }
   ],
   "source": [
    "#y_test = y_test.to_numpy()\n",
    "\n",
    "fig = plt.figure()\n",
    "\n",
    "white_viridis = LinearSegmentedColormap.from_list('white_viridis', [\n",
    "    (0, '#ffffff'),\n",
    "    (1e-20, '#440053'),\n",
    "    (0.2, '#404388'),\n",
    "    (0.4, '#2a788e'),\n",
    "    (0.6, '#21a784'),\n",
    "    (0.8, '#78d151'),\n",
    "    (1, '#fde624'),\n",
    "], N=256)\n",
    "\n",
    "ax = fig.add_subplot(1, 1, 1, projection='scatter_density')\n",
    "density = ax.scatter_density(y_test, y_pred, cmap=white_viridis, vmin=0, vmax=10000)\n",
    "fig.colorbar(density, label='Number of points per pixel')\n",
    "plt.show()"
   ],
   "metadata": {
    "collapsed": false,
    "pycharm": {
     "name": "#%%\n"
    }
   }
  },
  {
   "cell_type": "markdown",
   "source": [
    "## Map best performer for SD:"
   ],
   "metadata": {
    "collapsed": false,
    "pycharm": {
     "name": "#%% md\n"
    }
   }
  },
  {
   "cell_type": "code",
   "execution_count": 170,
   "outputs": [],
   "source": [
    "#First we need to pick a day to map:\n",
    "\n",
    "test = pd.read_parquet('test_scaled_LatLonDateUnscaled.parquet')"
   ],
   "metadata": {
    "collapsed": false,
    "pycharm": {
     "name": "#%%\n"
    }
   }
  },
  {
   "cell_type": "code",
   "execution_count": 190,
   "outputs": [
    {
     "name": "stdout",
     "output_type": "stream",
     "text": [
      "Length of df of unique latlon paris that meet cutoff:  153229\n",
      "              lat        lon\n",
      "139568  65.905140   95.74170\n",
      "5627    33.165960   78.56328\n",
      "96845   58.551846  131.31224\n",
      "115202  61.636730 -150.17116\n",
      "73378   55.222220  -76.41598\n",
      "Length of testdate:  58314\n",
      "           density  snowtemp  soiltemp     omega       Tbh       Tbv  \\\n",
      "30586952  0.170206  0.708772  0.845780  0.681356  0.705369  0.713866   \n",
      "30586953  0.167071  0.730467  0.868891  0.680220  0.688666  0.689544   \n",
      "30586954  0.159643  0.697934  0.845582  0.680000  0.690524  0.704247   \n",
      "30586955  0.170206  0.708772  0.857352  0.681035  0.701983  0.712883   \n",
      "30586956  0.174646  0.704454  0.869552  0.700000  0.698099  0.709491   \n",
      "\n",
      "                cf         h       voc        lat        lon       date  \n",
      "30586952  0.323790  0.090114  0.064464  65.565310 -179.95332 2020-11-01  \n",
      "30586953  0.322650  0.085397  0.004672  65.229836 -179.95332 2020-11-01  \n",
      "30586954  0.314897  0.095943  0.068366  65.734665 -179.85995 2020-11-01  \n",
      "30586955  0.336332  0.088294  0.065556  65.565310 -179.85995 2020-11-01  \n",
      "30586956  0.353848  0.088024  0.064836  65.565310 -179.76660 2020-11-01  \n",
      "Length of testdate after merge:  42596\n",
      "    density  snowtemp  soiltemp     omega       Tbh       Tbv        cf  \\\n",
      "0  0.152719  0.710146  0.995139  0.700000  0.721610  0.726299  0.330263   \n",
      "1  0.145295  0.690952  0.985973  0.700826  0.719028  0.717893  0.288278   \n",
      "2  0.145243  0.653960  0.993925  0.700000  0.710364  0.713868  0.290911   \n",
      "3  0.145570  0.698852  0.985099  0.702479  0.721501  0.719431  0.275937   \n",
      "4  0.144965  0.689153  0.976180  0.700826  0.717999  0.721260  0.282593   \n",
      "\n",
      "          h       voc        lat        lon       date  \n",
      "0  0.091574  0.078173  68.047226 -163.89523 2020-11-01  \n",
      "1  0.106283  0.074326  67.676765 -162.40146 2020-11-01  \n",
      "2  0.104408  0.072966  67.493700 -162.40146 2020-11-01  \n",
      "3  0.112064  0.082468  67.861270 -162.30809 2020-11-01  \n",
      "4  0.107667  0.076295  67.676765 -162.30809 2020-11-01  \n",
      "Final len testdate:  42596\n",
      "Final len latlon1:  42596\n"
     ]
    }
   ],
   "source": [
    "test1 = test[test['date'] <= '2020-11-1'] #All records up to our map day\n",
    "\n",
    "latlon1 = latlon_setup(test1, 30)\n",
    "print(latlon1.head()) #Maximum possible pixels.\n",
    "\n",
    "testdate = test[test['date'] == '2020-11-1'] #our y_test, essentially.\n",
    "print(\"Length of testdate: \", len(testdate))\n",
    "print(testdate.head()) #The list of pixels present on map day\n",
    "\n",
    "#Only keep pixels on testdate that are also present in latlon1:\n",
    "testdate = pd.merge(testdate, latlon1, how = 'inner', on = ['lat', 'lon'])\n",
    "latlon1 = pd.merge(latlon1, testdate, how = 'inner', on = ['lat', 'lon'])\n",
    "print(\"Length of testdate after merge: \", len(testdate))\n",
    "print(testdate.head())\n",
    "print(\"Final len testdate: \", len(testdate)) #80: 19681, 30: 42596\n",
    "print(\"Final len latlon1: \", len(latlon1))"
   ],
   "metadata": {
    "collapsed": false,
    "pycharm": {
     "name": "#%%\n"
    }
   }
  },
  {
   "cell_type": "code",
   "execution_count": 218,
   "outputs": [],
   "source": [
    "def gen_np_last(df, n_input):\n",
    "  \"\"\"Produces last possible window of n_input historical records of data from the provided dataframe.\"\"\"\n",
    "  Xs, ys = [], []\n",
    "  current_slice = df.iloc[len(df)-n_input:]\n",
    "  X = current_slice[['snowtemp', 'soiltemp', 'omega', 'Tbh', 'Tbv', 'cf', 'h']].values\n",
    "  y = current_slice[['density', 'voc']].values[-1]\n",
    "  Xs.append(X)\n",
    "  ys.append(y)\n",
    "  X = np.stack(Xs)\n",
    "  y = np.stack(ys)\n",
    "  return X, y"
   ],
   "metadata": {
    "collapsed": false,
    "pycharm": {
     "name": "#%%\n"
    }
   }
  },
  {
   "cell_type": "code",
   "execution_count": 222,
   "outputs": [],
   "source": [
    "#Iterate though test and grab the LAST possible sample set of length n_length, such that the last X values and the corresponding y values are in testdate.\n",
    "def data_prep_last_only(bigdf, latlon, path, n_input, n_features, X, y, counter = 0, savept = 0):\n",
    "    start = time.strftime(\"%Y-%m-%d %H:%M:%S\", time.localtime())\n",
    "    print(\"Started at: \", start)\n",
    "    for i in range(len(latlon)-counter): #Iterate though our set of viable lat/lons, minus counter to restart if needed.\n",
    "      counter += 1\n",
    "      df = bigdf[(bigdf['lat'] == latlon['lat'].iloc[i]) & (bigdf['lon'] == latlon['lon'].iloc[i])] #Make a sub df of each lat/lon pair\n",
    "      df = df.sort_values(by = 'date') #Make sure we have our values correctly ordered\n",
    "      #print(\"Len of sub df: \", len(df))\n",
    "      X2, y2 = gen_np_last(df, n_input) #Make your arrays, in this case only last possible array such that they end on a specific date.\n",
    "      #print(\"Dimensions of X and y: \", X.shape, y.shape)\n",
    "      #print(\"Dimensions of X2 and y2: \", X2.shape, y2.shape)\n",
    "      X = np.vstack([X, X2]) #Append your arrays\n",
    "      y = np.concatenate([y, y2])\n",
    "      if counter%1000 == 0: #For every thousand lat/long pairs check point\n",
    "        print(\"Counter: \", counter, \", Shape X: \", X.shape, time.strftime(\"%Y-%m-%d %H:%M:%S\", time.localtime()))\n",
    "        with open((path + str(savept) + '.npy'), 'wb') as f: #Saves two arrays in same file, arrays can be opened separately.\n",
    "          np.save(f, X)\n",
    "          np.save(f, y)\n",
    "        print(\"Wipeout: \", savept)\n",
    "        savept += 1\n",
    "        X = np.empty([0, n_input, n_features])\n",
    "        y = np.empty([0,2])\n",
    "    print(\"Save last: \")\n",
    "    with open((path + '_last.npy'), 'wb') as f: #final save of X,y to grab any remaining lat/lon pairs since last checkpoint:\n",
    "          np.save(f, X)\n",
    "          np.save(f, y)\n",
    "    print(\"Done! And it only took from \", start, \" to \", time.strftime(\"%Y-%m-%d %H:%M:%S\", time.localtime()))\n"
   ],
   "metadata": {
    "collapsed": false,
    "pycharm": {
     "name": "#%%\n"
    }
   }
  },
  {
   "cell_type": "code",
   "execution_count": 223,
   "outputs": [
    {
     "name": "stdout",
     "output_type": "stream",
     "text": [
      "Started at:  2022-12-21 16:39:34\n",
      "Counter:  1000 , Shape X:  (1000, 30, 7) 2022-12-21 16:40:01\n",
      "Wipeout:  0\n",
      "Counter:  2000 , Shape X:  (1000, 30, 7) 2022-12-21 16:40:25\n",
      "Wipeout:  1\n",
      "Counter:  3000 , Shape X:  (1000, 30, 7) 2022-12-21 16:40:50\n",
      "Wipeout:  2\n",
      "Counter:  4000 , Shape X:  (1000, 30, 7) 2022-12-21 16:41:15\n",
      "Wipeout:  3\n",
      "Counter:  5000 , Shape X:  (1000, 30, 7) 2022-12-21 16:41:39\n",
      "Wipeout:  4\n",
      "Counter:  6000 , Shape X:  (1000, 30, 7) 2022-12-21 16:42:06\n",
      "Wipeout:  5\n",
      "Counter:  7000 , Shape X:  (1000, 30, 7) 2022-12-21 16:42:38\n",
      "Wipeout:  6\n",
      "Counter:  8000 , Shape X:  (1000, 30, 7) 2022-12-21 16:43:09\n",
      "Wipeout:  7\n",
      "Counter:  9000 , Shape X:  (1000, 30, 7) 2022-12-21 16:43:34\n",
      "Wipeout:  8\n",
      "Counter:  10000 , Shape X:  (1000, 30, 7) 2022-12-21 16:43:59\n",
      "Wipeout:  9\n",
      "Counter:  11000 , Shape X:  (1000, 30, 7) 2022-12-21 16:44:24\n",
      "Wipeout:  10\n",
      "Counter:  12000 , Shape X:  (1000, 30, 7) 2022-12-21 16:44:49\n",
      "Wipeout:  11\n",
      "Counter:  13000 , Shape X:  (1000, 30, 7) 2022-12-21 16:45:14\n",
      "Wipeout:  12\n",
      "Counter:  14000 , Shape X:  (1000, 30, 7) 2022-12-21 16:45:40\n",
      "Wipeout:  13\n",
      "Counter:  15000 , Shape X:  (1000, 30, 7) 2022-12-21 16:46:07\n",
      "Wipeout:  14\n",
      "Counter:  16000 , Shape X:  (1000, 30, 7) 2022-12-21 16:46:32\n",
      "Wipeout:  15\n",
      "Counter:  17000 , Shape X:  (1000, 30, 7) 2022-12-21 16:46:57\n",
      "Wipeout:  16\n",
      "Counter:  18000 , Shape X:  (1000, 30, 7) 2022-12-21 16:47:22\n",
      "Wipeout:  17\n",
      "Counter:  19000 , Shape X:  (1000, 30, 7) 2022-12-21 16:47:49\n",
      "Wipeout:  18\n",
      "Counter:  20000 , Shape X:  (1000, 30, 7) 2022-12-21 16:48:17\n",
      "Wipeout:  19\n",
      "Counter:  21000 , Shape X:  (1000, 30, 7) 2022-12-21 16:48:43\n",
      "Wipeout:  20\n",
      "Counter:  22000 , Shape X:  (1000, 30, 7) 2022-12-21 16:49:12\n",
      "Wipeout:  21\n",
      "Counter:  23000 , Shape X:  (1000, 30, 7) 2022-12-21 16:49:38\n",
      "Wipeout:  22\n",
      "Counter:  24000 , Shape X:  (1000, 30, 7) 2022-12-21 16:50:08\n",
      "Wipeout:  23\n",
      "Counter:  25000 , Shape X:  (1000, 30, 7) 2022-12-21 16:50:36\n",
      "Wipeout:  24\n",
      "Counter:  26000 , Shape X:  (1000, 30, 7) 2022-12-21 16:51:03\n",
      "Wipeout:  25\n",
      "Counter:  27000 , Shape X:  (1000, 30, 7) 2022-12-21 16:51:30\n",
      "Wipeout:  26\n",
      "Counter:  28000 , Shape X:  (1000, 30, 7) 2022-12-21 16:51:57\n",
      "Wipeout:  27\n",
      "Counter:  29000 , Shape X:  (1000, 30, 7) 2022-12-21 16:52:24\n",
      "Wipeout:  28\n",
      "Counter:  30000 , Shape X:  (1000, 30, 7) 2022-12-21 16:52:51\n",
      "Wipeout:  29\n",
      "Counter:  31000 , Shape X:  (1000, 30, 7) 2022-12-21 16:53:17\n",
      "Wipeout:  30\n",
      "Counter:  32000 , Shape X:  (1000, 30, 7) 2022-12-21 16:53:44\n",
      "Wipeout:  31\n",
      "Counter:  33000 , Shape X:  (1000, 30, 7) 2022-12-21 16:54:10\n",
      "Wipeout:  32\n",
      "Counter:  34000 , Shape X:  (1000, 30, 7) 2022-12-21 16:54:36\n",
      "Wipeout:  33\n",
      "Counter:  35000 , Shape X:  (1000, 30, 7) 2022-12-21 16:55:03\n",
      "Wipeout:  34\n",
      "Counter:  36000 , Shape X:  (1000, 30, 7) 2022-12-21 16:55:31\n",
      "Wipeout:  35\n",
      "Counter:  37000 , Shape X:  (1000, 30, 7) 2022-12-21 16:55:57\n",
      "Wipeout:  36\n",
      "Counter:  38000 , Shape X:  (1000, 30, 7) 2022-12-21 16:56:24\n",
      "Wipeout:  37\n",
      "Counter:  39000 , Shape X:  (1000, 30, 7) 2022-12-21 16:56:49\n",
      "Wipeout:  38\n",
      "Counter:  40000 , Shape X:  (1000, 30, 7) 2022-12-21 16:57:14\n",
      "Wipeout:  39\n",
      "Counter:  41000 , Shape X:  (1000, 30, 7) 2022-12-21 16:57:38\n",
      "Wipeout:  40\n",
      "Counter:  42000 , Shape X:  (1000, 30, 7) 2022-12-21 16:58:03\n",
      "Wipeout:  41\n",
      "Save last: \n",
      "Done! And it only took from  2022-12-21 16:39:34  to  2022-12-21 16:58:17\n"
     ]
    }
   ],
   "source": [
    "n_input = 30\n",
    "n_features = 7\n",
    "X = np.empty([0, n_input, n_features])\n",
    "y = np.empty([0,2])\n",
    "#print(X.shape)\n",
    "#print(y.shape)\n",
    "path = 'LSTM_Map_30'\n",
    "counter = 0\n",
    "savept = 0\n",
    "data_prep_last_only(test1, latlon1, path, n_input, n_features, X, y, counter, savept)"
   ],
   "metadata": {
    "collapsed": false,
    "pycharm": {
     "name": "#%%\n"
    }
   }
  },
  {
   "cell_type": "code",
   "execution_count": 224,
   "outputs": [
    {
     "name": "stdout",
     "output_type": "stream",
     "text": [
      "Test:  <_io.BufferedReader name='LSTM_Map_30\\\\LSTM_Map_300.npy'> (1000, 30, 7)\n",
      "Test:  <_io.BufferedReader name='LSTM_Map_30\\\\LSTM_Map_301.npy'> (2000, 30, 7)\n",
      "Test:  <_io.BufferedReader name='LSTM_Map_30\\\\LSTM_Map_3010.npy'> (3000, 30, 7)\n",
      "Test:  <_io.BufferedReader name='LSTM_Map_30\\\\LSTM_Map_3011.npy'> (4000, 30, 7)\n",
      "Test:  <_io.BufferedReader name='LSTM_Map_30\\\\LSTM_Map_3012.npy'> (5000, 30, 7)\n",
      "Test:  <_io.BufferedReader name='LSTM_Map_30\\\\LSTM_Map_3013.npy'> (6000, 30, 7)\n",
      "Test:  <_io.BufferedReader name='LSTM_Map_30\\\\LSTM_Map_3014.npy'> (7000, 30, 7)\n",
      "Test:  <_io.BufferedReader name='LSTM_Map_30\\\\LSTM_Map_3015.npy'> (8000, 30, 7)\n",
      "Test:  <_io.BufferedReader name='LSTM_Map_30\\\\LSTM_Map_3016.npy'> (9000, 30, 7)\n",
      "Test:  <_io.BufferedReader name='LSTM_Map_30\\\\LSTM_Map_3017.npy'> (10000, 30, 7)\n",
      "Test:  <_io.BufferedReader name='LSTM_Map_30\\\\LSTM_Map_3018.npy'> (11000, 30, 7)\n",
      "Test:  <_io.BufferedReader name='LSTM_Map_30\\\\LSTM_Map_3019.npy'> (12000, 30, 7)\n",
      "Test:  <_io.BufferedReader name='LSTM_Map_30\\\\LSTM_Map_302.npy'> (13000, 30, 7)\n",
      "Test:  <_io.BufferedReader name='LSTM_Map_30\\\\LSTM_Map_3020.npy'> (14000, 30, 7)\n",
      "Test:  <_io.BufferedReader name='LSTM_Map_30\\\\LSTM_Map_3021.npy'> (15000, 30, 7)\n",
      "Test:  <_io.BufferedReader name='LSTM_Map_30\\\\LSTM_Map_3022.npy'> (16000, 30, 7)\n",
      "Test:  <_io.BufferedReader name='LSTM_Map_30\\\\LSTM_Map_3023.npy'> (17000, 30, 7)\n",
      "Test:  <_io.BufferedReader name='LSTM_Map_30\\\\LSTM_Map_3024.npy'> (18000, 30, 7)\n",
      "Test:  <_io.BufferedReader name='LSTM_Map_30\\\\LSTM_Map_3025.npy'> (19000, 30, 7)\n",
      "Test:  <_io.BufferedReader name='LSTM_Map_30\\\\LSTM_Map_3026.npy'> (20000, 30, 7)\n",
      "Test:  <_io.BufferedReader name='LSTM_Map_30\\\\LSTM_Map_3027.npy'> (21000, 30, 7)\n",
      "Test:  <_io.BufferedReader name='LSTM_Map_30\\\\LSTM_Map_3028.npy'> (22000, 30, 7)\n",
      "Test:  <_io.BufferedReader name='LSTM_Map_30\\\\LSTM_Map_3029.npy'> (23000, 30, 7)\n",
      "Test:  <_io.BufferedReader name='LSTM_Map_30\\\\LSTM_Map_303.npy'> (24000, 30, 7)\n",
      "Test:  <_io.BufferedReader name='LSTM_Map_30\\\\LSTM_Map_3030.npy'> (25000, 30, 7)\n",
      "Test:  <_io.BufferedReader name='LSTM_Map_30\\\\LSTM_Map_3031.npy'> (26000, 30, 7)\n",
      "Test:  <_io.BufferedReader name='LSTM_Map_30\\\\LSTM_Map_3032.npy'> (27000, 30, 7)\n",
      "Test:  <_io.BufferedReader name='LSTM_Map_30\\\\LSTM_Map_3033.npy'> (28000, 30, 7)\n",
      "Test:  <_io.BufferedReader name='LSTM_Map_30\\\\LSTM_Map_3034.npy'> (29000, 30, 7)\n",
      "Test:  <_io.BufferedReader name='LSTM_Map_30\\\\LSTM_Map_3035.npy'> (30000, 30, 7)\n",
      "Test:  <_io.BufferedReader name='LSTM_Map_30\\\\LSTM_Map_3036.npy'> (31000, 30, 7)\n",
      "Test:  <_io.BufferedReader name='LSTM_Map_30\\\\LSTM_Map_3037.npy'> (32000, 30, 7)\n",
      "Test:  <_io.BufferedReader name='LSTM_Map_30\\\\LSTM_Map_3038.npy'> (33000, 30, 7)\n",
      "Test:  <_io.BufferedReader name='LSTM_Map_30\\\\LSTM_Map_3039.npy'> (34000, 30, 7)\n",
      "Test:  <_io.BufferedReader name='LSTM_Map_30\\\\LSTM_Map_304.npy'> (35000, 30, 7)\n",
      "Test:  <_io.BufferedReader name='LSTM_Map_30\\\\LSTM_Map_3040.npy'> (36000, 30, 7)\n",
      "Test:  <_io.BufferedReader name='LSTM_Map_30\\\\LSTM_Map_3041.npy'> (37000, 30, 7)\n",
      "Test:  <_io.BufferedReader name='LSTM_Map_30\\\\LSTM_Map_305.npy'> (38000, 30, 7)\n",
      "Test:  <_io.BufferedReader name='LSTM_Map_30\\\\LSTM_Map_306.npy'> (39000, 30, 7)\n",
      "Test:  <_io.BufferedReader name='LSTM_Map_30\\\\LSTM_Map_307.npy'> (40000, 30, 7)\n",
      "Test:  <_io.BufferedReader name='LSTM_Map_30\\\\LSTM_Map_308.npy'> (41000, 30, 7)\n",
      "Test:  <_io.BufferedReader name='LSTM_Map_30\\\\LSTM_Map_309.npy'> (42000, 30, 7)\n",
      "Test:  <_io.BufferedReader name='LSTM_Map_30\\\\LSTM_Map_30_last.npy'> (42596, 30, 7)\n",
      "(42596, 30, 7)\n",
      "(42596, 2)\n",
      "[[0.07724035 0.        ]\n",
      " [0.14380287 0.2548425 ]\n",
      " [0.14597607 0.19710033]\n",
      " [0.14330185 0.        ]\n",
      " [0.14332537 0.        ]]\n"
     ]
    }
   ],
   "source": [
    "X_map = np.empty([0, n_input, n_features])\n",
    "y_map = np.empty([0, 2])\n",
    "path = 'LSTM_Map_30'\n",
    "X_map, y_map = assemble_test(X_map, y_map, path)\n",
    "\n",
    "print(X_map.shape)\n",
    "print(y_map.shape)\n",
    "print(y_map[0:5])"
   ],
   "metadata": {
    "collapsed": false,
    "pycharm": {
     "name": "#%%\n"
    }
   }
  },
  {
   "cell_type": "code",
   "execution_count": 225,
   "outputs": [
    {
     "name": "stdout",
     "output_type": "stream",
     "text": [
      "86/86 [==============================] - 11s 123ms/step\n"
     ]
    }
   ],
   "source": [
    "y_pred_map = model.predict(X_map, batch_size=batch_size, callbacks=callbacks_list, verbose=1)"
   ],
   "metadata": {
    "collapsed": false,
    "pycharm": {
     "name": "#%%\n"
    }
   }
  },
  {
   "cell_type": "code",
   "execution_count": 226,
   "outputs": [
    {
     "name": "stdout",
     "output_type": "stream",
     "text": [
      "[[127.03410623   0.        ]\n",
      " [150.33098846   0.38223145]\n",
      " [151.09161033   0.2956255 ]\n",
      " [150.15563151   0.        ]\n",
      " [150.16386528   0.        ]]\n",
      "[[ 1.5168173e+02 -5.5694939e-03]\n",
      " [ 1.6618825e+02  4.9331778e-01]\n",
      " [ 1.5827963e+02  5.6985205e-01]\n",
      " [ 1.5202991e+02 -8.3786920e-03]\n",
      " [ 1.5320758e+02  1.5642662e-03]]\n",
      "Metrics for nov 1st 2020 map, unscaled:\n",
      "Snow Density Performance: \n",
      "MAE:  15.512991386137019\n",
      "MSE:  632.1912049561365\n",
      "RMSE:  25.143412754758184\n",
      "R2:  -8.249986264118114\n",
      "VOD Performance: \n",
      "MAE:  0.09984018913600672\n",
      "MSE:  0.0373749916649063\n",
      "RMSE:  0.193326127734733\n",
      "R2:  0.44039249162382144\n"
     ]
    },
    {
     "data": {
      "text/plain": "(15.512991386137019,\n 632.1912049561365,\n 25.143412754758184,\n -8.249986264118114,\n 0.09984018913600672,\n 0.0373749916649063,\n 0.193326127734733,\n 0.44039249162382144)"
     },
     "execution_count": 226,
     "metadata": {},
     "output_type": "execute_result"
    }
   ],
   "source": [
    "y_map_unscaled = scaler.inverse_transform(y_map)\n",
    "print(y_map_unscaled[0:5])\n",
    "\n",
    "y_pred_map_unscaled = scaler.inverse_transform(y_pred_map)\n",
    "print(y_pred_map_unscaled[0:5])\n",
    "\n",
    "print(\"Metrics for nov 1st 2020 map, unscaled:\")\n",
    "get_metrics(y_map_unscaled, y_pred_map_unscaled)"
   ],
   "metadata": {
    "collapsed": false,
    "pycharm": {
     "name": "#%%\n"
    }
   }
  },
  {
   "cell_type": "code",
   "execution_count": 229,
   "outputs": [
    {
     "data": {
      "text/plain": "         lat         lon   density  snowtemp  soiltemp     omega       Tbh  \\\n0  33.165960   78.563280  0.077240  0.639721  0.885132  0.000000  0.684257   \n1  50.799440  110.306015  0.143803  0.803512  0.878953  0.702479  0.731068   \n2  52.377525  101.530080  0.145976  0.734173  0.992591  0.704958  0.726729   \n3  33.250010   80.803940  0.143302  0.689974  0.950213  0.000000  0.667114   \n4  34.605970   87.245850  0.143325  0.707016  0.865505  0.196491  0.650340   \n\n        Tbv        cf         h       voc       date  snow density  \\\n0  0.696721  0.207921  0.114647  0.000000 2020-11-01    127.034106   \n1  0.726857  0.256997  0.040906  0.254843 2020-11-01    150.330988   \n2  0.720115  0.221864  0.143078  0.197100 2020-11-01    151.091610   \n3  0.702663  0.208257  0.074864  0.000000 2020-11-01    150.155632   \n4  0.699951  0.316629  0.042201  0.000000 2020-11-01    150.163865   \n\n   density_unscaled  VOD_unscaled  density_pred_unscaled  VOD_pred_unscaled  \n0        127.034106      0.000000             151.681732          -0.005569  \n1        150.330988      0.382231             166.188248           0.493318  \n2        151.091610      0.295626             158.279633           0.569852  \n3        150.155632      0.000000             152.029907          -0.008379  \n4        150.163865      0.000000             153.207581           0.001564  ",
      "text/html": "<div>\n<style scoped>\n    .dataframe tbody tr th:only-of-type {\n        vertical-align: middle;\n    }\n\n    .dataframe tbody tr th {\n        vertical-align: top;\n    }\n\n    .dataframe thead th {\n        text-align: right;\n    }\n</style>\n<table border=\"1\" class=\"dataframe\">\n  <thead>\n    <tr style=\"text-align: right;\">\n      <th></th>\n      <th>lat</th>\n      <th>lon</th>\n      <th>density</th>\n      <th>snowtemp</th>\n      <th>soiltemp</th>\n      <th>omega</th>\n      <th>Tbh</th>\n      <th>Tbv</th>\n      <th>cf</th>\n      <th>h</th>\n      <th>voc</th>\n      <th>date</th>\n      <th>snow density</th>\n      <th>density_unscaled</th>\n      <th>VOD_unscaled</th>\n      <th>density_pred_unscaled</th>\n      <th>VOD_pred_unscaled</th>\n    </tr>\n  </thead>\n  <tbody>\n    <tr>\n      <th>0</th>\n      <td>33.165960</td>\n      <td>78.563280</td>\n      <td>0.077240</td>\n      <td>0.639721</td>\n      <td>0.885132</td>\n      <td>0.000000</td>\n      <td>0.684257</td>\n      <td>0.696721</td>\n      <td>0.207921</td>\n      <td>0.114647</td>\n      <td>0.000000</td>\n      <td>2020-11-01</td>\n      <td>127.034106</td>\n      <td>127.034106</td>\n      <td>0.000000</td>\n      <td>151.681732</td>\n      <td>-0.005569</td>\n    </tr>\n    <tr>\n      <th>1</th>\n      <td>50.799440</td>\n      <td>110.306015</td>\n      <td>0.143803</td>\n      <td>0.803512</td>\n      <td>0.878953</td>\n      <td>0.702479</td>\n      <td>0.731068</td>\n      <td>0.726857</td>\n      <td>0.256997</td>\n      <td>0.040906</td>\n      <td>0.254843</td>\n      <td>2020-11-01</td>\n      <td>150.330988</td>\n      <td>150.330988</td>\n      <td>0.382231</td>\n      <td>166.188248</td>\n      <td>0.493318</td>\n    </tr>\n    <tr>\n      <th>2</th>\n      <td>52.377525</td>\n      <td>101.530080</td>\n      <td>0.145976</td>\n      <td>0.734173</td>\n      <td>0.992591</td>\n      <td>0.704958</td>\n      <td>0.726729</td>\n      <td>0.720115</td>\n      <td>0.221864</td>\n      <td>0.143078</td>\n      <td>0.197100</td>\n      <td>2020-11-01</td>\n      <td>151.091610</td>\n      <td>151.091610</td>\n      <td>0.295626</td>\n      <td>158.279633</td>\n      <td>0.569852</td>\n    </tr>\n    <tr>\n      <th>3</th>\n      <td>33.250010</td>\n      <td>80.803940</td>\n      <td>0.143302</td>\n      <td>0.689974</td>\n      <td>0.950213</td>\n      <td>0.000000</td>\n      <td>0.667114</td>\n      <td>0.702663</td>\n      <td>0.208257</td>\n      <td>0.074864</td>\n      <td>0.000000</td>\n      <td>2020-11-01</td>\n      <td>150.155632</td>\n      <td>150.155632</td>\n      <td>0.000000</td>\n      <td>152.029907</td>\n      <td>-0.008379</td>\n    </tr>\n    <tr>\n      <th>4</th>\n      <td>34.605970</td>\n      <td>87.245850</td>\n      <td>0.143325</td>\n      <td>0.707016</td>\n      <td>0.865505</td>\n      <td>0.196491</td>\n      <td>0.650340</td>\n      <td>0.699951</td>\n      <td>0.316629</td>\n      <td>0.042201</td>\n      <td>0.000000</td>\n      <td>2020-11-01</td>\n      <td>150.163865</td>\n      <td>150.163865</td>\n      <td>0.000000</td>\n      <td>153.207581</td>\n      <td>0.001564</td>\n    </tr>\n  </tbody>\n</table>\n</div>"
     },
     "execution_count": 229,
     "metadata": {},
     "output_type": "execute_result"
    }
   ],
   "source": [
    "#Now merge back with latlon:\n",
    "latlon1['density_unscaled'] = y_map_unscaled[:,0]\n",
    "latlon1['VOD_unscaled'] = y_map_unscaled[:,1]\n",
    "latlon1['density_pred_unscaled'] = y_pred_map_unscaled[:,0]\n",
    "latlon1['VOD_pred_unscaled'] = y_pred_map_unscaled[:,1]\n",
    "latlon1.head()"
   ],
   "metadata": {
    "collapsed": false,
    "pycharm": {
     "name": "#%%\n"
    }
   }
  },
  {
   "cell_type": "code",
   "execution_count": 230,
   "outputs": [],
   "source": [
    "latlon1.to_parquet('LSTM_Map_30/LSTM_Map_30_pred.parquet')"
   ],
   "metadata": {
    "collapsed": false,
    "pycharm": {
     "name": "#%%\n"
    }
   }
  },
  {
   "cell_type": "code",
   "execution_count": null,
   "outputs": [],
   "source": [],
   "metadata": {
    "collapsed": false,
    "pycharm": {
     "name": "#%%\n"
    }
   }
  },
  {
   "cell_type": "markdown",
   "source": [
    "## Map Best performer for VOD:"
   ],
   "metadata": {
    "collapsed": false,
    "pycharm": {
     "name": "#%% md\n"
    }
   }
  },
  {
   "cell_type": "code",
   "execution_count": 231,
   "outputs": [
    {
     "name": "stdout",
     "output_type": "stream",
     "text": [
      "Length of df of unique latlon paris that meet cutoff:  38849\n",
      "             lat        lon\n",
      "15565  59.918694 -121.78942\n",
      "25923  63.144420 -113.38693\n",
      "28344  63.928204  121.88278\n",
      "21260  61.636730  127.76453\n",
      "33127  65.734665 -139.34130\n",
      "Length of testdate:  58314\n",
      "           density  snowtemp  soiltemp     omega       Tbh       Tbv  \\\n",
      "30586952  0.170206  0.708772  0.845780  0.681356  0.705369  0.713866   \n",
      "30586953  0.167071  0.730467  0.868891  0.680220  0.688666  0.689544   \n",
      "30586954  0.159643  0.697934  0.845582  0.680000  0.690524  0.704247   \n",
      "30586955  0.170206  0.708772  0.857352  0.681035  0.701983  0.712883   \n",
      "30586956  0.174646  0.704454  0.869552  0.700000  0.698099  0.709491   \n",
      "\n",
      "                cf         h       voc        lat        lon       date  \n",
      "30586952  0.323790  0.090114  0.064464  65.565310 -179.95332 2020-11-01  \n",
      "30586953  0.322650  0.085397  0.004672  65.229836 -179.95332 2020-11-01  \n",
      "30586954  0.314897  0.095943  0.068366  65.734665 -179.85995 2020-11-01  \n",
      "30586955  0.336332  0.088294  0.065556  65.565310 -179.85995 2020-11-01  \n",
      "30586956  0.353848  0.088024  0.064836  65.565310 -179.76660 2020-11-01  \n",
      "Length of testdate after merge:  19681\n",
      "    density  snowtemp  soiltemp     omega       Tbh       Tbv        cf  \\\n",
      "0  0.145627  0.666977  0.985380  0.700000  0.713284  0.714260  0.283224   \n",
      "1  0.144962  0.686689  0.971066  0.700826  0.716384  0.721152  0.276523   \n",
      "2  0.147401  0.663709  0.999254  0.702586  0.708530  0.707558  0.283099   \n",
      "3  0.144691  0.694415  0.993317  0.700000  0.721169  0.716186  0.262998   \n",
      "4  0.144827  0.697224  0.993719  0.700000  0.721633  0.716051  0.258180   \n",
      "\n",
      "          h       voc        lat        lon       date  \n",
      "0  0.105285  0.068258  67.493700 -162.30809 2020-11-01  \n",
      "1  0.110016  0.077796  67.676765 -162.21474 2020-11-01  \n",
      "2  0.106186  0.064648  67.312030 -162.21474 2020-11-01  \n",
      "3  0.118349  0.078642  68.047226 -162.12137 2020-11-01  \n",
      "4  0.120372  0.078642  68.047226 -162.02802 2020-11-01  \n",
      "Final len testdate:  19681\n",
      "Final len latlon1:  19681\n"
     ]
    }
   ],
   "source": [
    "test1 = test[test['date'] <= '2020-11-1']  #All records up to our map day\n",
    "\n",
    "latlon1 = latlon_setup(test1, 80) #For VOD we use the n_input = 80 length, as this was the best performer.\n",
    "print(latlon1.head())  #Maximum possible pixels.\n",
    "\n",
    "testdate = test[test['date'] == '2020-11-1']  #our y_test, essentially.\n",
    "print(\"Length of testdate: \", len(testdate))\n",
    "print(testdate.head())  #The list of pixels present on map day\n",
    "\n",
    "#Only keep pixels on testdate that are also present in latlon1:\n",
    "testdate = pd.merge(testdate, latlon1, how='inner', on=['lat', 'lon'])\n",
    "latlon1 = pd.merge(latlon1, testdate, how='inner', on=['lat', 'lon'])\n",
    "print(\"Length of testdate after merge: \", len(testdate))\n",
    "print(testdate.head())\n",
    "print(\"Final len testdate: \", len(testdate))  #80: 19681, 30: 42596\n",
    "print(\"Final len latlon1: \", len(latlon1))"
   ],
   "metadata": {
    "collapsed": false,
    "pycharm": {
     "name": "#%%\n"
    }
   }
  },
  {
   "cell_type": "code",
   "execution_count": 232,
   "outputs": [
    {
     "name": "stdout",
     "output_type": "stream",
     "text": [
      "Started at:  2022-12-21 17:53:01\n",
      "Counter:  1000 , Shape X:  (1000, 80, 7) 2022-12-21 17:53:30\n",
      "Wipeout:  0\n",
      "Counter:  2000 , Shape X:  (1000, 80, 7) 2022-12-21 17:54:02\n",
      "Wipeout:  1\n",
      "Counter:  3000 , Shape X:  (1000, 80, 7) 2022-12-21 17:54:30\n",
      "Wipeout:  2\n",
      "Counter:  4000 , Shape X:  (1000, 80, 7) 2022-12-21 17:54:57\n",
      "Wipeout:  3\n",
      "Counter:  5000 , Shape X:  (1000, 80, 7) 2022-12-21 17:55:23\n",
      "Wipeout:  4\n",
      "Counter:  6000 , Shape X:  (1000, 80, 7) 2022-12-21 17:55:50\n",
      "Wipeout:  5\n",
      "Counter:  7000 , Shape X:  (1000, 80, 7) 2022-12-21 17:56:18\n",
      "Wipeout:  6\n",
      "Counter:  8000 , Shape X:  (1000, 80, 7) 2022-12-21 17:56:47\n",
      "Wipeout:  7\n",
      "Counter:  9000 , Shape X:  (1000, 80, 7) 2022-12-21 17:57:15\n",
      "Wipeout:  8\n",
      "Counter:  10000 , Shape X:  (1000, 80, 7) 2022-12-21 17:57:41\n",
      "Wipeout:  9\n",
      "Counter:  11000 , Shape X:  (1000, 80, 7) 2022-12-21 17:58:09\n",
      "Wipeout:  10\n",
      "Counter:  12000 , Shape X:  (1000, 80, 7) 2022-12-21 17:58:38\n",
      "Wipeout:  11\n",
      "Counter:  13000 , Shape X:  (1000, 80, 7) 2022-12-21 17:59:13\n",
      "Wipeout:  12\n",
      "Counter:  14000 , Shape X:  (1000, 80, 7) 2022-12-21 17:59:48\n",
      "Wipeout:  13\n",
      "Counter:  15000 , Shape X:  (1000, 80, 7) 2022-12-21 18:00:20\n",
      "Wipeout:  14\n",
      "Counter:  16000 , Shape X:  (1000, 80, 7) 2022-12-21 18:00:55\n",
      "Wipeout:  15\n",
      "Counter:  17000 , Shape X:  (1000, 80, 7) 2022-12-21 18:01:26\n",
      "Wipeout:  16\n",
      "Counter:  18000 , Shape X:  (1000, 80, 7) 2022-12-21 18:01:58\n",
      "Wipeout:  17\n",
      "Counter:  19000 , Shape X:  (1000, 80, 7) 2022-12-21 18:02:30\n",
      "Wipeout:  18\n",
      "Save last: \n",
      "Done! And it only took from  2022-12-21 17:53:01  to  2022-12-21 18:02:53\n"
     ]
    }
   ],
   "source": [
    "n_input = 80\n",
    "n_features = 7\n",
    "X = np.empty([0, n_input, n_features])\n",
    "y = np.empty([0, 2])\n",
    "#print(X.shape)\n",
    "#print(y.shape)\n",
    "path = 'LSTM_Map_80/LSTM_Map_Data_80_'\n",
    "counter = 0\n",
    "savept = 0\n",
    "data_prep_last_only(test1, latlon1, path, n_input, n_features, X, y, counter, savept)"
   ],
   "metadata": {
    "collapsed": false,
    "pycharm": {
     "name": "#%%\n"
    }
   }
  },
  {
   "cell_type": "code",
   "execution_count": 233,
   "outputs": [
    {
     "name": "stdout",
     "output_type": "stream",
     "text": [
      "Test:  <_io.BufferedReader name='LSTM_Map_80\\\\LSTM_Map_Data_80_0.npy'> (1000, 80, 7)\n",
      "Test:  <_io.BufferedReader name='LSTM_Map_80\\\\LSTM_Map_Data_80_1.npy'> (2000, 80, 7)\n",
      "Test:  <_io.BufferedReader name='LSTM_Map_80\\\\LSTM_Map_Data_80_10.npy'> (3000, 80, 7)\n",
      "Test:  <_io.BufferedReader name='LSTM_Map_80\\\\LSTM_Map_Data_80_11.npy'> (4000, 80, 7)\n",
      "Test:  <_io.BufferedReader name='LSTM_Map_80\\\\LSTM_Map_Data_80_12.npy'> (5000, 80, 7)\n",
      "Test:  <_io.BufferedReader name='LSTM_Map_80\\\\LSTM_Map_Data_80_13.npy'> (6000, 80, 7)\n",
      "Test:  <_io.BufferedReader name='LSTM_Map_80\\\\LSTM_Map_Data_80_14.npy'> (7000, 80, 7)\n",
      "Test:  <_io.BufferedReader name='LSTM_Map_80\\\\LSTM_Map_Data_80_15.npy'> (8000, 80, 7)\n",
      "Test:  <_io.BufferedReader name='LSTM_Map_80\\\\LSTM_Map_Data_80_16.npy'> (9000, 80, 7)\n",
      "Test:  <_io.BufferedReader name='LSTM_Map_80\\\\LSTM_Map_Data_80_17.npy'> (10000, 80, 7)\n",
      "Test:  <_io.BufferedReader name='LSTM_Map_80\\\\LSTM_Map_Data_80_18.npy'> (11000, 80, 7)\n",
      "Test:  <_io.BufferedReader name='LSTM_Map_80\\\\LSTM_Map_Data_80_2.npy'> (12000, 80, 7)\n",
      "Test:  <_io.BufferedReader name='LSTM_Map_80\\\\LSTM_Map_Data_80_3.npy'> (13000, 80, 7)\n",
      "Test:  <_io.BufferedReader name='LSTM_Map_80\\\\LSTM_Map_Data_80_4.npy'> (14000, 80, 7)\n",
      "Test:  <_io.BufferedReader name='LSTM_Map_80\\\\LSTM_Map_Data_80_5.npy'> (15000, 80, 7)\n",
      "Test:  <_io.BufferedReader name='LSTM_Map_80\\\\LSTM_Map_Data_80_6.npy'> (16000, 80, 7)\n",
      "Test:  <_io.BufferedReader name='LSTM_Map_80\\\\LSTM_Map_Data_80_7.npy'> (17000, 80, 7)\n",
      "Test:  <_io.BufferedReader name='LSTM_Map_80\\\\LSTM_Map_Data_80_8.npy'> (18000, 80, 7)\n",
      "Test:  <_io.BufferedReader name='LSTM_Map_80\\\\LSTM_Map_Data_80_9.npy'> (19000, 80, 7)\n",
      "Test:  <_io.BufferedReader name='LSTM_Map_80\\\\LSTM_Map_Data_80__last.npy'> (19681, 80, 7)\n",
      "(19681, 80, 7)\n",
      "(19681, 2)\n",
      "[[0.1448367  0.20626009]\n",
      " [0.14241871 0.14182583]\n",
      " [0.1439898  0.15054344]\n",
      " [0.1461293  0.16545983]\n",
      " [0.1435301  0.06631776]]\n"
     ]
    }
   ],
   "source": [
    "X_map2 = np.empty([0, n_input, n_features])\n",
    "y_map2 = np.empty([0, 2])\n",
    "path = 'LSTM_Map_80'\n",
    "X_map2, y_map2 = assemble_test(X_map2, y_map2, path)\n",
    "\n",
    "print(X_map2.shape)\n",
    "print(y_map2.shape)\n",
    "print(y_map2[0:5])"
   ],
   "metadata": {
    "collapsed": false,
    "pycharm": {
     "name": "#%%\n"
    }
   }
  },
  {
   "cell_type": "code",
   "execution_count": 234,
   "outputs": [],
   "source": [
    "model80 = keras.models.load_model(\"ModelCheckpoints80/model80sparse_final.h5\")"
   ],
   "metadata": {
    "collapsed": false,
    "pycharm": {
     "name": "#%%\n"
    }
   }
  },
  {
   "cell_type": "code",
   "execution_count": 235,
   "outputs": [
    {
     "name": "stdout",
     "output_type": "stream",
     "text": [
      "40/40 [==============================] - 16s 366ms/step\n"
     ]
    }
   ],
   "source": [
    "y_pred_map2 = model80.predict(X_map2, batch_size=batch_size, callbacks=callbacks_list, verbose=1)"
   ],
   "metadata": {
    "collapsed": false,
    "pycharm": {
     "name": "#%%\n"
    }
   }
  },
  {
   "cell_type": "code",
   "execution_count": 236,
   "outputs": [
    {
     "name": "stdout",
     "output_type": "stream",
     "text": [
      "[[1.50692829e+02 3.09363981e-01]\n",
      " [1.49846532e+02 2.12720757e-01]\n",
      " [1.50396414e+02 2.25796081e-01]\n",
      " [1.51145241e+02 2.48168768e-01]\n",
      " [1.50235521e+02 9.94682281e-02]]\n",
      "[[157.51984      0.29612124]\n",
      " [152.01326      0.2510319 ]\n",
      " [149.27347      0.34343573]\n",
      " [153.90227      0.27100435]\n",
      " [153.64041      0.30541503]]\n"
     ]
    }
   ],
   "source": [
    "y_map2_unscaled = scaler.inverse_transform(y_map2)\n",
    "print(y_map2_unscaled[0:5])\n",
    "\n",
    "y_pred_map2_unscaled = scaler.inverse_transform(y_pred_map2)\n",
    "print(y_pred_map2_unscaled[0:5])"
   ],
   "metadata": {
    "collapsed": false,
    "pycharm": {
     "name": "#%%\n"
    }
   }
  },
  {
   "cell_type": "code",
   "execution_count": 237,
   "outputs": [
    {
     "name": "stdout",
     "output_type": "stream",
     "text": [
      "Metrics for nov 1st 2020 map, unscaled:\n",
      "Snow Density Performance: \n",
      "MAE:  19.121790100825795\n",
      "MSE:  1134.7667102886744\n",
      "RMSE:  33.68629855428872\n",
      "R2:  -15.709700858592182\n",
      "VOD Performance: \n",
      "MAE:  0.08992430075433043\n",
      "MSE:  0.028290506647678224\n",
      "RMSE:  0.16819781998491604\n",
      "R2:  0.28307782441189866\n"
     ]
    },
    {
     "data": {
      "text/plain": "(19.121790100825795,\n 1134.7667102886744,\n 33.68629855428872,\n -15.709700858592182,\n 0.08992430075433043,\n 0.028290506647678224,\n 0.16819781998491604,\n 0.28307782441189866)"
     },
     "execution_count": 237,
     "metadata": {},
     "output_type": "execute_result"
    }
   ],
   "source": [
    "print(\"Metrics for nov 1st 2020 map, unscaled:\")\n",
    "get_metrics(y_map2_unscaled, y_pred_map2_unscaled)"
   ],
   "metadata": {
    "collapsed": false,
    "pycharm": {
     "name": "#%%\n"
    }
   }
  },
  {
   "cell_type": "code",
   "execution_count": 239,
   "outputs": [],
   "source": [
    "#Now merge back with latlon:\n",
    "latlon1['density_unscaled'] = y_map2_unscaled[:, 0]\n",
    "latlon1['VOD_unscaled'] = y_map2_unscaled[:, 1]\n",
    "latlon1['density_pred_unscaled'] = y_pred_map2_unscaled[:, 0]\n",
    "latlon1['VOD_pred_unscaled'] = y_pred_map2_unscaled[:, 1]\n",
    "latlon1.head()\n",
    "latlon1.to_parquet('LSTM_Map_80/LSTM_Map_80_pred.parquet')"
   ],
   "metadata": {
    "collapsed": false,
    "pycharm": {
     "name": "#%%\n"
    }
   }
  },
  {
   "cell_type": "code",
   "execution_count": null,
   "outputs": [],
   "source": [],
   "metadata": {
    "collapsed": false,
    "pycharm": {
     "name": "#%%\n"
    }
   }
  }
 ]
}